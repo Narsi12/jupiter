{
 "cells": [
  {
   "cell_type": "code",
   "execution_count": 18,
   "id": "32cbcd8d",
   "metadata": {},
   "outputs": [
    {
     "name": "stdout",
     "output_type": "stream",
     "text": [
      "10.797958971132712\n"
     ]
    }
   ],
   "source": [
    "x=5\n",
    "e=x+1\n",
    "d=(1*(e**0.5)*4)+1\n",
    "print(d)"
   ]
  },
  {
   "cell_type": "code",
   "execution_count": 1,
   "id": "42b53bf1",
   "metadata": {},
   "outputs": [
    {
     "ename": "SyntaxError",
     "evalue": "invalid non-printable character U+00A0 (2682117245.py, line 5)",
     "output_type": "error",
     "traceback": [
      "\u001b[1;36m  File \u001b[1;32m\"C:\\Users\\narsimhac\\AppData\\Local\\Temp\\ipykernel_13520\\2682117245.py\"\u001b[1;36m, line \u001b[1;32m5\u001b[0m\n\u001b[1;33m    \u001b[0m\n\u001b[1;37m    ^\u001b[0m\n\u001b[1;31mSyntaxError\u001b[0m\u001b[1;31m:\u001b[0m invalid non-printable character U+00A0\n"
     ]
    }
   ],
   "source": [
    "from datetime import date\n",
    "import datetime\n",
    "days=['Monday', 'Tuesday', 'Wednesday', 'Thursday', 'Friday', 'Saturday', 'Sunday']\n",
    "\n",
    " \n",
    "\n",
    "#get the yy-mm-dd\n",
    "current_dateTime = date.today()\n",
    "#get today hh-mm-ss\n",
    "current_time = now.strftime(\"%H:%M:%S\")\n",
    "#get today day\n",
    "now_1 = datetime.datetime.now()\n",
    "today=now_1.strftime(\"%A\")\n",
    "for i in days:\n",
    "    if i==today:\n",
    "        print(\"today is a working day\")\n",
    "    elif i == today or i == today and str(current_time) == \"19:10:1\":\n",
    "        print('today is a not working day')"
   ]
  },
  {
   "cell_type": "code",
   "execution_count": 5,
   "id": "15276103",
   "metadata": {},
   "outputs": [
    {
     "name": "stdout",
     "output_type": "stream",
     "text": [
      "2\n",
      "3\n",
      "5\n",
      "7\n",
      "9\n",
      "11\n",
      "13\n",
      "15\n",
      "17\n",
      "19\n"
     ]
    }
   ],
   "source": [
    "s=1\n",
    "e=20\n",
    "for num in range(s,e+1):\n",
    "    if num>1:\n",
    "        for i in range(2,num):\n",
    "            if num%2==0:\n",
    "                break\n",
    "        else:\n",
    "            print(num)\n",
    "     "
   ]
  },
  {
   "cell_type": "code",
   "execution_count": 104,
   "id": "a3bfc060",
   "metadata": {},
   "outputs": [
    {
     "name": "stdout",
     "output_type": "stream",
     "text": [
      "[1, 1]\n",
      "[1, 2]\n",
      "[2, 1]\n",
      "[2, 2]\n",
      "[3, 5]\n",
      "[5, 3]\n"
     ]
    }
   ],
   "source": [
    "a=[2,3,3,5,6,1,9]\n",
    "t=6\n",
    "c=[]\n",
    "y={}\n",
    "for i in range(len(a)):\n",
    "    for j in range(len(a)):\n",
    "        if a[i]+a[j] == t:\n",
    "            x=[i,j]\n",
    "            print(x)\n"
   ]
  },
  {
   "cell_type": "code",
   "execution_count": 19,
   "id": "97272302",
   "metadata": {},
   "outputs": [
    {
     "name": "stdout",
     "output_type": "stream",
     "text": [
      "Enter first value :5\n",
      "Enter second value : 3\n",
      "y =  9.462295425357112\n"
     ]
    }
   ],
   "source": [
    "x=int(input('Enter first value :'))\n",
    "z=int(input('Enter second value : '))\n",
    "r=((x**0.5)+1)/7 # value of x\n",
    "e=z+1\n",
    "d=(1*(e**0.5)*4)+1 # value of z\n",
    "y=r+d\n",
    "print('y = ',y)\n"
   ]
  },
  {
   "cell_type": "code",
   "execution_count": 2,
   "id": "efcce98a",
   "metadata": {},
   "outputs": [
    {
     "name": "stdout",
     "output_type": "stream",
     "text": [
      "Enter your distance : 100\n",
      "Enter Your Time : 60\n",
      "Enter Your intial velocity : 1\n",
      "Calculated acceleration: 0.02222222222222222 m/s^2\n"
     ]
    }
   ],
   "source": [
    "displacement = float(input(\"Enter your distance : \"))\n",
    "time = float(input(\"Enter Your Time : \"))\n",
    "initial_velocity = float(input('Enter Your intial velocity : '))\n",
    "x=(2*displacement)/time**2\n",
    "y=(2*initial_velocity)/time\n",
    "acceleration = x-y\n",
    "print('Calculated acceleration:',acceleration ,  'm/s^2')\n"
   ]
  },
  {
   "cell_type": "code",
   "execution_count": 10,
   "id": "ebb0272d",
   "metadata": {},
   "outputs": [
    {
     "name": "stdout",
     "output_type": "stream",
     "text": [
      "Both strings are same please enter different strings \n",
      "0\n"
     ]
    }
   ],
   "source": [
    "x='python'\n",
    "y='python'\n",
    "count=0\n",
    "if x==y:\n",
    "    print('Both strings are same please enter different strings ')\n",
    "else:\n",
    "    for i in x:\n",
    "        for j in y:\n",
    "            if i==j:\n",
    "                count+=1\n",
    "                print(i)\n",
    "print(count)"
   ]
  },
  {
   "cell_type": "code",
   "execution_count": 13,
   "id": "7988e76b",
   "metadata": {},
   "outputs": [
    {
     "name": "stdout",
     "output_type": "stream",
     "text": [
      "Enter your first string : python\n",
      "Enter your second string : path\n"
     ]
    },
    {
     "data": {
      "text/plain": [
       "'matched characters 3'"
      ]
     },
     "execution_count": 13,
     "metadata": {},
     "output_type": "execute_result"
    }
   ],
   "source": [
    "def matchfound(x,y):\n",
    "    if x==y:\n",
    "        return \"Both strings are same enter different strings\"\n",
    "    else:\n",
    "        count=0\n",
    "        for i in x:\n",
    "            for j in y:\n",
    "                if i==j:\n",
    "                    count+=1\n",
    "                    \n",
    "        return f'matched characters {count}'\n",
    "x=input('Enter your first string : ')\n",
    "y=input('Enter your second string : ')\n",
    "matchfound(x,y)"
   ]
  },
  {
   "cell_type": "code",
   "execution_count": null,
   "id": "9e1ba6a6",
   "metadata": {},
   "outputs": [],
   "source": [
    "a=\"fb.com?name-rajiv-23?age\"\n",
    "#output: {\"name:rajiv\",\"age:23}"
   ]
  },
  {
   "cell_type": "code",
   "execution_count": 5,
   "id": "c14b434f",
   "metadata": {},
   "outputs": [
    {
     "name": "stdout",
     "output_type": "stream",
     "text": [
      "age\n",
      "['fb.com', 'name-rajiv-23', 'age']\n"
     ]
    }
   ],
   "source": [
    "a=\"fb.com?name-rajiv-23?age\"\n"
   ]
  },
  {
   "cell_type": "code",
   "execution_count": 46,
   "id": "a0e2c86f",
   "metadata": {},
   "outputs": [
    {
     "name": "stdout",
     "output_type": "stream",
     "text": [
      "          * \n",
      "        * * * \n",
      "      * * * * * \n",
      "    * * * * * * * \n",
      "  * * * * * * * * * \n",
      "* * * * * * * * * * * \n",
      "  * * * * * * * * * \n",
      "    * * * * * * * \n",
      "      * * * * * \n",
      "        * * * \n",
      "          * \n",
      "            \n"
     ]
    }
   ],
   "source": [
    "n=6\n",
    "for i in range(n):\n",
    "    for j in range(i+1,n):\n",
    "        print(' ',end=' ')\n",
    "    for j in range(i+1):\n",
    "        print('*',end=' ')\n",
    "    for j in range(i):\n",
    "        print('*',end=' ')\n",
    "    print()\n",
    "for i in range(n):\n",
    "    for j in range(i+1):\n",
    "        print(' ',end=' ')\n",
    "    for j in range(i,n-1):\n",
    "        print('*',end=' ')\n",
    "    for j in range(i+1,n-1):\n",
    "        print('*',end=' ')\n",
    "    print()"
   ]
  },
  {
   "cell_type": "code",
   "execution_count": 76,
   "id": "1bf161f1",
   "metadata": {},
   "outputs": [
    {
     "name": "stdout",
     "output_type": "stream",
     "text": [
      "Today is Working Day\n"
     ]
    }
   ],
   "source": [
    "from datetime import date\n",
    "import datetime\n",
    "today = date.today()\n",
    "day_of_week = today.strftime(\"%A\")\n",
    "curr_time = datetime.datetime.now().strftime(\"%H:%M:%S %p\")\n",
    "days = [\"Monday\", \"Tuesday\", \"Wednesday\", \"Thursday\", \"Friday\"]\n",
    "week_ends =['Saturday','Sunday']\n",
    "for i in days:\n",
    "    if day_of_week == i:\n",
    "        print('Today is Working Day')\n",
    "    elif day_of_week in week_ends and curr_time >= \"15:44:02\":\n",
    "        print('Today is Working Day')\n",
    "        break\n",
    "    else:\n",
    "        print('Today is Not Working Day')\n",
    "        break\n",
    "         "
   ]
  },
  {
   "cell_type": "code",
   "execution_count": null,
   "id": "3e94d5ba",
   "metadata": {},
   "outputs": [],
   "source": []
  },
  {
   "cell_type": "code",
   "execution_count": null,
   "id": "19410db8",
   "metadata": {},
   "outputs": [],
   "source": []
  },
  {
   "cell_type": "code",
   "execution_count": null,
   "id": "2204052a",
   "metadata": {},
   "outputs": [],
   "source": []
  },
  {
   "cell_type": "code",
   "execution_count": null,
   "id": "99fecc9b",
   "metadata": {},
   "outputs": [],
   "source": []
  }
 ],
 "metadata": {
  "kernelspec": {
   "display_name": "Python 3 (ipykernel)",
   "language": "python",
   "name": "python3"
  },
  "language_info": {
   "codemirror_mode": {
    "name": "ipython",
    "version": 3
   },
   "file_extension": ".py",
   "mimetype": "text/x-python",
   "name": "python",
   "nbconvert_exporter": "python",
   "pygments_lexer": "ipython3",
   "version": "3.9.13"
  }
 },
 "nbformat": 4,
 "nbformat_minor": 5
}
