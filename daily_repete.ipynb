{
 "cells": [
  {
   "cell_type": "code",
   "execution_count": 34,
   "id": "4ef16515",
   "metadata": {},
   "outputs": [
    {
     "name": "stdout",
     "output_type": "stream",
     "text": [
      "enter your age : qwe\n",
      "strings are not allowed \n"
     ]
    }
   ],
   "source": [
    "class ageinfo(Exception):\n",
    "    pass\n",
    "age_input = input('enter your age : ')\n",
    "try:\n",
    "    if age_input.strip() == '':\n",
    "        raise ageinfo('Enter a proper age! ')\n",
    "    age = int(age_input)\n",
    "    if age <= 18:\n",
    "        raise ageinfo('your not eligible to vote!')\n",
    "    else:\n",
    "        raise ageinfo('your eligible to vote')\n",
    "except ValueError:\n",
    "    print('strings are not allowed ')\n",
    "except ageinfo as e:\n",
    "    print(e)"
   ]
  },
  {
   "cell_type": "code",
   "execution_count": null,
   "id": "07933a9a",
   "metadata": {},
   "outputs": [],
   "source": [
    "def mainfun(func):\n",
    "    def wrapper():\n",
    "        print('before function')\n",
    "        func()\n",
    "        print('after function')\n",
    "    return wrapper\n",
    "\n",
    "@mainfun\n",
    "def valuess():\n",
    "    for i in range(1, 10):\n",
    "        print(i)\n",
    "\n",
    "valuess()\n"
   ]
  },
  {
   "cell_type": "code",
   "execution_count": 63,
   "id": "19d73df6",
   "metadata": {},
   "outputs": [
    {
     "name": "stdout",
     "output_type": "stream",
     "text": [
      "340\n"
     ]
    }
   ],
   "source": [
    "def vals(func):\n",
    "    def wrapper(x,y):\n",
    "        return func(x,y)*10\n",
    "    return wrapper\n",
    "\n",
    "@vals\n",
    "def num(x,y):\n",
    "    return (x+y)\n",
    "c=num(12,22)\n",
    "print(c)"
   ]
  },
  {
   "cell_type": "code",
   "execution_count": 71,
   "id": "b8c8fdbd",
   "metadata": {},
   "outputs": [
    {
     "name": "stdout",
     "output_type": "stream",
     "text": [
      "narsimha\n",
      "1\n",
      "2\n",
      "3\n",
      "4\n"
     ]
    }
   ],
   "source": [
    "def aa(*args):\n",
    "    for i in args:\n",
    "        print(i)\n",
    "aa('narsimha',1,2,3,4)"
   ]
  },
  {
   "cell_type": "code",
   "execution_count": 72,
   "id": "1540b4b0",
   "metadata": {},
   "outputs": [
    {
     "name": "stdout",
     "output_type": "stream",
     "text": [
      "name:narsimha\n"
     ]
    }
   ],
   "source": [
    "def vals(**na):\n",
    "    for key,val in na.items():\n",
    "        print(f\"{key}:{val}\")\n",
    "vals(name='narsimha')"
   ]
  },
  {
   "cell_type": "code",
   "execution_count": 74,
   "id": "43b1966b",
   "metadata": {},
   "outputs": [
    {
     "name": "stdout",
     "output_type": "stream",
     "text": [
      "a\n",
      "narsimh\n"
     ]
    }
   ],
   "source": [
    "name = 'narsimha'\n",
    "x=''\n",
    "y=''\n",
    "for i in name:\n",
    "    if name.count(i)>1 and i not in y:\n",
    "        y+=i\n",
    "print(y)\n",
    "\n",
    "for i in name:\n",
    "    if i not in x:\n",
    "        x+=i\n",
    "print(x)"
   ]
  },
  {
   "cell_type": "code",
   "execution_count": 75,
   "id": "025b5af7",
   "metadata": {},
   "outputs": [
    {
     "name": "stdout",
     "output_type": "stream",
     "text": [
      "[9, 2, 3, 4, 5, 6, 7, 8]\n"
     ]
    }
   ],
   "source": [
    "nums=[9,2,3,4,2,4,5,5,5,6,7,8,8]\n",
    "v=[]\n",
    "for i in nums:\n",
    "    if i not in v:\n",
    "        v.append(i)\n",
    "print(v)"
   ]
  },
  {
   "cell_type": "code",
   "execution_count": 81,
   "id": "7d7dce24",
   "metadata": {},
   "outputs": [
    {
     "name": "stdout",
     "output_type": "stream",
     "text": [
      "[(2, 1), (1, 2), (2, 3), (4, 4), (2, 5)]\n"
     ]
    }
   ],
   "source": [
    "l = [(2, 5), (1, 2), (4, 4), (2, 3), (2, 1)]\n",
    "for i in range(len(l)):\n",
    "    for j in range(i+1,len(l)):\n",
    "        if l[i][1]>l[j][1]:\n",
    "            l[i],l[j]=l[j],l[i]\n",
    "print(l)"
   ]
  },
  {
   "cell_type": "code",
   "execution_count": 85,
   "id": "b222cbfe",
   "metadata": {},
   "outputs": [
    {
     "name": "stdout",
     "output_type": "stream",
     "text": [
      "my name is Narsimha "
     ]
    }
   ],
   "source": [
    "x=['m','na','i','Nar']\n",
    "y=['y','me','s','simha']\n",
    "for i in x:\n",
    "    for j in y:\n",
    "        if x.index(i)==y.index(j):\n",
    "            print(i+j,end=' ')"
   ]
  },
  {
   "cell_type": "code",
   "execution_count": 86,
   "id": "fb39da98",
   "metadata": {},
   "outputs": [
    {
     "name": "stdout",
     "output_type": "stream",
     "text": [
      "3 * 1 = 3\n",
      "3 * 2 = 6\n",
      "3 * 3 = 9\n",
      "3 * 4 = 12\n",
      "3 * 5 = 15\n",
      "3 * 6 = 18\n",
      "3 * 7 = 21\n",
      "3 * 8 = 24\n",
      "3 * 9 = 27\n",
      "3 * 10 = 30\n"
     ]
    }
   ],
   "source": [
    "n=3\n",
    "for i in range(1,11):\n",
    "    print(n,\"*\",i,\"=\",n*i)"
   ]
  },
  {
   "cell_type": "code",
   "execution_count": 96,
   "id": "2860084d",
   "metadata": {},
   "outputs": [
    {
     "data": {
      "text/plain": [
       "[1, 2, 3, 4, 5, 6, 7, 8, 9]"
      ]
     },
     "execution_count": 96,
     "metadata": {},
     "output_type": "execute_result"
    }
   ],
   "source": [
    "x=[1,2,3,4,5,6,5,4,3,7,8,9,9]\n",
    "y=[i for n,i in enumerate(x) if i not in x[:n]]\n",
    "y"
   ]
  },
  {
   "cell_type": "code",
   "execution_count": 100,
   "id": "68ef9980",
   "metadata": {},
   "outputs": [
    {
     "data": {
      "text/plain": [
       "['I', 'EVOL', 'NOHTYP']"
      ]
     },
     "execution_count": 100,
     "metadata": {},
     "output_type": "execute_result"
    }
   ],
   "source": [
    "sen=\"I LOVE PYTHON\"\n",
    "y=sen.split()\n",
    "d=[]\n",
    "for i in y:\n",
    "    d.append(i[::-1])\n",
    "d"
   ]
  },
  {
   "cell_type": "code",
   "execution_count": 104,
   "id": "82943b1b",
   "metadata": {},
   "outputs": [
    {
     "name": "stdout",
     "output_type": "stream",
     "text": [
      "[2, 6]\n",
      "[3, 5]\n"
     ]
    }
   ],
   "source": [
    "x=[4,2,3,5,6]\n",
    "target=8\n",
    "for i in range(len(x)):\n",
    "    for j in range(i+1,len(x)):\n",
    "        if x[i]+x[j] == target:\n",
    "            print([x[i],x[j]])"
   ]
  },
  {
   "cell_type": "code",
   "execution_count": 105,
   "id": "70afcaf2",
   "metadata": {},
   "outputs": [
    {
     "name": "stdout",
     "output_type": "stream",
     "text": [
      "0\n",
      "1\n",
      "1\n",
      "2\n",
      "3\n",
      "5\n",
      "8\n",
      "13\n",
      "21\n",
      "34\n"
     ]
    }
   ],
   "source": [
    "a=0\n",
    "b=1\n",
    "print(a)\n",
    "print(b)\n",
    "for i in range(2,10):\n",
    "    c=a+b\n",
    "    a=b\n",
    "    b=c\n",
    "    print(c)"
   ]
  },
  {
   "cell_type": "code",
   "execution_count": 109,
   "id": "b6c27e5e",
   "metadata": {},
   "outputs": [
    {
     "name": "stdout",
     "output_type": "stream",
     "text": [
      "120\n"
     ]
    }
   ],
   "source": [
    "fact = 1\n",
    "for i in range(1,6):\n",
    "    fact=fact*i\n",
    "print(fact)"
   ]
  },
  {
   "cell_type": "code",
   "execution_count": 114,
   "id": "e5751e1b",
   "metadata": {},
   "outputs": [
    {
     "name": "stdout",
     "output_type": "stream",
     "text": [
      "10\n"
     ]
    }
   ],
   "source": [
    "x=1234\n",
    "sum = 0\n",
    "while x>0:\n",
    "    t= x%10\n",
    "    sum+=t\n",
    "    x=x//10\n",
    "print(sum)\n",
    "    "
   ]
  },
  {
   "cell_type": "code",
   "execution_count": 131,
   "id": "c05a54f3",
   "metadata": {},
   "outputs": [
    {
     "name": "stdout",
     "output_type": "stream",
     "text": [
      "{1: 1, 2: 21, 3: 4, 4: 2, 6: 19, 66: 2} ******\n",
      "2\n"
     ]
    }
   ],
   "source": [
    "x=[1,2,3,4,2,2,2,2,2,2,2,2,2,2,2,2,2,2,2,2,2,2,2,2,3,3,3,4,6,6,6,6,66,6,6,6,66,6,6,6,6,6,6,6,6,6,6,6,6]\n",
    "c={}\n",
    "for i in x:\n",
    "    if i not in c.keys():\n",
    "        c[i]=1\n",
    "    else:\n",
    "        c[i]+=1\n",
    "print(c,\"******\")\n",
    "high = 0\n",
    "common = None\n",
    "for i , j in c.items():\n",
    "    if j>high:\n",
    "        high = j\n",
    "        common = i\n",
    "print(common)\n",
    "    "
   ]
  },
  {
   "cell_type": "code",
   "execution_count": 145,
   "id": "dc536797",
   "metadata": {},
   "outputs": [
    {
     "name": "stdout",
     "output_type": "stream",
     "text": [
      "2\n",
      "3\n",
      "5\n",
      "7\n"
     ]
    }
   ],
   "source": [
    "l=0\n",
    "u=10\n",
    "for num in range(l,u+1):\n",
    "    if num>1:\n",
    "        for i in range(2,num):\n",
    "            if num%i == 0:\n",
    "                break\n",
    "        else:\n",
    "            print(num)\n",
    "            "
   ]
  },
  {
   "cell_type": "code",
   "execution_count": 166,
   "id": "ed43fa45",
   "metadata": {},
   "outputs": [
    {
     "data": {
      "text/plain": [
       "{'name': 'narsimha', 'age': '23', 'deg': 'Software'}"
      ]
     },
     "execution_count": 166,
     "metadata": {},
     "output_type": "execute_result"
    }
   ],
   "source": [
    "x=\"name:narsimha,age;23,deg:Software\"\n",
    "x=x.replace(';',':')\n",
    "x=x.split(',')\n",
    "c={}\n",
    "for i in x:\n",
    "    a,b = i.split(':')\n",
    "    c[a]=b\n",
    "c"
   ]
  },
  {
   "cell_type": "code",
   "execution_count": 171,
   "id": "9add1d8f",
   "metadata": {},
   "outputs": [
    {
     "name": "stdout",
     "output_type": "stream",
     "text": [
      "24\n"
     ]
    }
   ],
   "source": [
    "a={'name':'vasu','id':3,'deg':15,'amount':25} \n",
    "sum=0\n",
    "for i,j in a.items():\n",
    "    sum+=len(i)+len(str(j))\n",
    "print(sum)"
   ]
  },
  {
   "cell_type": "code",
   "execution_count": 175,
   "id": "e20daebd",
   "metadata": {},
   "outputs": [
    {
     "data": {
      "text/plain": [
       "{'amount': 25, 'deg': 15, 'id': 3, 'name': 'vasu'}"
      ]
     },
     "execution_count": 175,
     "metadata": {},
     "output_type": "execute_result"
    }
   ],
   "source": [
    "a={'name':'vasu','id':3,'deg':15,'amount':25}\n",
    "key = []\n",
    "val =[]\n",
    "for i,j in a.items():\n",
    "    key.append(i)\n",
    "    val.append(j)\n",
    "a=key[::-1]\n",
    "b=val[::-1]\n",
    "c= dict(zip(a,b))\n",
    "c"
   ]
  },
  {
   "cell_type": "code",
   "execution_count": 181,
   "id": "69268072",
   "metadata": {},
   "outputs": [
    {
     "name": "stdout",
     "output_type": "stream",
     "text": [
      "[{'name': 'hari', 'id': 1}, {'name': 'hari', 'id': 1}, {'name': 'simha', 'id': 2}, {'name': 'ganesh', 'id': 2}]\n"
     ]
    }
   ],
   "source": [
    "x=[{\"name\":\"hari\",\"id\":1},{\"name\":\"ganesh\",\"id\":2},{\"name\":\"simha\",\"id\":2},{\"name\":\"hari\",\"id\":1}]\n",
    "for i in range(len(x)):\n",
    "    for j in range(i+1,len(x)):\n",
    "        if x[i]['id']>x[j]['id']:\n",
    "            x[i],x[j]=x[j],x[i]\n",
    "print(x)"
   ]
  },
  {
   "cell_type": "code",
   "execution_count": 191,
   "id": "57a1602a",
   "metadata": {},
   "outputs": [
    {
     "data": {
      "text/plain": [
       "['abhi', 'vagrahb', 'vamsi', 'raknahs', 'sai', 'iver', 'shiva', 'inum']"
      ]
     },
     "execution_count": 191,
     "metadata": {},
     "output_type": "execute_result"
    }
   ],
   "source": [
    "a='abhi bhargav vamsi shankar sai revi shiva muni'\n",
    "a=a.split()\n",
    "c=[]\n",
    "for i in range(len(a)):\n",
    "    if i%2!=0:\n",
    "        xx = a[i]\n",
    "        ll =xx[::-1]\n",
    "        c.append(ll)\n",
    "    else:\n",
    "        c.append(a[i])\n",
    "c"
   ]
  },
  {
   "cell_type": "code",
   "execution_count": 194,
   "id": "00f8f32e",
   "metadata": {},
   "outputs": [
    {
     "name": "stdout",
     "output_type": "stream",
     "text": [
      "{'john': 5, 'johnny': 4, 'jackie': 2, 'jamie': 3}\n"
     ]
    }
   ],
   "source": [
    "x =['john','john','johnny','jackie','johnny','john','jackie','jamie','jamie','john','johnny','jamie','johnny','john']\n",
    "c={}\n",
    "for i in x:\n",
    "    if i not in c.keys():\n",
    "        c[i]=1\n",
    "    else:\n",
    "        c[i]+=1\n",
    "m=0\n",
    "d=None\n",
    "for i,j in c.items():\n",
    "    if j>m:\n",
    "        m=j\n",
    "        d=i\n",
    "print(c)"
   ]
  },
  {
   "cell_type": "code",
   "execution_count": 14,
   "id": "7b9ebdc5",
   "metadata": {},
   "outputs": [
    {
     "name": "stdout",
     "output_type": "stream",
     "text": [
      "select a value : VXL\n",
      "15\n"
     ]
    }
   ],
   "source": [
    "rn = { 'I': 1,'V': 5,'X': 10,'L': 50,'C': 100,'D': 500,'M': 1000}\n",
    "val = input('select a value : ')\n",
    "rom = val[0]\n",
    "length = len(val)\n",
    "value = rn[rom]\n",
    "sum=0\n",
    "for i in range(1,length+1):\n",
    "    sum+=value\n",
    "print(sum)"
   ]
  },
  {
   "cell_type": "code",
   "execution_count": 18,
   "id": "79e8bc36",
   "metadata": {},
   "outputs": [
    {
     "name": "stdout",
     "output_type": "stream",
     "text": [
      "Enter a valueLCDM\n",
      "1650\n"
     ]
    }
   ],
   "source": [
    "rn = { 'I': 1,'V': 5,'X': 10,'L': 50,'C': 100,'D': 500,'M': 1000}\n",
    "val = input('Enter a value')\n",
    "sum = 0\n",
    "for i in val:\n",
    "    v = rn[i]\n",
    "    sum+=v\n",
    "print(sum)"
   ]
  },
  {
   "cell_type": "code",
   "execution_count": 24,
   "id": "d72b8b3a",
   "metadata": {},
   "outputs": [
    {
     "name": "stdout",
     "output_type": "stream",
     "text": [
      "[{'name': 'AP', 'city': 2, 'city with a ': ['Amravathi', 'Anakala']}, {'name': 'MP', 'city': 2, 'city with a ': ['Abd', 'Ade']}]\n"
     ]
    }
   ],
   "source": [
    "a=[{\"name\":\"AP\",\"city\":[\"vizag\",\"Amravathi\",\"Anakala\",\"kur\",\"nandyala\"]},{\"name\":\"MP\",\"city\":[\"Abd\",\"cda\",\"Ade\",\"kur\",\"d\"]}]\n",
    "\n",
    "for i in a:\n",
    "    count = 0\n",
    "    l=[]\n",
    "    for j in i['city']:\n",
    "        if j[0]=='A':\n",
    "            count+=1\n",
    "            l.append(j)\n",
    "        i['city']=count\n",
    "        i['city with a ']=l\n",
    "print(a)\n",
    "            \n",
    "    "
   ]
  },
  {
   "cell_type": "code",
   "execution_count": null,
   "id": "9f54a22c",
   "metadata": {},
   "outputs": [],
   "source": [
    "a=[{ 'name': 'andhra', 'city': ['nellore', 'guntur'] }, { 'name': 'telangana', 'city': ['Hyd', 'varangal'] }]\n",
    "\n"
   ]
  },
  {
   "cell_type": "code",
   "execution_count": 27,
   "id": "d3a98b7d",
   "metadata": {},
   "outputs": [
    {
     "name": "stdout",
     "output_type": "stream",
     "text": [
      "2\n",
      "3\n",
      "5\n",
      "7\n",
      "11\n",
      "13\n",
      "17\n",
      "19\n",
      "nums 0 20\n"
     ]
    }
   ],
   "source": [
    "def primenum(func):\n",
    "    def wrapper(x,y):\n",
    "        for num in range(x,y+1):\n",
    "            if num>1:\n",
    "                for j in range(2,num):\n",
    "                    if num%j==0:\n",
    "                        break\n",
    "                else:\n",
    "                    print(num)\n",
    "        return func(x,y)\n",
    "    return wrapper\n",
    "@primenum\n",
    "def add(a,b):\n",
    "    print('nums',a,b)\n",
    "d=add(0,20)\n"
   ]
  },
  {
   "cell_type": "code",
   "execution_count": null,
   "id": "7b5b60eb",
   "metadata": {},
   "outputs": [],
   "source": []
  },
  {
   "cell_type": "code",
   "execution_count": null,
   "id": "5ce00ad4",
   "metadata": {},
   "outputs": [],
   "source": []
  },
  {
   "cell_type": "code",
   "execution_count": null,
   "id": "0fb9c4cd",
   "metadata": {},
   "outputs": [],
   "source": []
  },
  {
   "cell_type": "code",
   "execution_count": null,
   "id": "df68236c",
   "metadata": {},
   "outputs": [],
   "source": []
  },
  {
   "cell_type": "code",
   "execution_count": null,
   "id": "ccf13e20",
   "metadata": {},
   "outputs": [],
   "source": []
  },
  {
   "cell_type": "code",
   "execution_count": null,
   "id": "59f2647f",
   "metadata": {},
   "outputs": [],
   "source": []
  },
  {
   "cell_type": "code",
   "execution_count": null,
   "id": "6dfe0fb0",
   "metadata": {},
   "outputs": [],
   "source": []
  }
 ],
 "metadata": {
  "kernelspec": {
   "display_name": "Python 3 (ipykernel)",
   "language": "python",
   "name": "python3"
  },
  "language_info": {
   "codemirror_mode": {
    "name": "ipython",
    "version": 3
   },
   "file_extension": ".py",
   "mimetype": "text/x-python",
   "name": "python",
   "nbconvert_exporter": "python",
   "pygments_lexer": "ipython3",
   "version": "3.9.13"
  }
 },
 "nbformat": 4,
 "nbformat_minor": 5
}
