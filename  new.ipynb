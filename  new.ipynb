{
 "cells": [
  {
   "cell_type": "code",
   "execution_count": 1,
   "id": "f432b9f3",
   "metadata": {},
   "outputs": [
    {
     "name": "stdout",
     "output_type": "stream",
     "text": [
      "enter your age : 2\n",
      "your not eligible to vote\n"
     ]
    }
   ],
   "source": [
    "class ageException(Exception):\n",
    "    pass\n",
    "age=int(input('enter your age : '))\n",
    "try:\n",
    "    if age>19:\n",
    "        raise ageException('Your eligible to vote ')\n",
    "    else:\n",
    "        print('your not eligible to vote')\n",
    "except ageException as k:\n",
    "    print(k)"
   ]
  }
 ],
 "metadata": {
  "kernelspec": {
   "display_name": "Python 3 (ipykernel)",
   "language": "python",
   "name": "python3"
  },
  "language_info": {
   "codemirror_mode": {
    "name": "ipython",
    "version": 3
   },
   "file_extension": ".py",
   "mimetype": "text/x-python",
   "name": "python",
   "nbconvert_exporter": "python",
   "pygments_lexer": "ipython3",
   "version": "3.9.13"
  }
 },
 "nbformat": 4,
 "nbformat_minor": 5
}
