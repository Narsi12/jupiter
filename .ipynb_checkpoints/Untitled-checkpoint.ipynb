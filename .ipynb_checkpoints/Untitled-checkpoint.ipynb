{
 "cells": [
  {
   "cell_type": "code",
   "execution_count": 1,
   "id": "4c200a87",
   "metadata": {},
   "outputs": [
    {
     "name": "stdout",
     "output_type": "stream",
     "text": [
      "3 x 7 = 21\n",
      "3 x 8 = 24\n",
      "3 x 9 = 27\n",
      "3 x 10 = 30\n",
      "3 x 1 = 3\n",
      "3 x 2 = 6\n",
      "3 x 3 = 9\n",
      "3 x 4 = 12\n",
      "3 x 5 = 15\n",
      "3 x 6 = 18\n"
     ]
    }
   ],
   "source": [
    "# Table 3\n",
    "def table():\n",
    "    for x in range(7,11):\n",
    "        print(3,\"x\",x,\"=\",3*x)\n",
    "    for y in range(1,7):\n",
    "        print(3,\"x\",y,\"=\",3*y)\n",
    "table()\n",
    "\n"
   ]
  },
  {
   "cell_type": "code",
   "execution_count": 2,
   "id": "787dabf3",
   "metadata": {},
   "outputs": [],
   "source": [
    "x=[1,2,3,4,5,6,5,4,3,7,8,9,9]\n",
    "n=[]\n",
    "for i in x:\n",
    "    if x.count(i)>1:\n",
    "        del i"
   ]
  },
  {
   "cell_type": "code",
   "execution_count": 3,
   "id": "869475e5",
   "metadata": {},
   "outputs": [
    {
     "name": "stdout",
     "output_type": "stream",
     "text": [
      "['I', ' ', 'L', 'O', 'V', 'E', ' ', 'P', 'Y', 'T', 'H', 'O', 'N']\n",
      "['goudchellaboinanarsimha']\n"
     ]
    }
   ],
   "source": [
    "sen=\"I LOVE PYTHON\"\n",
    "saparate_word=sen.split()\n",
    "reverse_str=[]\n",
    "for i in sen:\n",
    "    reverse_str.append(i[::-1])\n",
    "print(reverse_str)\n",
    "\n",
    "#Approach 2\n",
    "n=\"narsimha chellaboina goud\"\n",
    "x=n.split()\n",
    "m=''\n",
    "for i in x:\n",
    "    m=i+m\n",
    "    y=m.split(',')\n",
    "print(y)"
   ]
  },
  {
   "cell_type": "code",
   "execution_count": 4,
   "id": "85ba2850",
   "metadata": {},
   "outputs": [
    {
     "name": "stdout",
     "output_type": "stream",
     "text": [
      "Enter any sentence :dfghjk\n",
      "['dfghjk']\n"
     ]
    }
   ],
   "source": [
    "# Reverse a String \n",
    "\n",
    "str=input(\"Enter any sentence :\")\n",
    "\n",
    "def reverse(str):\n",
    "    y=str.split(\" \")\n",
    "    z=y[::-1]\n",
    "    return z\n",
    "print(reverse(str))\n",
    "    "
   ]
  },
  {
   "cell_type": "code",
   "execution_count": 5,
   "id": "e21ff20a",
   "metadata": {},
   "outputs": [
    {
     "name": "stdout",
     "output_type": "stream",
     "text": [
      "['I', ' ', 'L', 'O', 'V', 'E', ' ', 'P', 'Y', 'T', 'H', 'O', 'N']\n"
     ]
    }
   ],
   "source": [
    "sen=\"I LOVE PYTHON\"\n",
    "saparate_word=sen.split(\",\")\n",
    "reverse_str=[]\n",
    "for i in sen:\n",
    "    reverse_str.append(i[::-1])\n",
    "print(reverse_str)"
   ]
  },
  {
   "cell_type": "code",
   "execution_count": 6,
   "id": "08564219",
   "metadata": {},
   "outputs": [
    {
     "name": "stdout",
     "output_type": "stream",
     "text": [
      "[1, 4]\n",
      "[2, 3]\n"
     ]
    }
   ],
   "source": [
    "# Target Value indices\n",
    "nums=[4,2,3,5,6]\n",
    "target=8\n",
    "for i in range(len(nums)):\n",
    "    for j in range(i+1,len(nums)):\n",
    "        if nums[i]+nums[j]==target:\n",
    "            print([i,j])\n",
    "        "
   ]
  },
  {
   "cell_type": "code",
   "execution_count": 7,
   "id": "cd373f5b",
   "metadata": {},
   "outputs": [
    {
     "name": "stdout",
     "output_type": "stream",
     "text": [
      "0\n",
      "1\n",
      "2\n",
      "3\n",
      "4\n",
      "5\n",
      "6\n",
      "7\n",
      "8\n"
     ]
    }
   ],
   "source": [
    "nums=[1,2,34,5,6,6,6,6,6]\n",
    "for i in range(len(nums)):\n",
    "    print(i)"
   ]
  },
  {
   "cell_type": "code",
   "execution_count": 8,
   "id": "323d80f7",
   "metadata": {},
   "outputs": [
    {
     "name": "stdout",
     "output_type": "stream",
     "text": [
      "Enter a list of numbers : dhfjgkjhlj;\n"
     ]
    },
    {
     "ename": "ValueError",
     "evalue": "invalid literal for int() with base 10: 'dhfjgkjhlj;'",
     "output_type": "error",
     "traceback": [
      "\u001b[1;31m---------------------------------------------------------------------------\u001b[0m",
      "\u001b[1;31mValueError\u001b[0m                                Traceback (most recent call last)",
      "\u001b[1;32m~\\AppData\\Local\\Temp\\ipykernel_13688\\2448865859.py\u001b[0m in \u001b[0;36m<module>\u001b[1;34m\u001b[0m\n\u001b[0;32m      1\u001b[0m \u001b[1;31m# even and odd\u001b[0m\u001b[1;33m\u001b[0m\u001b[1;33m\u001b[0m\u001b[0m\n\u001b[1;32m----> 2\u001b[1;33m \u001b[0mn\u001b[0m\u001b[1;33m=\u001b[0m\u001b[0mint\u001b[0m\u001b[1;33m(\u001b[0m\u001b[0minput\u001b[0m\u001b[1;33m(\u001b[0m\u001b[1;34m\"Enter a list of numbers : \"\u001b[0m\u001b[1;33m)\u001b[0m\u001b[1;33m)\u001b[0m\u001b[1;33m\u001b[0m\u001b[1;33m\u001b[0m\u001b[0m\n\u001b[0m\u001b[0;32m      3\u001b[0m \u001b[1;32mif\u001b[0m\u001b[1;33m(\u001b[0m\u001b[0mn\u001b[0m\u001b[1;33m%\u001b[0m\u001b[1;36m2\u001b[0m\u001b[1;33m==\u001b[0m\u001b[1;36m0\u001b[0m\u001b[1;33m)\u001b[0m\u001b[1;33m:\u001b[0m\u001b[1;33m\u001b[0m\u001b[1;33m\u001b[0m\u001b[0m\n\u001b[0;32m      4\u001b[0m     \u001b[0mprint\u001b[0m\u001b[1;33m(\u001b[0m\u001b[1;34m\"the given number is even\"\u001b[0m\u001b[1;33m)\u001b[0m\u001b[1;33m\u001b[0m\u001b[1;33m\u001b[0m\u001b[0m\n\u001b[0;32m      5\u001b[0m \u001b[1;32melse\u001b[0m\u001b[1;33m:\u001b[0m\u001b[1;33m\u001b[0m\u001b[1;33m\u001b[0m\u001b[0m\n",
      "\u001b[1;31mValueError\u001b[0m: invalid literal for int() with base 10: 'dhfjgkjhlj;'"
     ]
    }
   ],
   "source": [
    "# even and odd\n",
    "n=int(input(\"Enter a list of numbers : \"))\n",
    "if(n%2==0):\n",
    "    print(\"the given number is even\")\n",
    "else:\n",
    "    print(\"The given numbers is odd\")\n",
    "print(\"******************************************\")"
   ]
  },
  {
   "cell_type": "code",
   "execution_count": 9,
   "id": "8511693f",
   "metadata": {},
   "outputs": [
    {
     "name": "stdout",
     "output_type": "stream",
     "text": [
      "[2, 3, 4, 5, 6, 7, 8]\n"
     ]
    }
   ],
   "source": [
    "# ascending order\n",
    "x = [3, 6, 2, 4, 7, 5, 8] \n",
    "new_list=[]\n",
    "while x:\n",
    "    min=x[0]\n",
    "    for i in x:\n",
    "        if i<min:    \n",
    "            min=i\n",
    "    new_list.append(min)\n",
    "    x.remove(min)\n",
    "print(new_list)"
   ]
  },
  {
   "cell_type": "code",
   "execution_count": 5,
   "id": "32213af9",
   "metadata": {},
   "outputs": [
    {
     "name": "stdout",
     "output_type": "stream",
     "text": [
      "Enter a string : mom\n",
      "given sttring is palindrome \n"
     ]
    },
    {
     "data": {
      "text/plain": [
       "'mom'"
      ]
     },
     "execution_count": 5,
     "metadata": {},
     "output_type": "execute_result"
    }
   ],
   "source": [
    "# palindrome string\n",
    "x=input(\"Enter a string : \")\n",
    "y=x[::-1]\n",
    "if(x==y):\n",
    "    print(\"given sttring is palindrome \")\n",
    "else:\n",
    "    print(\"The given string is not palindrome\")\n",
    "y"
   ]
  },
  {
   "cell_type": "code",
   "execution_count": 11,
   "id": "835be380",
   "metadata": {},
   "outputs": [
    {
     "name": "stdout",
     "output_type": "stream",
     "text": [
      "enter a  string : \n",
      "it's a plindrome \n"
     ]
    }
   ],
   "source": [
    "# string palindroe method 2\n",
    "x=input(\"enter a  string : \")\n",
    "temp=x\n",
    "w=\"\"\n",
    "for i in x:\n",
    "    w=i+w\n",
    "    #return w\n",
    "if temp==w:\n",
    "    print(\"it's a plindrome \")\n",
    "else:\n",
    "    print(\"it's not a plindrome\")"
   ]
  },
  {
   "cell_type": "code",
   "execution_count": 12,
   "id": "36937ba2",
   "metadata": {},
   "outputs": [
    {
     "name": "stdout",
     "output_type": "stream",
     "text": [
      "0\n",
      "1\n",
      "1\n",
      "2\n",
      "3\n",
      "5\n",
      "8\n",
      "13\n",
      "21\n",
      "None\n"
     ]
    }
   ],
   "source": [
    "# fibbonaci series\n",
    "def fibbonaci(n):\n",
    "    a=0\n",
    "    b=1\n",
    "    if n<0:\n",
    "        print(\"enter a positive number :\")\n",
    "    elif n==0:\n",
    "        print(a)\n",
    "    else:\n",
    "        print(a)\n",
    "        print(b)\n",
    "        for i in range(2,n+1):\n",
    "            c=a+b\n",
    "            a=b\n",
    "            b=c\n",
    "            print(c)\n",
    "print(fibbonaci(8))"
   ]
  },
  {
   "cell_type": "code",
   "execution_count": 13,
   "id": "20f0b6ea",
   "metadata": {},
   "outputs": [
    {
     "name": "stdout",
     "output_type": "stream",
     "text": [
      "enter a number : \n"
     ]
    },
    {
     "ename": "ValueError",
     "evalue": "invalid literal for int() with base 10: ''",
     "output_type": "error",
     "traceback": [
      "\u001b[1;31m---------------------------------------------------------------------------\u001b[0m",
      "\u001b[1;31mValueError\u001b[0m                                Traceback (most recent call last)",
      "\u001b[1;32m~\\AppData\\Local\\Temp\\ipykernel_13688\\2129165369.py\u001b[0m in \u001b[0;36m<module>\u001b[1;34m\u001b[0m\n\u001b[0;32m      1\u001b[0m \u001b[1;31m#fibbonaci method 2\u001b[0m\u001b[1;33m\u001b[0m\u001b[1;33m\u001b[0m\u001b[0m\n\u001b[1;32m----> 2\u001b[1;33m \u001b[0mn\u001b[0m\u001b[1;33m=\u001b[0m\u001b[0mint\u001b[0m\u001b[1;33m(\u001b[0m\u001b[0minput\u001b[0m\u001b[1;33m(\u001b[0m\u001b[1;34m\"enter a number : \"\u001b[0m\u001b[1;33m)\u001b[0m\u001b[1;33m)\u001b[0m\u001b[1;33m\u001b[0m\u001b[1;33m\u001b[0m\u001b[0m\n\u001b[0m\u001b[0;32m      3\u001b[0m \u001b[0mn1\u001b[0m\u001b[1;33m=\u001b[0m\u001b[1;36m0\u001b[0m\u001b[1;33m\u001b[0m\u001b[1;33m\u001b[0m\u001b[0m\n\u001b[0;32m      4\u001b[0m \u001b[0mn2\u001b[0m\u001b[1;33m=\u001b[0m\u001b[1;36m1\u001b[0m\u001b[1;33m\u001b[0m\u001b[1;33m\u001b[0m\u001b[0m\n\u001b[0;32m      5\u001b[0m \u001b[0mcount\u001b[0m\u001b[1;33m=\u001b[0m\u001b[1;36m0\u001b[0m\u001b[1;33m\u001b[0m\u001b[1;33m\u001b[0m\u001b[0m\n",
      "\u001b[1;31mValueError\u001b[0m: invalid literal for int() with base 10: ''"
     ]
    }
   ],
   "source": [
    "#fibbonaci method 2\n",
    "n=int(input(\"enter a number : \"))\n",
    "n1=0\n",
    "n2=1\n",
    "count=0\n",
    "while(count>n):\n",
    "    print(n1)\n",
    "    z=n1+n1\n",
    "    n1=n2\n",
    "    n2=z              # Code not working do modifications\n",
    "    count+=1\n"
   ]
  },
  {
   "cell_type": "code",
   "execution_count": 1,
   "id": "3d1b0fd2",
   "metadata": {},
   "outputs": [
    {
     "name": "stdout",
     "output_type": "stream",
     "text": [
      "Enter a number : 5\n",
      "120\n"
     ]
    }
   ],
   "source": [
    "# Factorial of a number \n",
    "n=int(input(\"Enter a number : \"))\n",
    "factorial=1\n",
    "if n<0:\n",
    "    print(\"Enter a positive number : \")\n",
    "elif n==0:\n",
    "    print(\"Factorial of 0 is 1\")\n",
    "else:\n",
    "    for i in range(1,n+1):\n",
    "        factorial =factorial * i\n",
    "print(factorial)\n",
    "        \n"
   ]
  },
  {
   "cell_type": "code",
   "execution_count": null,
   "id": "46fa14fd",
   "metadata": {},
   "outputs": [],
   "source": [
    "# LCM of two numbers \n",
    "def common(n1,n2):\n",
    "    if n1>n2:\n",
    "        higher =n1\n",
    "    else:\n",
    "        higher=n2\n",
    "    value=higher\n",
    "    while True:\n",
    "        if higher%n1==0 and higher%n2==0:\n",
    "            print(\"lcm of\",n1,\"and\",n2 ,\"is\",higher)\n",
    "            break\n",
    "        else:\n",
    "            higher=higher+value\n",
    "n1=int(input(\"enter a first number : \"))\n",
    "n2=int(input(\"enter a second number : \"))\n",
    "common(n1,n2)"
   ]
  },
  {
   "cell_type": "code",
   "execution_count": null,
   "id": "8e3ec4a1",
   "metadata": {},
   "outputs": [],
   "source": [
    " #sum of digits\n",
    "n=int(input(\"enter a numbers to sum : \"))\n",
    "sum=0\n",
    "while(n>0):\n",
    "    rem=n%10\n",
    "    sum=sum+rem\n",
    "    n=n//10\n",
    "print(sum)"
   ]
  },
  {
   "cell_type": "code",
   "execution_count": null,
   "id": "cdd916f1",
   "metadata": {},
   "outputs": [],
   "source": [
    "# Amstrong Number\n",
    "n=int(input(\"Enter a number : \"))\n",
    "temp=n\n",
    "rev=0\n",
    "if n>1000:\n",
    "    print(\"please increase the reminder multiplication one step\")\n",
    "else:\n",
    "    print(\"done\")\n",
    "    \n",
    "while(n>0):\n",
    "    rem=n%10\n",
    "    rev=rev+(rem*rem*rem) # rem***3\n",
    "    n=n//10\n",
    "if temp==rev:\n",
    "    print(\"given number is amstrong number :\",rev)\n",
    "else:\n",
    "    print(\"Given number is not amstrong number \",rev)"
   ]
  },
  {
   "cell_type": "code",
   "execution_count": null,
   "id": "784cab9d",
   "metadata": {},
   "outputs": [],
   "source": [
    "# HCF/GCD of two numbers \n",
    "def common(a,b):\n",
    "    if b==0:\n",
    "        return a\n",
    "    else:\n",
    "        return (common(b,a%b))\n",
    "    \n",
    "n1=int(input(\"enter a first number : \"))\n",
    "n2=int(input(\"enter a second number : \"))\n",
    "print(common(n1,n2))"
   ]
  },
  {
   "cell_type": "code",
   "execution_count": null,
   "id": "d20e812e",
   "metadata": {},
   "outputs": [],
   "source": [
    "# prove to show that two arrays are equal\n"
   ]
  },
  {
   "cell_type": "code",
   "execution_count": null,
   "id": "a790eaab",
   "metadata": {},
   "outputs": [],
   "source": [
    " #DAY!!!!!!!!!!!!!!!!!!!!!!!!!!!111111"
   ]
  },
  {
   "cell_type": "code",
   "execution_count": null,
   "id": "fa07463d",
   "metadata": {},
   "outputs": [],
   "source": [
    "# 28-11-2022 Day 1 Assignment \n",
    "#  1 input=123456 output=456123\n",
    "n=\"123456\"\n",
    "a=n[0:3]\n",
    "b=n[3:]\n",
    "z=int(b+a)\n",
    "print(z)"
   ]
  },
  {
   "cell_type": "code",
   "execution_count": 4,
   "id": "f21a45a6",
   "metadata": {},
   "outputs": [
    {
     "name": "stdout",
     "output_type": "stream",
     "text": [
      "Venka\n"
     ]
    }
   ],
   "source": [
    "2. # write a python to delete duplicate characters in a given string\n",
    "# s=\"NarasimhaMouriMtech\"\n",
    "# s1=\"\"\n",
    "# for i in s:\n",
    "#     if s.count(i)==1:\n",
    "#         s1=s1+i\n",
    "# print(s1) \n",
    "\n",
    "# # Approach 2\n",
    "# s=input()\n",
    "# s1=\"\"\n",
    "# for i in s:\n",
    "#     if s.count(i)>1:\n",
    "#         pass\n",
    "#     else:\n",
    "#         s1=s1+i\n",
    "# print(s1)\n",
    "# Approach 3\n",
    "s=\"Venkatt\"\n",
    "s1=''\n",
    "for i in s:\n",
    "    if s.count(i)>1 and i not in s1:\n",
    "        del i\n",
    "    else:\n",
    "        s1=s1+i\n",
    "print(s1)\n"
   ]
  },
  {
   "cell_type": "code",
   "execution_count": null,
   "id": "0d7aefea",
   "metadata": {},
   "outputs": [],
   "source": [
    "s='Narsimha'\n",
    "s1=''\n",
    "for i in s:\n",
    "    if s.count(i)>1:\n",
    "        del i\n",
    "    else:\n",
    "        s1=s1+i\n",
    "print(s1)"
   ]
  },
  {
   "cell_type": "code",
   "execution_count": null,
   "id": "789f2260",
   "metadata": {},
   "outputs": [],
   "source": [
    "3.# python program for sum of remainders of a given number?\n",
    "# n=22234\n",
    "# sum=0\n",
    "# while(n>0):\n",
    "#     rem=n%10\n",
    "#     sum=sum+rem\n",
    "#     n=n//10\n",
    "# print(sum)\n",
    "\n",
    "#python program for sum of remainders of a given number?\n",
    "a=int(input(\"enter a first number : \"))\n",
    "b=int(input(\"enter a second number : \"))\n",
    "c=a%b\n",
    "val = list(map(int,str(c)))\n",
    "print(sum(val))\n"
   ]
  },
  {
   "cell_type": "code",
   "execution_count": null,
   "id": "26ed44b8",
   "metadata": {},
   "outputs": [],
   "source": [
    "x=int(input(\"Enter a number\"))\n",
    "y=int(input(\"enter a second number\"))\n",
    "\n",
    "class xIsException(Exception):\n",
    "    pass\n",
    "try:\n",
    "    if x==0:\n",
    "        raise xIsException(\"x cannot be zero\")\n",
    "    else:\n",
    "        res=y/x\n",
    "        print(res)\n",
    "except xIsException as e:\n",
    "    print(\"Exception\",e)\n",
    "    "
   ]
  },
  {
   "cell_type": "code",
   "execution_count": null,
   "id": "735a73b4",
   "metadata": {},
   "outputs": [],
   "source": [
    "2/3"
   ]
  },
  {
   "cell_type": "code",
   "execution_count": 7,
   "id": "ee1d9bfd",
   "metadata": {},
   "outputs": [
    {
     "name": "stdout",
     "output_type": "stream",
     "text": [
      "enter a age: 21\n",
      "Your eligible to vote\n"
     ]
    }
   ],
   "source": [
    "age=int(input(\"enter a age: \"))\n",
    "class AgeException(Exception):\n",
    "    pass\n",
    "try:\n",
    "    if age<18:\n",
    "        raise AgeException(\"Your not eligible to vote \")\n",
    "    else:\n",
    "        print(\"Your eligible to vote\")\n",
    "except AgeException as e:\n",
    "    print(e)"
   ]
  },
  {
   "cell_type": "code",
   "execution_count": null,
   "id": "31706283",
   "metadata": {},
   "outputs": [],
   "source": [
    "# 4. write a python program for deleting duplicates in a list?\n",
    "nums=[2,3,4,2,4,5,5,5,6,7,8,8]\n",
    "dup=list(set(nums))\n",
    "print(dup)"
   ]
  },
  {
   "cell_type": "code",
   "execution_count": null,
   "id": "c09cd221",
   "metadata": {},
   "outputs": [],
   "source": [
    "# 5. write a python program for sum of squares of first ‘n’ natural numbers\n",
    "n=[1,2,3,4]\n",
    "sum=0\n",
    "for i in n:\n",
    "    y=i**2\n",
    "    sum=sum+y\n",
    "print(sum)"
   ]
  },
  {
   "cell_type": "code",
   "execution_count": null,
   "id": "b822bee8",
   "metadata": {},
   "outputs": [],
   "source": [
    "# 6. moves all zeros at the end of the array?\n",
    "n=[1,0,2,0,3,0,4,0,5,0,9,0,8]\n",
    "n1=[]\n",
    "n2=[]\n",
    "for i in n:\n",
    "    if i==0:\n",
    "        n1.append(i)\n",
    "    else:\n",
    "        n2.append(i)\n",
    "print(n2+n1)"
   ]
  },
  {
   "cell_type": "code",
   "execution_count": null,
   "id": "711c3c20",
   "metadata": {},
   "outputs": [],
   "source": [
    "# 7.python program to findout third largest element in the given array\n",
    "n=[2,3,4,6,8,9,23,54,765,21,654,555]\n",
    "for i in range(len(n)):\n",
    "    for j in range(i+1,len(n)):\n",
    "        if n[i]<n[j]:\n",
    "            n[i],n[j]=n[j],n[i]\n",
    "print(n[2])"
   ]
  },
  {
   "cell_type": "code",
   "execution_count": null,
   "id": "d3c14f8e",
   "metadata": {},
   "outputs": [],
   "source": [
    "# 8.  python program to reverse last 2 characters in a given string\n",
    " \n",
    "\n",
    "n=str(input(\"Enter a string : \"))\n",
    "a=n[-2::1]\n",
    "\n",
    "x=n[:-2:1]\n",
    "b=a[::-1]\n",
    "print(x+b)"
   ]
  },
  {
   "cell_type": "code",
   "execution_count": null,
   "id": "87ee8350",
   "metadata": {},
   "outputs": [],
   "source": [
    "#9  python program to sort the elements in the array in ascending order with using functions\n",
    "def ascending(x):\n",
    "     \n",
    "    new_list=[]\n",
    "    while x:\n",
    "        min=x[0]\n",
    "        for i in x:\n",
    "            if i<min:    \n",
    "                min=i\n",
    "        new_list.append(min)\n",
    "        x.remove(min)\n",
    "    print(new_list)\n",
    "x = [3, 6, 2, 4, 7, 5, 8] \n",
    "l=x\n",
    "ascending(l)"
   ]
  },
  {
   "cell_type": "code",
   "execution_count": null,
   "id": "63c3c8e5",
   "metadata": {},
   "outputs": [],
   "source": [
    "# 10 write a python program for below input and output?\n",
    "    #Input:\n",
    "    #123456\n",
    "    #Output:\n",
    "    #456123\n",
    "\n",
    "x=123456\n",
    "y=str(x)\n",
    "a=y[:3]\n",
    "b=y[3:]\n",
    "print(b+a)"
   ]
  },
  {
   "cell_type": "code",
   "execution_count": 8,
   "id": "70219758",
   "metadata": {},
   "outputs": [
    {
     "name": "stdout",
     "output_type": "stream",
     "text": [
      "e t r f y d n a n g "
     ]
    }
   ],
   "source": [
    "#11. retreive last character of every word in a given string\n",
    "name=\"retreive last character of every word in a given string\"\n",
    "x=name.split()\n",
    "for i in x:\n",
    "    print(i[-1],end=\" \")"
   ]
  },
  {
   "cell_type": "code",
   "execution_count": 5,
   "id": "cacaa88b",
   "metadata": {},
   "outputs": [
    {
     "name": "stdout",
     "output_type": "stream",
     "text": [
      "NarsimhA ChellaboinA GouD "
     ]
    }
   ],
   "source": [
    "#12. write a python program to capitalize first and last character of each word in a given string\n",
    "name=\"narsimha chellaboina goud\"\n",
    "x=name.split(\" \")\n",
    "for i in x:\n",
    "    a=i[0].capitalize()\n",
    "    b=i[-1].capitalize()\n",
    "    z=i[1:-1:1]\n",
    "    print(a+z+b,end=\" \")\n",
    "    \n",
    "\n"
   ]
  },
  {
   "cell_type": "code",
   "execution_count": null,
   "id": "a75d0d91",
   "metadata": {},
   "outputs": [],
   "source": [
    "#13.  remove characters from the first string which are present in the second string\n",
    "# s1=\"Narsimha\"\n",
    "# s2=\"Chellaboina\"\n",
    "# for i in range(len(s1)):\n",
    "#     for j in range(0,len(s2)):\n",
    "#         if s1[i]==s2[j]:\n",
    "#             s1.replace(s1[i],s2[j])\n",
    "# Wrong"
   ]
  },
  {
   "cell_type": "code",
   "execution_count": 9,
   "id": "6aa0284a",
   "metadata": {},
   "outputs": [
    {
     "name": "stdout",
     "output_type": "stream",
     "text": [
      "nrih ortc"
     ]
    }
   ],
   "source": [
    "#14. python program to remove all odd indexing in a given string\n",
    "n=\"narsimha mouritech\"\n",
    "for i in range(len(n)):\n",
    "    if i%2==1:\n",
    "        continue\n",
    "    print(n[i],end=\"\")\n",
    "        \n"
   ]
  },
  {
   "cell_type": "code",
   "execution_count": 10,
   "id": "7ab753fe",
   "metadata": {},
   "outputs": [
    {
     "name": "stdout",
     "output_type": "stream",
     "text": [
      "Nrsm\n"
     ]
    }
   ],
   "source": [
    "#15. remove characters from the first string which are present in the second string\n",
    "s1=\"Narsimha \"\n",
    "s2=\"Chellaboina \"\n",
    "s3=''\n",
    "for i in s1:\n",
    "    if i not in s2:\n",
    "        s3=s3+i\n",
    "print(s3)"
   ]
  },
  {
   "cell_type": "code",
   "execution_count": null,
   "id": "c6abb6f2",
   "metadata": {},
   "outputs": [],
   "source": [
    "# 16.Python Program to Reverse Each Word Of A String In Python\n",
    "n=\"narsimha chellaboina goud\"\n",
    "x=n.split()\n",
    "r=[]\n",
    "for i in x:\n",
    "    r.append(i[::-1])\n",
    "print(r)"
   ]
  },
  {
   "cell_type": "code",
   "execution_count": null,
   "id": "70534d67",
   "metadata": {},
   "outputs": [],
   "source": [
    "# 17. write a python program for below number pattern?\n",
    "#    1 3 5 7 9\n",
    "#     3 5 7 9 11\n",
    "#     5 7 9 11 13\n",
    "#     7 9 11 13 15\n",
    "#     9 11 13 15 17\n",
    "\n",
    "    \n",
    "for i in range(10):\n",
    "    for j in range(10):\n",
    "        if i%2==1:\n",
    "            if j%2==0:\n",
    "                print(i+j,end=\" \")\n",
    "    print()"
   ]
  },
  {
   "cell_type": "code",
   "execution_count": null,
   "id": "71793ce3",
   "metadata": {},
   "outputs": [],
   "source": [
    "# 18. Find all pairs in list whose sum is equal to given number\n",
    "n=[1,2,3,4,5]\n",
    "sum=6\n",
    "for i in n:\n",
    "    for j in n:\n",
    "        if i+j==sum:\n",
    "            print([i,j])\n",
    "        \n"
   ]
  },
  {
   "cell_type": "code",
   "execution_count": 11,
   "id": "bd7aec5e",
   "metadata": {},
   "outputs": [
    {
     "name": "stdout",
     "output_type": "stream",
     "text": [
      "{2, 3, 4, 6}\n"
     ]
    }
   ],
   "source": [
    "# 19. 13. python program to find out most frequent element in the list?\n",
    "x=[1,2,3,4,2,2,2,2,2,2,2,2,2,3,3,3,4,6,6,6,6,6]\n",
    "y=sorted(x)\n",
    "z=[]\n",
    "for i in range (len(y)):\n",
    "    if y.count(y[i])>1:\n",
    "        z.append(y[i])\n",
    "print(set(z))"
   ]
  },
  {
   "cell_type": "code",
   "execution_count": null,
   "id": "eaf15475",
   "metadata": {},
   "outputs": [],
   "source": [
    "#. python program for camel case of a given sentence?\n",
    "s1=\"narsimha chellaboina\"\n",
    "x=s1.title()\n",
    "z=x.replace(\" \",\"\")\n",
    "z"
   ]
  },
  {
   "cell_type": "code",
   "execution_count": null,
   "id": "9bd88701",
   "metadata": {},
   "outputs": [],
   "source": [
    "12%22"
   ]
  },
  {
   "cell_type": "code",
   "execution_count": null,
   "id": "6ada38f8",
   "metadata": {},
   "outputs": [],
   "source": []
  },
  {
   "cell_type": "markdown",
   "id": "d11326f2",
   "metadata": {},
   "source": [
    "# For Loops"
   ]
  },
  {
   "cell_type": "code",
   "execution_count": null,
   "id": "8e0104c1",
   "metadata": {},
   "outputs": [],
   "source": [
    "# 1.   29-11-2022\n",
    "#2.Print the first 10 natural numbers using for loop.\n",
    "for i in range(1,11):\n",
    "    print(i ,end=\",\")"
   ]
  },
  {
   "cell_type": "code",
   "execution_count": null,
   "id": "8ff858a3",
   "metadata": {},
   "outputs": [],
   "source": [
    "#3.Python program to print all the even numbers within the given range\n",
    "for i in range(1,11):\n",
    "    if i%2==0:\n",
    "        print(i)"
   ]
  },
  {
   "cell_type": "code",
   "execution_count": null,
   "id": "84e17103",
   "metadata": {},
   "outputs": [],
   "source": [
    "# 4. Python program to calculate the sum of all numbers from 1 to a given number.\n",
    "num=int(input(\"enter a number : \"))\n",
    "sum=0\n",
    "for i in range(0,num):\n",
    "    sum=sum+i\n",
    "print(int(sum))"
   ]
  },
  {
   "cell_type": "code",
   "execution_count": null,
   "id": "5d7027cb",
   "metadata": {},
   "outputs": [],
   "source": [
    "# 5. Python program to calculate the sum of all the odd numbers within the given range.\n",
    "num=[1,2,3,4,5,6,7,8,9]\n",
    "sum=0\n",
    "for i in range(1,10):\n",
    "    if i%2==1:\n",
    "        sum=sum+i\n",
    "print(sum)"
   ]
  },
  {
   "cell_type": "code",
   "execution_count": null,
   "id": "a0690d64",
   "metadata": {},
   "outputs": [],
   "source": [
    "# 6. Python program to print a multiplication table of a given number\n",
    "num=int(input(\"enter a number : \"))\n",
    "\n",
    "for i in range(1,11):\n",
    "    print(num,\"x\",i,\"=\",num*i)"
   ]
  },
  {
   "cell_type": "code",
   "execution_count": null,
   "id": "ad17ed44",
   "metadata": {},
   "outputs": [],
   "source": [
    "#7. Python program to display numbers from a list using a for loop.\n",
    "x=[1,2,3,4,5]\n",
    "for i in x:\n",
    "    print(i)"
   ]
  },
  {
   "cell_type": "code",
   "execution_count": 7,
   "id": "6c94c4d1",
   "metadata": {},
   "outputs": [
    {
     "name": "stdout",
     "output_type": "stream",
     "text": [
      "Enter a word 2346\n",
      "6432\n"
     ]
    }
   ],
   "source": [
    "#8. Python program that accepts a word from the user and reverses it.\n",
    "user=input(\"Enter a word \")\n",
    "rev=\"\"\n",
    "for i in user:\n",
    "    rev=i+rev\n",
    "print(rev)"
   ]
  },
  {
   "cell_type": "code",
   "execution_count": null,
   "id": "cfe674e7",
   "metadata": {},
   "outputs": [],
   "source": [
    "#9. Python program to count the number of even and odd numbers from a series of numbers.\n",
    "a=[]\n",
    "b=[]\n",
    "for i in range(1,11):\n",
    "    if i%2==0:\n",
    "        a.append(i)\n",
    "    else:\n",
    "        b.append(i)\n",
    "print(len(a))\n",
    "print(len(b))"
   ]
  },
  {
   "cell_type": "code",
   "execution_count": 12,
   "id": "e32cc1f6",
   "metadata": {},
   "outputs": [
    {
     "name": "stdout",
     "output_type": "stream",
     "text": [
      "enter range of numbers 10\n",
      "{8, 9, 4, 6}\n"
     ]
    }
   ],
   "source": [
    "#10. Python program to display all numbers within a range except the prime numbers.\n",
    "n=int(input(\"enter range of numbers \"))\n",
    "k=[]\n",
    "for i in range(0,n):\n",
    "    for j in range(2,i):\n",
    "        if i%j==0:\n",
    "            k.append(i)\n",
    "print(set(k))"
   ]
  },
  {
   "cell_type": "code",
   "execution_count": null,
   "id": "d6e59bcd",
   "metadata": {},
   "outputs": [],
   "source": [
    "3%3\n"
   ]
  },
  {
   "cell_type": "code",
   "execution_count": null,
   "id": "3ff65f6e",
   "metadata": {},
   "outputs": [],
   "source": [
    "#11.Python program to get the Fibonacci series between 0 to 50.\n",
    "n1=0\n",
    "n2=1\n",
    "print(n1)\n",
    "print(n2)\n",
    "for i in range(0,50):\n",
    "    c=n1+n2\n",
    "    n1=n2\n",
    "    n2=c\n",
    "    print(c,end=\",\")\n",
    "\n",
    "    "
   ]
  },
  {
   "cell_type": "markdown",
   "id": "2a4e8422",
   "metadata": {},
   "source": [
    "# While Loops"
   ]
  },
  {
   "cell_type": "code",
   "execution_count": null,
   "id": "346a7d96",
   "metadata": {},
   "outputs": [],
   "source": [
    "#14,15,16.\n",
    "#write the program to print the following by using while loop\n",
    "#a.first 10 even number\n",
    "#b.first 10 odd number\n",
    "x=0\n",
    "odd=[]\n",
    "even=[]\n",
    "while x<11:\n",
    "    if x%2==0:\n",
    "        even.append(x)\n",
    "    elif x%2==1:\n",
    "        odd.append(x)\n",
    "    x=x+1\n",
    "print(\"Even Numbers : \",even)\n",
    "print(\"Odd Numbers :\",odd)\n"
   ]
  },
  {
   "cell_type": "code",
   "execution_count": null,
   "id": "7864366f",
   "metadata": {},
   "outputs": [],
   "source": [
    "#17.print first 10 integers and their squres using while loop.\n",
    "x=0\n",
    "while x<=10:\n",
    "    print(x**2)\n",
    "    x=x+1\n"
   ]
  },
  {
   "cell_type": "code",
   "execution_count": null,
   "id": "2bc16a20",
   "metadata": {},
   "outputs": [],
   "source": [
    "# 18,19,,,   Q.while loop statement to print following series\n",
    "#105,98,95------7\n",
    "\n",
    "x=112\n",
    "while x>7:\n",
    "    x=x-7\n",
    "    print(x)"
   ]
  },
  {
   "cell_type": "code",
   "execution_count": null,
   "id": "213705a6",
   "metadata": {},
   "outputs": [],
   "source": [
    "#20. print the first 10 natural numbers in reverse order using while loop\n",
    "x=11\n",
    "while x>1:\n",
    "    x=x-1\n",
    "    print(x)"
   ]
  },
  {
   "cell_type": "code",
   "execution_count": null,
   "id": "9f5b675e",
   "metadata": {},
   "outputs": [],
   "source": [
    "#21. print sum of first 10 natural numbers \n",
    "x=0\n",
    "sum=0\n",
    "while x<10:\n",
    "    sum=sum+x\n",
    "    x=x+1\n",
    "print(sum)"
   ]
  },
  {
   "cell_type": "code",
   "execution_count": null,
   "id": "c4ee0843",
   "metadata": {},
   "outputs": [],
   "source": [
    "#22.print sum of first 10 even numbers\n",
    "x=0\n",
    "even_sum=0\n",
    "while x<20:\n",
    "    x=x+1\n",
    "    if x%2==0:\n",
    "        even_sum=even_sum+x\n",
    "print(even_sum)"
   ]
  },
  {
   "cell_type": "code",
   "execution_count": null,
   "id": "15db781b",
   "metadata": {},
   "outputs": [],
   "source": [
    "#23. program to print the table entered by the user.\n",
    "x=int(input(\"enter  a number : \"))\n",
    "y=1\n",
    "while y<11:\n",
    "    print(x,\"x\",y,\"=\",x*y)\n",
    "    y=y+1"
   ]
  },
  {
   "cell_type": "code",
   "execution_count": null,
   "id": "4061d1fb",
   "metadata": {},
   "outputs": [],
   "source": [
    "#24. program to find the sum of digits of numbers accepted by the user,using while loop.\n",
    "n=int(input(\"Enter a number : \"))\n",
    "sum=0\n",
    "while n>0:\n",
    "    rem=n%10\n",
    "    sum=sum+rem\n",
    "    n=n//10\n",
    "print(sum)\n"
   ]
  },
  {
   "cell_type": "code",
   "execution_count": null,
   "id": "e3903eee",
   "metadata": {},
   "outputs": [],
   "source": [
    "#25. program to reverse the number accepted by the user using while loop\n",
    "# n=int(input(\"Enter a number \"))\n",
    "# rev=0\n",
    "# while n>0:\n",
    "#     rev=rev*10+n%10\n",
    "#     n=n//10\n",
    "# print(rev)\n",
    "\n",
    "# Approach 2\n",
    "x=int(input(\"enter a number : \"))\n",
    "s=0\n",
    "while x>s:\n",
    "    s=s+1\n",
    "    a=str(x)\n",
    "    b=a[::-1]\n",
    "    z=int(b)\n",
    "print(z)"
   ]
  },
  {
   "cell_type": "code",
   "execution_count": null,
   "id": "84a798d2",
   "metadata": {},
   "outputs": [],
   "source": [
    "#26. program to check palindrome or not\n",
    "\n",
    "n=int(input(\"Enter a number \"))\n",
    "rev=0\n",
    "temp=n\n",
    "while n>0:\n",
    "    rev=rev*10+n%10\n",
    "    n=n//10\n",
    "#print(rev)\n",
    "\n",
    "if (temp==rev):\n",
    "    print(\"is a palindrome\")\n",
    "else:\n",
    "    print(\"it's not a plaindrome\")"
   ]
  },
  {
   "cell_type": "code",
   "execution_count": null,
   "id": "9729220d",
   "metadata": {},
   "outputs": [],
   "source": [
    "#26. palindrome for string \n",
    "x=input(\"Enter a string : \")\n",
    "w=x[::-1]\n",
    "while len(x)<len(w):\n",
    "    if x==w:\n",
    "        print(x,\"is a palindrome\")\n",
    "        break\n",
    "    else:\n",
    "        print(x,\"is not a plindrome\")\n",
    "        break"
   ]
  },
  {
   "cell_type": "markdown",
   "id": "131b057c",
   "metadata": {},
   "source": [
    "# 30-11-2022 Add functions to the all programes"
   ]
  },
  {
   "cell_type": "code",
   "execution_count": null,
   "id": "7cd0d96a",
   "metadata": {},
   "outputs": [],
   "source": [
    "#1 . \n",
    "#  1 input=123456 output=456123\n",
    "n=\"123456\"\n",
    "def rev(n):\n",
    "    a=n[0:3]\n",
    "    b=n[3:]\n",
    "    z=int(b+a)\n",
    "    print(z)\n",
    "rev(n)"
   ]
  },
  {
   "cell_type": "code",
   "execution_count": null,
   "id": "1b0ba955",
   "metadata": {},
   "outputs": [],
   "source": [
    "#2.\n",
    "s=\"Venkatt\"\n",
    "def duplicates_string():\n",
    "    #s=\"Venkatt\"\n",
    "    s1=''\n",
    "    for i in s:\n",
    "        if s.count(i)>1:\n",
    "            del i\n",
    "        else:\n",
    "            s1=s1+i\n",
    "    print(s1)\n",
    "duplicates_string()\n"
   ]
  },
  {
   "cell_type": "code",
   "execution_count": null,
   "id": "a2995b7d",
   "metadata": {},
   "outputs": [],
   "source": []
  },
  {
   "cell_type": "code",
   "execution_count": null,
   "id": "3e625978",
   "metadata": {},
   "outputs": [],
   "source": []
  },
  {
   "cell_type": "code",
   "execution_count": null,
   "id": "f198a816",
   "metadata": {},
   "outputs": [],
   "source": []
  },
  {
   "cell_type": "code",
   "execution_count": null,
   "id": "e9890dfe",
   "metadata": {},
   "outputs": [],
   "source": []
  },
  {
   "cell_type": "code",
   "execution_count": null,
   "id": "b0c55a90",
   "metadata": {},
   "outputs": [],
   "source": []
  },
  {
   "cell_type": "code",
   "execution_count": null,
   "id": "d486cf0d",
   "metadata": {},
   "outputs": [],
   "source": []
  },
  {
   "cell_type": "code",
   "execution_count": null,
   "id": "7a456309",
   "metadata": {},
   "outputs": [],
   "source": []
  },
  {
   "cell_type": "code",
   "execution_count": null,
   "id": "ea0f7131",
   "metadata": {},
   "outputs": [],
   "source": []
  },
  {
   "cell_type": "code",
   "execution_count": null,
   "id": "90d43109",
   "metadata": {},
   "outputs": [],
   "source": []
  },
  {
   "cell_type": "code",
   "execution_count": null,
   "id": "62f970d5",
   "metadata": {},
   "outputs": [],
   "source": []
  },
  {
   "cell_type": "code",
   "execution_count": null,
   "id": "a7cfe602",
   "metadata": {},
   "outputs": [],
   "source": []
  },
  {
   "cell_type": "code",
   "execution_count": null,
   "id": "aaf0614b",
   "metadata": {},
   "outputs": [],
   "source": []
  },
  {
   "cell_type": "code",
   "execution_count": null,
   "id": "687d2973",
   "metadata": {},
   "outputs": [],
   "source": [
    "s= input(\"enter: \")\n",
    "count1=0\n",
    "count2=0\n",
    "for i in s:\n",
    "    if i.isalpha():\n",
    "        count1=count1+1\n",
    "    elif i.isdigit():\n",
    "        count2=count2+1\n",
    "print(count1)\n",
    "print(count2)"
   ]
  },
  {
   "cell_type": "code",
   "execution_count": null,
   "id": "48da484c",
   "metadata": {},
   "outputs": [],
   "source": []
  },
  {
   "cell_type": "code",
   "execution_count": null,
   "id": "6bb80280",
   "metadata": {},
   "outputs": [],
   "source": []
  },
  {
   "cell_type": "code",
   "execution_count": null,
   "id": "56cd7fb6",
   "metadata": {},
   "outputs": [],
   "source": [
    "# adding functions to loops 29-11-2022"
   ]
  },
  {
   "cell_type": "code",
   "execution_count": null,
   "id": "121d0d16",
   "metadata": {},
   "outputs": [],
   "source": [
    "#2. Print the first 10 natural numbers using for loop.\n",
    "\n",
    "def natural():\n",
    "    for i in range(1,11):\n",
    "        print(i)\n",
    "natural()"
   ]
  },
  {
   "cell_type": "code",
   "execution_count": null,
   "id": "5ecb6c38",
   "metadata": {},
   "outputs": [],
   "source": [
    "#3.Python program to print all the even numbers within the given range.\n",
    "def even():\n",
    "    for i in range(1,11):\n",
    "        if i%2==0:\n",
    "            print(i)\n",
    "even()"
   ]
  },
  {
   "cell_type": "code",
   "execution_count": null,
   "id": "49c77879",
   "metadata": {},
   "outputs": [],
   "source": [
    "#4. Python program to calculate the sum of all numbers from 1 to a given number.\n",
    "def num_sum():\n",
    "    sum=0\n",
    "    for i in range(1,10):\n",
    "        sum=sum+i\n",
    "    print(sum)\n",
    "num_sum()"
   ]
  },
  {
   "cell_type": "code",
   "execution_count": null,
   "id": "1993a7dc",
   "metadata": {},
   "outputs": [],
   "source": [
    "#5. Python program to calculate the sum of all the odd numbers within the given range.\n",
    "def sum_odd():\n",
    "    odd=0\n",
    "    for i in range(1,11):\n",
    "        if i%2==1:\n",
    "            odd=odd+i\n",
    "    print(odd)\n",
    "sum_odd()\n",
    "        "
   ]
  },
  {
   "cell_type": "code",
   "execution_count": null,
   "id": "3084a164",
   "metadata": {},
   "outputs": [],
   "source": [
    "#6. Python program to print a multiplication table of a given number\n",
    "n=int(input(\"enter a table :\"))\n",
    "def table(n):\n",
    "    for i in range(1,11):\n",
    "        print(n,\"x\",i,\"=\",n*i)\n",
    "table(n)"
   ]
  },
  {
   "cell_type": "code",
   "execution_count": null,
   "id": "c16974d8",
   "metadata": {},
   "outputs": [],
   "source": [
    "#7. Python program to display numbers from a list using a for loop.\n",
    "n=[1,2,3,4,5]\n",
    "def list_num(n):\n",
    "    for i in n:\n",
    "        print(i,end=\" \")\n",
    "list_num(n)"
   ]
  },
  {
   "cell_type": "code",
   "execution_count": null,
   "id": "c7895e58",
   "metadata": {},
   "outputs": [],
   "source": [
    "#8.Python program that accepts a word from the user and reverses it.\n",
    "n=input(\"enter a word : \")\n",
    "def reverse(n):\n",
    "    rev=''\n",
    "    for i in n:\n",
    "        rev=i+rev\n",
    "    return rev\n",
    "reverse(n)"
   ]
  },
  {
   "cell_type": "code",
   "execution_count": null,
   "id": "8fb0db5e",
   "metadata": {},
   "outputs": [],
   "source": [
    "#9. Python program to count the number of even and odd numbers from a series of numbers.\n",
    "def count_evenOdd():\n",
    "    even=[]\n",
    "    odd=[]\n",
    "    for i in range(1,10):\n",
    "        if i%2==0:\n",
    "            even.append(i)\n",
    "        else:\n",
    "            odd.append(i)\n",
    "    print(\"even nums : \",even)\n",
    "    print(\"odd nums : \",odd)\n",
    "count_evenOdd()"
   ]
  },
  {
   "cell_type": "code",
   "execution_count": null,
   "id": "1b8861c6",
   "metadata": {},
   "outputs": [],
   "source": [
    "#10. Python program to display all numbers within a range except the prime numbers.\n",
    "def exceptP(n):\n",
    "    n=int(input(\"enter range of numbers \"))\n",
    "    k=[]\n",
    "    for i in range(1,n):\n",
    "        for j in range(2,i):\n",
    "            if i%j==0:\n",
    "                k.append(i)\n",
    "    print(set(k))\n",
    "exceptP(n)\n"
   ]
  },
  {
   "cell_type": "code",
   "execution_count": null,
   "id": "30928be6",
   "metadata": {},
   "outputs": [],
   "source": [
    "#11. Python program to get the Fibonacci series between 0 to 50.\n",
    "def fib(n):\n",
    "    a=0\n",
    "    b=1\n",
    "    if n==0:\n",
    "        print(a)\n",
    "    else:\n",
    "        print(a)\n",
    "        print(b)\n",
    "        for i in range(0,n):\n",
    "            c=a+b\n",
    "            a=b\n",
    "            b=c\n",
    "            print(c)\n",
    "n=int(input(\"Enter a number : \"))\n",
    "fib(n)"
   ]
  },
  {
   "cell_type": "markdown",
   "id": "2b928cd2",
   "metadata": {},
   "source": [
    "# while loops using functions"
   ]
  },
  {
   "cell_type": "code",
   "execution_count": null,
   "id": "a09d29aa",
   "metadata": {},
   "outputs": [],
   "source": [
    "#14,15,16 write the program to print the following by using while loop\n",
    "#a.first 10 even number\n",
    "#b.first 10 odd number\n",
    "\n",
    "def even_odd():\n",
    "    x=0\n",
    "    even=[]\n",
    "    odd=[]\n",
    "    while x<20:\n",
    "        if x%2==0:\n",
    "            even.append(x)\n",
    "        else:\n",
    "            odd.append(x)\n",
    "        x=x+1\n",
    "    print(even)\n",
    "    print(odd)\n",
    "even_odd()\n",
    "            "
   ]
  },
  {
   "cell_type": "code",
   "execution_count": null,
   "id": "40644fdf",
   "metadata": {},
   "outputs": [],
   "source": [
    "#17.print first 10 integers and their squres using while loop.\n",
    "def squers():\n",
    "    x=0\n",
    "    while x<11:\n",
    "        print(x**2)\n",
    "        x=x+1\n",
    "squers()"
   ]
  },
  {
   "cell_type": "code",
   "execution_count": null,
   "id": "a6dc2939",
   "metadata": {},
   "outputs": [],
   "source": [
    "# 18. while loop statement to print following series\n",
    "105,98,95------7\n",
    "def series():\n",
    "    x=112\n",
    "    while x>7:\n",
    "        x=x-7\n",
    "        print(x)\n",
    "series()"
   ]
  },
  {
   "cell_type": "code",
   "execution_count": null,
   "id": "45cdf208",
   "metadata": {},
   "outputs": [],
   "source": [
    "# 20. print the first 10 natural numbers in reverse order using while loop\n",
    "def natural_reverse():\n",
    "    x=10\n",
    "    while x>0:\n",
    "        print(x)\n",
    "        x=x-1\n",
    "natural_reverse()"
   ]
  },
  {
   "cell_type": "code",
   "execution_count": null,
   "id": "c6bf11d9",
   "metadata": {},
   "outputs": [],
   "source": [
    "#21. print sum of first 10 natural numbers \n",
    "def sum_naturals():\n",
    "    x=0\n",
    "    sum=0\n",
    "    while x<10:\n",
    "        sum=sum+x\n",
    "        x=x+1\n",
    "    print(sum)\n",
    "sum_naturals()"
   ]
  },
  {
   "cell_type": "code",
   "execution_count": null,
   "id": "8e8ca4c8",
   "metadata": {},
   "outputs": [],
   "source": [
    "#22.print sum of first 10 even numbers\n",
    "\n",
    "def even_nums():\n",
    "    x=0\n",
    "    sum=0\n",
    "    while x<20:\n",
    "        x=x+1\n",
    "        if x%2==0:\n",
    "            sum=sum+x\n",
    "    print(sum)\n",
    "even_nums()"
   ]
  },
  {
   "cell_type": "code",
   "execution_count": null,
   "id": "f8b28b0e",
   "metadata": {},
   "outputs": [],
   "source": [
    "# 23. program to print the table entered by the user.\n",
    "n=int(input(\"Enter a value for table : \"))\n",
    "def table(n):\n",
    "    x=0\n",
    "    while x<10:\n",
    "        x=x+1\n",
    "        print(n,\"x\",x,\"=\",n*x)\n",
    "table(n)"
   ]
  },
  {
   "cell_type": "code",
   "execution_count": null,
   "id": "88694a96",
   "metadata": {},
   "outputs": [],
   "source": [
    "#24. program to find the sum of digits of numbers accepted by the user,using while loop.\n",
    "def sum_digit(n):\n",
    "    sum=0\n",
    "    while n>0:\n",
    "        rem=n%10\n",
    "        sum=sum+rem\n",
    "        n=n//10\n",
    "    print(sum)\n",
    "n=int(input(\"Enter some digits : \"))\n",
    "sum_digit(n)\n",
    "        "
   ]
  },
  {
   "cell_type": "code",
   "execution_count": null,
   "id": "2cd1bdd3",
   "metadata": {},
   "outputs": [],
   "source": [
    "#25. program to reverse the number accepted by the user using while loop\n",
    "\n",
    "def reverse_num(n):\n",
    "    n=int(input(\"enter a numbers : \"))\n",
    "    s=0\n",
    "    while n>s:\n",
    "        s=s+1\n",
    "        a=str(n)\n",
    "        b=a[::-1]\n",
    "        c=int(b)\n",
    "    print(c)\n",
    "reverse_num(n)"
   ]
  },
  {
   "cell_type": "code",
   "execution_count": null,
   "id": "0dd547d9",
   "metadata": {},
   "outputs": [],
   "source": [
    "#26. program to check palindrome or not.\n",
    "def palindrome(n):\n",
    "    n=input(\"enter a thing : \")\n",
    "    x=n[::-1]\n",
    "    while len(n)<=len(n):\n",
    "        if n==x:\n",
    "            print(n,\"is a palindrome\")\n",
    "            break\n",
    "        else:\n",
    "            print(n,\"is not a palindrome \")\n",
    "            break\n",
    "palindrome(n)"
   ]
  },
  {
   "cell_type": "code",
   "execution_count": null,
   "id": "5137819b",
   "metadata": {},
   "outputs": [],
   "source": [
    "#prime number between two numbers\n",
    "\n",
    "l=int(input(\"Enter a lower number : \"))\n",
    "u=int(input(\"Enter a upper number : \"))\n",
    "for num in range(l,u+1):\n",
    "    if num>1:\n",
    "        for i in range(2,num):\n",
    "            if num%i==0:\n",
    "                break\n",
    "        else:\n",
    "            print(num)"
   ]
  },
  {
   "cell_type": "markdown",
   "id": "b52caed2",
   "metadata": {},
   "source": [
    "From given list \n",
    "\n",
    "gadgets = [“Mobile”, “Laptop”, 100, “Camera”, 310.28, “Speakers”, 27.00, \n",
    "\n",
    " “Television”, 1000, “Laptop Case”, “Camera Lens”] \n",
    "\n",
    "a) create separate lists of strings and numbers Sort the s bers.   \n",
    "\n",
    " b) strings list in ascending order \n",
    "\n",
    " c) Sort the strings list in descending order \n",
    "\n",
    " d) Sort the number list from lowest to highest \n",
    "\n",
    " e) Sort the number list from highest to lowest "
   ]
  },
  {
   "cell_type": "code",
   "execution_count": null,
   "id": "338148e9",
   "metadata": {},
   "outputs": [],
   "source": [
    "s = [\"Mobile\", \"Laptop\", 100, \"Camera\", 310.28, \"Speakers\", 27.00,  \"Television\", 1000, \"Laptop Case\", \"Camera Lens\"]\n",
    "a=[]\n",
    "b=[]\n",
    "c=[]\n",
    "for i in s:\n",
    "    if isinstance(i,int):\n",
    "        a.append(i)\n",
    "    elif isinstance(i,float):\n",
    "        b.append(i)\n",
    "    else:\n",
    "        c.append(i)\n",
    "print(a,end='')\n",
    "print(b,end='')\n",
    "print(c,end='')\n",
    "\n",
    "        \n",
    "            "
   ]
  },
  {
   "cell_type": "code",
   "execution_count": null,
   "id": "783391d5",
   "metadata": {},
   "outputs": [],
   "source": [
    "str1=c\n",
    "print(str1)"
   ]
  },
  {
   "cell_type": "code",
   "execution_count": null,
   "id": "92711d24",
   "metadata": {},
   "outputs": [],
   "source": [
    "str1=(set(c))\n",
    "lst=list(str1)\n",
    "print(lst)"
   ]
  },
  {
   "cell_type": "code",
   "execution_count": null,
   "id": "e313a95c",
   "metadata": {},
   "outputs": [],
   "source": [
    "x=a+b\n",
    "y=sorted(x)\n",
    "print(\"lowest to highest \")\n",
    "print(y)\n",
    "print(\"highest to lowest\")\n",
    "f=y[::-1]\n",
    "print(f)"
   ]
  },
  {
   "cell_type": "code",
   "execution_count": null,
   "id": "251c6449",
   "metadata": {},
   "outputs": [],
   "source": []
  },
  {
   "cell_type": "code",
   "execution_count": null,
   "id": "8bacd83e",
   "metadata": {},
   "outputs": [],
   "source": [
    "a=[86,86,85,85,85,83,23,45,84,1,2,0]\n",
    "b=set(a)\n",
    "x=sorted(b)\n",
    "print(x[-1],x[-2])"
   ]
  },
  {
   "cell_type": "code",
   "execution_count": null,
   "id": "c7baf8d5",
   "metadata": {},
   "outputs": [],
   "source": [
    "user=int(input(\"enter a number 1-4 : \"))\n",
    "dic={1:\"one\",2:\"two\",3:\"three\",4:\"four\"}\n",
    "v=dic[user]\n",
    "print(v)\n",
    "\n",
    "  "
   ]
  },
  {
   "cell_type": "code",
   "execution_count": null,
   "id": "162124f4",
   "metadata": {},
   "outputs": [],
   "source": [
    "n=int(input(\"enter a number 1-10 : \"))\n",
    "num=[1,2,3,4,5,6,7,8,9,10]\n",
    "val=[\"one\",\"two\",\"three\",'Four',\"five\",\"six\",\"seven\",\"eight\",\"nine\",'ten']\n",
    "x=dict(zip(num,val))\n",
    "print(x[n])"
   ]
  },
  {
   "cell_type": "code",
   "execution_count": null,
   "id": "d8ce2981",
   "metadata": {},
   "outputs": [],
   "source": [
    "u=int(input(\"enter a prize between 400 to 1900\"))\n",
    "products = { \n",
    "\n",
    " \"SMART WATCH\": 550, \n",
    "\n",
    " \"PHONE\" : 1000, \n",
    "\n",
    " \"PLAYSTATION\": 500, \n",
    "\n",
    " \"LAPTOP\" : 1550, \n",
    "\n",
    " \"MUSIC PLAYER\" : 600, \n",
    "\n",
    " \"TABLET\" : 400 \n",
    "\n",
    "} \n",
    "for i,j in products.items():\n",
    "    if j<=u:\n",
    "        print(j,\"=\",i)\n"
   ]
  },
  {
   "cell_type": "code",
   "execution_count": 13,
   "id": "c9e2c6f0",
   "metadata": {},
   "outputs": [
    {
     "data": {
      "text/plain": [
       "550"
      ]
     },
     "execution_count": 13,
     "metadata": {},
     "output_type": "execute_result"
    }
   ],
   "source": [
    "p={\"smartwatch\":550,\"phone\":1000,\"playstation\":500,\"laptop\":1500,\"musicplayer\":600,\"tablet\":400}\n",
    "x=p[\"smartwatch\"]\n",
    "x"
   ]
  },
  {
   "cell_type": "code",
   "execution_count": null,
   "id": "c594be6f",
   "metadata": {},
   "outputs": [],
   "source": [
    "s=input(\" enter a string : \")\n",
    "s1=''\n",
    "s2=''\n",
    "s3=''\n",
    "for i in s:\n",
    "    if i.islower():\n",
    "        s1=i+s1\n",
    "    else:\n",
    "        s2=i+s2\n",
    "s3=s1+s2\n",
    "print(s3)"
   ]
  },
  {
   "cell_type": "code",
   "execution_count": 31,
   "id": "e53de0b4",
   "metadata": {},
   "outputs": [
    {
     "name": "stdout",
     "output_type": "stream",
     "text": [
      "nmber of charcters are :  8 Pynative\n",
      "total numbers are :  3 ['2', '6', '5']\n",
      "total symbols are :  4 @#^&\n"
     ]
    }
   ],
   "source": [
    "\n",
    "s = \"P@#yn26at^&i5ve\" \n",
    "s1=''\n",
    "s2=[]\n",
    "s3=''\n",
    "a=1\n",
    "b=1\n",
    "c=1\n",
    "\n",
    "for i in s:\n",
    "    if i.isalpha():\n",
    "        s1=s1+i\n",
    "        a=a+1\n",
    "    elif i.isnumeric():\n",
    "        s2.append(i)\n",
    "        b=b+1\n",
    "    else:\n",
    "        s3=s3+i\n",
    "        c=c+1\n",
    "# print(s1)\n",
    "print(\"nmber of charcters are : \",a-1 ,s1)\n",
    "# print(s2)\n",
    "print(\"total numbers are : \",b-1,s2)\n",
    "# print(s3)\n",
    "print(\"total symbols are : \",c-1,s3)"
   ]
  },
  {
   "cell_type": "code",
   "execution_count": null,
   "id": "bc019986",
   "metadata": {},
   "outputs": [],
   "source": [
    "s=\"Welcome  to USA. usa awesome, isn't it?\"\n",
    "s1=s.lower()\n",
    "\n",
    "s2=s1.split()\n",
    "s3=\"\"\n",
    "for i in s2:\n",
    "    if \"usa\" in i:\n",
    "        s3=s3+i\n",
    "print(\"usa count is : \",s3.count(\"usa\"))"
   ]
  },
  {
   "cell_type": "code",
   "execution_count": null,
   "id": "848c423a",
   "metadata": {},
   "outputs": [],
   "source": [
    "a=\"Welcome  to USA .  usa awesome, isn't it?\"\n",
    "z=a.lower()\n",
    "b=z.split()\n",
    "c={}\n",
    "for i in b:\n",
    "    if i in c:\n",
    "        c[i]=c[i]+1\n",
    "    else:\n",
    "        c[i]=1\n",
    "print(c)"
   ]
  },
  {
   "cell_type": "code",
   "execution_count": 10,
   "id": "c6dabe17",
   "metadata": {},
   "outputs": [
    {
     "name": "stdout",
     "output_type": "stream",
     "text": [
      "h : 3\n",
      "a : 4\n",
      "r : 2\n",
      "i : 4\n",
      "  : 3\n",
      "h : 3\n",
      "a : 4\n",
      "r : 2\n",
      "i : 4\n",
      "  : 3\n",
      "s : 1\n",
      "i : 4\n",
      "m : 1\n",
      "h : 3\n",
      "a : 4\n",
      "  : 3\n",
      "g : 1\n",
      "a : 4\n",
      "n : 1\n",
      "i : 4\n"
     ]
    }
   ],
   "source": [
    "s=\"hari hari simha gani\"\n",
    "x=s.split( )\n",
    "for i in s:\n",
    "    print(i,\":\",s.count(i))\n",
    "#     s=s.count(i)"
   ]
  },
  {
   "cell_type": "code",
   "execution_count": 11,
   "id": "3ed7b51b",
   "metadata": {},
   "outputs": [
    {
     "name": "stdout",
     "output_type": "stream",
     "text": [
      "yes\n"
     ]
    }
   ],
   "source": [
    "\n",
    "x=\"this is orange juice\"\n",
    "w=\"orange\"\n",
    "if w in x:\n",
    "    print(\"yes\")"
   ]
  },
  {
   "cell_type": "code",
   "execution_count": null,
   "id": "29c05415",
   "metadata": {},
   "outputs": [],
   "source": [
    "for i in range(6):\n",
    "    print(\"*\")\n",
    "    \n",
    "for j in range(i+1):\n",
    "    print(\"*\",end=\"\")"
   ]
  },
  {
   "cell_type": "code",
   "execution_count": null,
   "id": "73b7ab0f",
   "metadata": {},
   "outputs": [],
   "source": [
    "import datetime\n",
    "a=datetime.datetime.now()\n",
    "print(a)"
   ]
  },
  {
   "cell_type": "code",
   "execution_count": null,
   "id": "0eca4ebf",
   "metadata": {},
   "outputs": [],
   "source": [
    "x=\"H1e2l3l4o5w6o7r8l9d \"\n",
    "n=''\n",
    "for i in x:\n",
    "    if i.isalpha():\n",
    "        # n.append(i)\n",
    "        n=n+i\n",
    "print(n)"
   ]
  },
  {
   "cell_type": "code",
   "execution_count": null,
   "id": "596ab27e",
   "metadata": {},
   "outputs": [],
   "source": [
    "x=[1,2,30,44,78,93,47]\n",
    "for i in range(len(x)):\n",
    "    for j in range(i+1,len(x)):\n",
    "        if x[i]<x[j]:\n",
    "            x[i],x[j]=x[j],x[i]\n",
    "print(x[2])"
   ]
  },
  {
   "cell_type": "code",
   "execution_count": null,
   "id": "e948edd5",
   "metadata": {},
   "outputs": [],
   "source": [
    "pip install virtualenv\n"
   ]
  },
  {
   "cell_type": "code",
   "execution_count": null,
   "id": "9670bcae",
   "metadata": {},
   "outputs": [],
   "source": [
    "pip install flask"
   ]
  },
  {
   "cell_type": "code",
   "execution_count": null,
   "id": "23416356",
   "metadata": {},
   "outputs": [],
   "source": []
  },
  {
   "cell_type": "code",
   "execution_count": null,
   "id": "2b8f8d5d",
   "metadata": {},
   "outputs": [],
   "source": []
  },
  {
   "cell_type": "markdown",
   "id": "89fdb199",
   "metadata": {},
   "source": [
    "### Flask Codes strats from here\n"
   ]
  },
  {
   "cell_type": "code",
   "execution_count": null,
   "id": "ffe95528",
   "metadata": {},
   "outputs": [],
   "source": [
    "#1."
   ]
  },
  {
   "cell_type": "code",
   "execution_count": null,
   "id": "97ce6e3a",
   "metadata": {},
   "outputs": [],
   "source": [
    "from flask import Flask\n",
    "app=Flask(__name__)\n",
    "@app.route('/')\n",
    "def home():\n",
    "    return \"hi Narsimha\"\n",
    "if __name__==\"__main__\":\n",
    "    app.run()"
   ]
  },
  {
   "cell_type": "code",
   "execution_count": 33,
   "id": "3bf39aa8",
   "metadata": {},
   "outputs": [
    {
     "name": "stdout",
     "output_type": "stream",
     "text": [
      "{'name': 'narsimha', 'age': '23', 'deg': 'Software'}\n"
     ]
    }
   ],
   "source": [
    "x=\"name:narsimha,age;23,deg:Software\"\n",
    "a=x.replace(\";\",\":\")\n",
    "c={}\n",
    "d=a.split(',')\n",
    "for i in d:\n",
    "    k,v=i.split(':')\n",
    "    c[k]=v\n",
    "print(c)"
   ]
  },
  {
   "cell_type": "code",
   "execution_count": null,
   "id": "145138a1",
   "metadata": {},
   "outputs": [],
   "source": [
    "d = {1: 2, 3: 4, 4: 3, 2: 1, 0: 0}\n"
   ]
  },
  {
   "cell_type": "code",
   "execution_count": null,
   "id": "f8c0b13e",
   "metadata": {},
   "outputs": [],
   "source": [
    "x=\"name:narsimha,age;23,deg:Software\"\n",
    "a=x.split(',')\n",
    "d={}\n",
    "[{'name': 'vasu', 'id': '1'}, {'name': 'raju', 'id': '2'}, {'name': 'vasu', 'id': '3'}]\n"
   ]
  },
  {
   "cell_type": "code",
   "execution_count": 34,
   "id": "68c107fa",
   "metadata": {},
   "outputs": [
    {
     "name": "stdout",
     "output_type": "stream",
     "text": [
      "[{'name': 'vasu', 'id': '1'}, {'name': 'raju', 'id': '2'}, {'name': 'vasu', 'id': '3'}]\n"
     ]
    }
   ],
   "source": [
    "a='vasu:1,raju:2,vasu:3'\n",
    "b=[]\n",
    "c=a.split(',')\n",
    "for i in c:\n",
    "    name,id=i.split(':')\n",
    "    b.append({'name':name,'id':id})\n",
    "print(b)\n",
    " \n",
    "\n",
    "    "
   ]
  },
  {
   "cell_type": "code",
   "execution_count": 35,
   "id": "33c2018f",
   "metadata": {},
   "outputs": [
    {
     "name": "stdout",
     "output_type": "stream",
     "text": [
      "{'name': 'vasu', 'id': '1'}\n"
     ]
    }
   ],
   "source": [
    "a=['vasu:1','raju:2','vasu:3']\n",
    "s=['name','id']\n",
    "b=a[0]\n",
    "c=b.split(':')\n",
    "for i in c:\n",
    "    x=dict(zip(s,c))\n",
    "print(x)"
   ]
  },
  {
   "cell_type": "code",
   "execution_count": 23,
   "id": "c5d14fa3",
   "metadata": {},
   "outputs": [
    {
     "data": {
      "text/plain": [
       "{'name': 'vasu', 'id': '1'}"
      ]
     },
     "execution_count": 23,
     "metadata": {},
     "output_type": "execute_result"
    }
   ],
   "source": [
    "a=['vasu:1','raju:2','vasu:3']\n",
    "s=['name','id']\n",
    "b,c,d=a[0],a[1],a[2]\n",
    "g,h,k=b.split(':'),c.split(':'),d.split(':')\n",
    "w=dict(zip(s,g))\n",
    "w"
   ]
  },
  {
   "cell_type": "code",
   "execution_count": 24,
   "id": "8dcbb500",
   "metadata": {},
   "outputs": [
    {
     "data": {
      "text/plain": [
       "{'amount': 25, 'deg': 15, 'id': 3, 'name': 'vasu'}"
      ]
     },
     "execution_count": 24,
     "metadata": {},
     "output_type": "execute_result"
    }
   ],
   "source": [
    "a={'name':'vasu','id':3,'deg':15,'amount':25}\n",
    "x=[]\n",
    "y=[]\n",
    "for key,value in a.items():\n",
    "    x.append(key)\n",
    "    y.append(value)\n",
    "s=x[::-1]\n",
    "f=y[::-1]\n",
    "z=dict(zip(s,f))\n",
    "z\n"
   ]
  },
  {
   "cell_type": "code",
   "execution_count": 1,
   "id": "3242240a",
   "metadata": {},
   "outputs": [
    {
     "name": "stdout",
     "output_type": "stream",
     "text": [
      "Enter number under  :3\n",
      "three\n"
     ]
    }
   ],
   "source": [
    "x=int(input(\"Enter number under  :\"))\n",
    "a=[1,2,3,4,5,6,7,8,9,10]\n",
    "b=['one','two','three','four','five','six','seven','eight','nine','ten']\n",
    "c=dict(zip(a,b))\n",
    "print(c[x])"
   ]
  },
  {
   "cell_type": "code",
   "execution_count": 18,
   "id": "63de4720",
   "metadata": {},
   "outputs": [
    {
     "name": "stdout",
     "output_type": "stream",
     "text": [
      "24\n"
     ]
    }
   ],
   "source": [
    "a={'name':'vasu','id':3,'deg':15,'amount':25} \n",
    "c=''\n",
    "d=''\n",
    "for i,j in a.items():\n",
    "    c=c+i\n",
    "    d=d+str(j)\n",
    "print(len(c)+len(d))"
   ]
  },
  {
   "cell_type": "code",
   "execution_count": null,
   "id": "3870c179",
   "metadata": {},
   "outputs": [],
   "source": [
    "\n",
    "\n",
    "            \n",
    "         \n",
    "            \n",
    "    "
   ]
  },
  {
   "cell_type": "code",
   "execution_count": null,
   "id": "4f2598f7",
   "metadata": {},
   "outputs": [],
   "source": []
  },
  {
   "cell_type": "code",
   "execution_count": null,
   "id": "d758d3e6",
   "metadata": {},
   "outputs": [],
   "source": [
    "dic1={1:10, 2:20}\n",
    "dic2={3:30, 4:40}\n",
    "dic3={5:50,6:60}\n",
    "dic4 = {}\n",
    "for d in (dic1, dic2, dic3): \n",
    "    dic4.update(d)\n",
    "print(dic4)\n"
   ]
  },
  {
   "cell_type": "code",
   "execution_count": null,
   "id": "15de07f2",
   "metadata": {},
   "outputs": [],
   "source": [
    "x=int(input(\"enter a number : \"))\n",
    "dic=dict()\n",
    "for i in range(1,x+1):\n",
    "    dic[i]=x**2\n",
    "print(dic)"
   ]
  },
  {
   "cell_type": "code",
   "execution_count": 86,
   "id": "8c229351",
   "metadata": {},
   "outputs": [
    {
     "name": "stdout",
     "output_type": "stream",
     "text": [
      "Enter number between 1 to 110 :-22\n",
      "Please enter the positive number \n"
     ]
    }
   ],
   "source": [
    "x=int(input(\"Enter number between 1 to 110 :\"))\n",
    "if x>110:\n",
    "    print(\"Your number range is out of limit re enter number\")\n",
    "elif x<=0:\n",
    "    print(\"Please enter the positive number \")\n",
    "else:\n",
    "    b = [1,2,3,4,5,6,7,8,9,10,11,12,13,14,15,16,17,18,19,20]\n",
    "    b1=['one','two','three','four','five','six','seven','eight','nine','ten','eleven','twelve','thirteen','fourteen','fifteen','sisteen','seventeen','eighteen','nineteen','twenty']\n",
    "    c = ['one','two','three','four','five','six','seven','eight','nine','']\n",
    "    d = ['twenty','thirty','fourty','fifty','sixty','seventy','eighty','ninety','hundred']\n",
    "    klm=[30,40,50,60,70,80,90,100]\n",
    "    double=['thrity','fourty','fifty','sixty','seventy','eighty','ninety','hundred']\n",
    "    y=[]\n",
    "    rr=[]\n",
    "    \n",
    "    for i in d:\n",
    "        for j in c:\n",
    "            add=i+' '+j\n",
    "            y.append(add)\n",
    "            \n",
    "    for k in range(21,111):\n",
    "        rr.append(k)\n",
    "    md = dict(zip(rr,y))\n",
    "\n",
    "    if x in b:\n",
    "        ss=dict(zip(b,b1))\n",
    "        print(ss[x])\n",
    "\n",
    "    elif x in klm:\n",
    "        mama=dict(zip(klm,double))\n",
    "        print(mama[x])\n",
    "\n",
    "    else:\n",
    "        print(md[x])\n",
    " \n",
    "    "
   ]
  },
  {
   "cell_type": "code",
   "execution_count": 13,
   "id": "464ae5e3",
   "metadata": {},
   "outputs": [
    {
     "name": "stdout",
     "output_type": "stream",
     "text": [
      "[{'name': 'ravi', 'id': 1}, {'name': 'hari', 'id': 2}, {'name': 'gani', 'id': 3}]\n"
     ]
    }
   ],
   "source": [
    "list_val=[{'name':'ravi','id':1},{'name':'hari','id':2},{'name':'gani','id':3}]\n",
    "\n",
    "x=str(list_val)\n",
    "print(x)"
   ]
  },
  {
   "cell_type": "code",
   "execution_count": 2,
   "id": "815d6e70",
   "metadata": {},
   "outputs": [
    {
     "data": {
      "text/plain": [
       "{'amount': 25, 'deg': 15, 'id': 3, 'name': 'vasu'}"
      ]
     },
     "execution_count": 2,
     "metadata": {},
     "output_type": "execute_result"
    }
   ],
   "source": [
    " a={'name':'vasu','id':3,'deg':15,'amount':25}\n",
    "x=[]\n",
    "y=[]\n",
    "for key,value in a.items():\n",
    "    x.append(key)\n",
    "    y.append(value)\n",
    "s=x[::-1]\n",
    "f=y[::-1]\n",
    "z=dict(zip(s,f))\n",
    "z"
   ]
  },
  {
   "cell_type": "code",
   "execution_count": 3,
   "id": "b30ae21a",
   "metadata": {},
   "outputs": [
    {
     "name": "stdout",
     "output_type": "stream",
     "text": [
      "{'name': 'narsimha', 'age': '23', 'deg': 'Software'}\n"
     ]
    }
   ],
   "source": [
    "x=\"name:narsimha,age;23,deg:Software\"\n",
    "a=x.replace(\";\",\":\")\n",
    "c={}\n",
    "d=a.split(',')\n",
    "for i in d:\n",
    "    k,v=i.split(':')\n",
    "    c[k]=v\n",
    "print(c)"
   ]
  },
  {
   "cell_type": "code",
   "execution_count": 19,
   "id": "e81cc25d",
   "metadata": {},
   "outputs": [
    {
     "name": "stdout",
     "output_type": "stream",
     "text": [
      "{'name': 'hari', 'id': 1}\n"
     ]
    }
   ],
   "source": [
    "i = [{'name':'hari','id':1},{'name':'ganesh','id':2},{'name':'simha','id':3}]\n",
    "x=[]\n",
    "print(x)\n"
   ]
  },
  {
   "cell_type": "code",
   "execution_count": 24,
   "id": "6f9fde2d",
   "metadata": {},
   "outputs": [
    {
     "name": "stdout",
     "output_type": "stream",
     "text": [
      "[{'name': 'hari', 'id': 1}, {'name': 'ganesh', 'id': 2}, {'name': 'simha', 'id': 2}]\n"
     ]
    }
   ],
   "source": [
    "x=[{\"name\":\"hari\",\"id\":1},{\"name\":\"ganesh\",\"id\":2},{\"name\":\"simha\",\"id\":2},{\"name\":\"hari\",\"id\":1}]\n",
    "y=[]\n",
    "for i in x:\n",
    "    if i not in y:\n",
    "        y.append(i)\n",
    "print(y)"
   ]
  },
  {
   "cell_type": "code",
   "execution_count": 1,
   "id": "c2ac8a93",
   "metadata": {},
   "outputs": [
    {
     "name": "stdout",
     "output_type": "stream",
     "text": [
      "{'q': 1, 's': 9, 'd': 8, 'f': 7, 'g': 8, 'h': 7, 'j': 7, 'k': 2, 'v': 1, 'a': 1, 'r': 1, 't': 1, 'y': 1, 'u': 1, 'i': 1}\n"
     ]
    }
   ],
   "source": [
    "s='qsdfghjkjhgfdsssdfvghjhgfdssdfghjkjhgfdsasdrtgyujijhgfds'\n",
    "y={}\n",
    "for i in s:\n",
    "    if i not in y.keys():\n",
    "        y[i]=1\n",
    "    else:\n",
    "        y[i]=y[i]+1\n",
    "print(y)"
   ]
  },
  {
   "cell_type": "code",
   "execution_count": 6,
   "id": "9b948332",
   "metadata": {},
   "outputs": [
    {
     "name": "stdout",
     "output_type": "stream",
     "text": [
      "[{'name': 'ganesh', 'id': 24}, {'name': 'hari', 'id': 25}, {'name': 'sai', 'id': 23}, {'name': 'sai', 'id': 23}]\n",
      "[{'name': 'ganesh', 'id': 24}, {'name': 'hari', 'id': 25}, {'name': 'sai', 'id': 23}]\n"
     ]
    }
   ],
   "source": [
    "x=[{\"name\":\"hari\",\"id\":25},{\"name\":\"ganesh\",\"id\":24},{\"name\":\"sai\",\"id\":23},{\"name\":\"sai\",\"id\":23}]\n",
    "for i in range(len(x)):\n",
    "    for j in range(i+1,len(x)):\n",
    "        if x[i]['name']>x[j]['name']:\n",
    "            x[i],x[j]=x[j],x[i]\n",
    "temp=[]\n",
    "for i in x:\n",
    "    if i not in temp:\n",
    "        temp.append(i)\n",
    "print(x)\n",
    "print(temp)"
   ]
  },
  {
   "cell_type": "code",
   "execution_count": 11,
   "id": "202c3660",
   "metadata": {},
   "outputs": [
    {
     "name": "stdout",
     "output_type": "stream",
     "text": [
      "{'S001', 'S005', 'S002', 'S007', 'S009'}\n"
     ]
    }
   ],
   "source": [
    "l = [{\"V\": \"S001\"}, {\"V\": \"S002\"}, {\"VI\": \"S001\"}, {\"VI\": \"S005\"}, {\"VII\": \"S005\"}, {\"V\": \"S009\"}, {\"VIII\": \"S007\"}]\n",
    "x=[]\n",
    "for i in l:\n",
    "    for j in i.values():\n",
    "        x.append(j)\n",
    "print(set(x))"
   ]
  },
  {
   "cell_type": "code",
   "execution_count": 17,
   "id": "bdc00208",
   "metadata": {},
   "outputs": [
    {
     "name": "stdout",
     "output_type": "stream",
     "text": [
      "{'name': 'ravi', 'age': 12, 'sal': 20000}\n",
      "{'name': 'sai', 'age': 13, 'sal': 30000}\n"
     ]
    }
   ],
   "source": [
    "l=[{'name':'ravi','age':12,'sal':20000},{'name':'sai','age':13,'sal':30000},{'name':'mani','age':32,'sal':10000}]\n",
    "for i in l:\n",
    "    if i['sal']>=20000:\n",
    "        print(i)"
   ]
  },
  {
   "cell_type": "code",
   "execution_count": 22,
   "id": "666befc9",
   "metadata": {},
   "outputs": [
    {
     "name": "stdout",
     "output_type": "stream",
     "text": [
      "16\n"
     ]
    }
   ],
   "source": [
    "a={'name':'vasu', 'amount':40}\n",
    "c=0\n",
    "for i,j in a.items():\n",
    "    c=c+len(i)+len(str(j))\n",
    "print(c)"
   ]
  },
  {
   "cell_type": "code",
   "execution_count": 26,
   "id": "2beff334",
   "metadata": {},
   "outputs": [
    {
     "name": "stdout",
     "output_type": "stream",
     "text": [
      "{'e': -2, 'd': 1, 'c': 2, 'b': 5, 'a': 3}\n"
     ]
    }
   ],
   "source": [
    "d={'a':3,'b':5,'c':2,'d':1,'e':-2}\n",
    "x=[]\n",
    "y=[]\n",
    "for k,v in d.items():\n",
    "    x.append(k)\n",
    "    y.append(v)\n",
    "a=x[::-1]\n",
    "b=y[::-1]\n",
    "z=dict(zip(a,b))\n",
    "print(z)"
   ]
  },
  {
   "cell_type": "code",
   "execution_count": 36,
   "id": "a0df4713",
   "metadata": {},
   "outputs": [
    {
     "name": "stdout",
     "output_type": "stream",
     "text": [
      "[{'name': 'AP', 'city': 3, 'citywitha': ['Amravathi', 'Anakala']}, {'name': 'MP', 'city': 3, 'citywitha': ['Abd', 'Ade']}]\n"
     ]
    }
   ],
   "source": [
    "A=[{\"name\":\"AP\",\"city\":[\"vizag\",\"Amravathi\",\"Anakala\",\"kur\",\"nandyala\"]},{\"name\":\"MP\",\"city\":[\"Abd\",\"cda\",\"Ade\",\"kur\",\"d\"]}]\n",
    "for i in A:\n",
    "    c=0\n",
    "    l=[]\n",
    "    for j in i['city']:\n",
    "        c+=1\n",
    "        if j[0]=='A':\n",
    "            l.append(j)\n",
    "            i['city']=c\n",
    "            i['citywitha']=l\n",
    "print(A)"
   ]
  },
  {
   "cell_type": "code",
   "execution_count": 35,
   "id": "6e03f6d1",
   "metadata": {},
   "outputs": [
    {
     "name": "stdout",
     "output_type": "stream",
     "text": [
      "{'rajiv': [{'name': 'kishore', 'reportsTo': 2, 'id': 5}, {'name': 'rajiv', 'reportsTo': 1, 'id': 2}, {'name': 'nanda', 'reportsTo': 1, 'id': 6}], 'manoj': [{'name': 'kishore', 'reportsTo': 2, 'id': 5}, {'name': 'rajiv', 'reportsTo': 1, 'id': 2}, {'name': 'nanda', 'reportsTo': 1, 'id': 6}]}\n"
     ]
    }
   ],
   "source": [
    "data = [  \n",
    "    { \"name\": 'rajiv',  \"reportsTo\": 1, \"id\": 2 },\n",
    "    { \"name\": 'manoj',  \"reportsTo\": 4, \"id\": 1 },\n",
    "    { \"name\": 'kishore',\"reportsTo\": 2, \"id\": 5 },\n",
    "    { \"name\": 'nanda', \"reportsTo\": 1, \"id\": 6 }   \n",
    "]\n",
    "x=[]\n",
    "d={}\n",
    "for i in data:\n",
    "    for j in data:\n",
    "        if i['id']==j['reportsTo']:\n",
    "            x.append(j)\n",
    "            d[i['name']]=x\n",
    "print(d)\n",
    "        "
   ]
  },
  {
   "cell_type": "code",
   "execution_count": 39,
   "id": "9495bf03",
   "metadata": {},
   "outputs": [
    {
     "name": "stdout",
     "output_type": "stream",
     "text": [
      "[{'name': 'AP', 'city': 3, 'citiwithA': ['Amravathi', 'Anakala']}, {'name': 'MP', 'city': 3, 'citiwithA': ['Abd', 'Ade']}]\n"
     ]
    }
   ],
   "source": [
    "\n"
   ]
  },
  {
   "cell_type": "code",
   "execution_count": null,
   "id": "c9ea86b3",
   "metadata": {},
   "outputs": [],
   "source": []
  },
  {
   "cell_type": "code",
   "execution_count": null,
   "id": "eb026897",
   "metadata": {},
   "outputs": [],
   "source": []
  },
  {
   "cell_type": "code",
   "execution_count": null,
   "id": "7765e7d9",
   "metadata": {},
   "outputs": [],
   "source": []
  },
  {
   "cell_type": "code",
   "execution_count": null,
   "id": "897b1ed2",
   "metadata": {},
   "outputs": [],
   "source": []
  },
  {
   "cell_type": "code",
   "execution_count": null,
   "id": "2539be70",
   "metadata": {},
   "outputs": [],
   "source": []
  },
  {
   "cell_type": "code",
   "execution_count": null,
   "id": "c2beb6a7",
   "metadata": {},
   "outputs": [],
   "source": []
  },
  {
   "cell_type": "code",
   "execution_count": null,
   "id": "bcbb51a5",
   "metadata": {},
   "outputs": [],
   "source": []
  },
  {
   "cell_type": "code",
   "execution_count": null,
   "id": "6fe4537c",
   "metadata": {},
   "outputs": [],
   "source": []
  },
  {
   "cell_type": "code",
   "execution_count": null,
   "id": "af746f1e",
   "metadata": {},
   "outputs": [],
   "source": []
  },
  {
   "cell_type": "code",
   "execution_count": 15,
   "id": "1eb546a1",
   "metadata": {},
   "outputs": [
    {
     "name": "stdout",
     "output_type": "stream",
     "text": [
      "17\n"
     ]
    }
   ],
   "source": [
    "x={\"name\": \"vasu\",\"id\": \"1234567\"}\n",
    "sum=0\n",
    "for i,j in x.items():\n",
    "    sum=sum+len(i)+len(j)\n",
    "print(sum)\n",
    "    "
   ]
  },
  {
   "cell_type": "code",
   "execution_count": 20,
   "id": "7350945c",
   "metadata": {},
   "outputs": [
    {
     "name": "stdout",
     "output_type": "stream",
     "text": [
      "30\n"
     ]
    }
   ],
   "source": [
    "a=10\n",
    "b=20\n",
    "c=30\n",
    "x=[a,b,c]\n",
    "max=x[0]\n",
    "for i in x:\n",
    "    if i>max:\n",
    "        max=i\n",
    "print(max)"
   ]
  },
  {
   "cell_type": "code",
   "execution_count": 21,
   "id": "b2a54367",
   "metadata": {},
   "outputs": [
    {
     "name": "stdout",
     "output_type": "stream",
     "text": [
      "30\n"
     ]
    }
   ],
   "source": [
    "a=10\n",
    "b=20\n",
    "c=30\n",
    "if a>b:\n",
    "    print(a)\n",
    "elif b>c:\n",
    "    print(b)\n",
    "else:\n",
    "    print(c)"
   ]
  },
  {
   "cell_type": "code",
   "execution_count": 56,
   "id": "0fe9ccc7",
   "metadata": {},
   "outputs": [
    {
     "name": "stdout",
     "output_type": "stream",
     "text": [
      "* * * \n",
      "* * * \n",
      "* * * \n"
     ]
    }
   ],
   "source": [
    "x=5\n",
    "for i in range(3):\n",
    "    for j in range(3):\n",
    "        if j%1==0:\n",
    "            print(\"*\",end=' ')\n",
    "    print()"
   ]
  },
  {
   "cell_type": "code",
   "execution_count": 120,
   "id": "7a09baf9",
   "metadata": {},
   "outputs": [
    {
     "name": "stdout",
     "output_type": "stream",
     "text": [
      "*    \n",
      " *   \n",
      "  *  \n",
      "   * \n",
      "    *\n"
     ]
    }
   ],
   "source": [
    "size = 5  # size of the pattern\n",
    "for i in range(size):\n",
    "    for j in range(size):\n",
    "        if i == j: #or i + j == size - 1:\n",
    "            print(\"*\", end=\"\")\n",
    "        else:\n",
    "            print(\" \", end=\"\")\n",
    "    print()\n"
   ]
  },
  {
   "cell_type": "code",
   "execution_count": 146,
   "id": "3cc5b61d",
   "metadata": {
    "scrolled": true
   },
   "outputs": [
    {
     "name": "stdout",
     "output_type": "stream",
     "text": [
      "enter a number : 10\n",
      "*****\n",
      "** **\n",
      "*   *\n",
      "** **\n",
      "*****\n",
      "*   *\n",
      "*   *\n",
      "*   *\n",
      "*   *\n",
      "*   *\n"
     ]
    }
   ],
   "source": [
    "n=int(input(\"enter a number : \"))\n",
    "for i in range(n):\n",
    "    if i==0 or i==4:\n",
    "        print(\"*****\")\n",
    "    elif i==1 or i==3:\n",
    "        print(\"** **\")\n",
    "    else:\n",
    "        print(\"*   *\")"
   ]
  },
  {
   "cell_type": "code",
   "execution_count": 147,
   "id": "63d89a87",
   "metadata": {},
   "outputs": [
    {
     "name": "stdout",
     "output_type": "stream",
     "text": [
      "Enter number of row: 3\n",
      "  *\n",
      " ***\n",
      "*****\n",
      " ***\n",
      "  *\n"
     ]
    }
   ],
   "source": [
    "row = int(input('Enter number of row: '))\n",
    "\n",
    "# Upper part of diamond\n",
    "for i in range(1, row+1):\n",
    "    for j in range(1,row-i+1):\n",
    "        print(\" \", end=\"\")\n",
    "    for j in range(1, 2*i):\n",
    "        print(\"*\", end=\"\")\n",
    "    print()\n",
    "\n",
    "# Lower part of diamond\n",
    "for i in range(row-1,0, -1):\n",
    "    for j in range(1,row-i+1):\n",
    "        print(\" \", end=\"\")\n",
    "    for j in range(1, 2*i):\n",
    "        print(\"*\", end=\"\")\n",
    "    print()"
   ]
  },
  {
   "cell_type": "code",
   "execution_count": 151,
   "id": "13cc68e5",
   "metadata": {},
   "outputs": [
    {
     "name": "stdout",
     "output_type": "stream",
     "text": [
      "-1.1111111111111112\n"
     ]
    }
   ],
   "source": [
    "def temparature(temp):\n",
    "    print((temp- 32)/1.8)\n",
    "temparature(30)"
   ]
  },
  {
   "cell_type": "code",
   "execution_count": 158,
   "id": "c7193225",
   "metadata": {},
   "outputs": [
    {
     "name": "stdout",
     "output_type": "stream",
     "text": [
      "enter a temparature23\n",
      "-5.0\n"
     ]
    }
   ],
   "source": [
    "s=float(input(\"enter a temparature\"))\n",
    "def temparature(temp):\n",
    "    print((temp- 32)/1.8)\n",
    "temparature(s)"
   ]
  },
  {
   "cell_type": "code",
   "execution_count": 179,
   "id": "a26ba39d",
   "metadata": {},
   "outputs": [
    {
     "name": "stdout",
     "output_type": "stream",
     "text": [
      "[2, 3]\n"
     ]
    }
   ],
   "source": [
    "x=[[1,2,3],[3,4,2],[4,6,1]]\n",
    "y=[]\n",
    "for i in x[0]:\n",
    "    if i in x[1] and x[2]:\n",
    "        y.append(i)\n",
    "print(y)\n",
    "        "
   ]
  },
  {
   "cell_type": "code",
   "execution_count": null,
   "id": "d6bd1543",
   "metadata": {},
   "outputs": [],
   "source": [
    " "
   ]
  },
  {
   "cell_type": "code",
   "execution_count": 29,
   "id": "98c9f8cc",
   "metadata": {},
   "outputs": [
    {
     "data": {
      "text/plain": [
       "[2]"
      ]
     },
     "execution_count": 29,
     "metadata": {},
     "output_type": "execute_result"
    }
   ],
   "source": [
    "x=[[1,2,3],[3,4,2],[4,2,6,1]]\n",
    "n=[]\n",
    "for i in x[0]:\n",
    "    for j in x[1]:\n",
    "        for k in x[2]:\n",
    "            if i==j and j==k:\n",
    "                n.append(k)\n",
    "n\n"
   ]
  },
  {
   "cell_type": "code",
   "execution_count": 57,
   "id": "1db0f021",
   "metadata": {},
   "outputs": [
    {
     "name": "stdout",
     "output_type": "stream",
     "text": [
      "[]\n"
     ]
    }
   ],
   "source": [
    "x=[[1,2,3],[3,4,2],[4,6,1]]\n",
    "a=x[0]\n",
    "b=x[1]\n",
    "c=x[2]\n",
    "new=[]\n",
    "for i in a:\n",
    "    for j in b:\n",
    "        for k in c:\n",
    "            if i==j and j==k:\n",
    "                new.append(i)\n",
    "print(new)\n"
   ]
  },
  {
   "cell_type": "code",
   "execution_count": 81,
   "id": "459e3209",
   "metadata": {},
   "outputs": [
    {
     "name": "stdout",
     "output_type": "stream",
     "text": [
      "[3, 4]\n"
     ]
    }
   ],
   "source": [
    "z=[[1,2,3,4],[3,4,6],[1,2,4,3,8]]\n",
    "d=[]\n",
    "for i in z[0]:\n",
    "    for j in z[1]:\n",
    "        for k in z[2]:\n",
    "            if i==j and j==k:\n",
    "                d.append(i)\n",
    "\n",
    "print(d)"
   ]
  },
  {
   "cell_type": "code",
   "execution_count": 36,
   "id": "fef5f71a",
   "metadata": {},
   "outputs": [
    {
     "name": "stdout",
     "output_type": "stream",
     "text": [
      "Narsimha 23 9014972263\n"
     ]
    }
   ],
   "source": [
    "class myclass():\n",
    "    comp='Mouritech'\n",
    "    def __init__(self,name,age,ph):\n",
    "        self.name=name\n",
    "        self.age=age\n",
    "        self.ph=ph\n",
    "    def info(self):\n",
    "        print(self.name,self.age,self.ph)\n",
    "my= myclass('Narsimha',23,9014972263)\n",
    "c=my.info()\n",
    "c\n"
   ]
  },
  {
   "cell_type": "code",
   "execution_count": 16,
   "id": "e84837f8",
   "metadata": {},
   "outputs": [
    {
     "name": "stdout",
     "output_type": "stream",
     "text": [
      "Enter a number : 123\n",
      "Number is correct\n"
     ]
    }
   ],
   "source": [
    "class MobleException(Exception):\n",
    "    pass\n",
    "try:\n",
    "    num = input(\"Enter a number : \")\n",
    "    if int(num) < 10 and num[0]!='9':\n",
    "        raise MobleException(\"num is must be ten digits and start with 9\")\n",
    "    else:\n",
    "        print(\"Number is correct\")\n",
    "except MobleException as e:\n",
    "    print(e)\n",
    "\n",
    "    \n"
   ]
  },
  {
   "cell_type": "code",
   "execution_count": 33,
   "id": "7221fbbc",
   "metadata": {},
   "outputs": [
    {
     "name": "stdout",
     "output_type": "stream",
     "text": [
      "Enter your age: 21\n",
      "You are eligible to vote.\n"
     ]
    }
   ],
   "source": [
    "class AgeCheck(Exception):\n",
    "    pass\n",
    "\n",
    "try:\n",
    "    age = int(input(\"Enter your age: \"))\n",
    "    if age < 18:\n",
    "        raise AgeCheck(\"You are not eligible to vote.\")\n",
    "    else:\n",
    "        print(\"You are eligible to vote.\")\n",
    "except AgeCheck as e:\n",
    "    print(e)\n"
   ]
  },
  {
   "cell_type": "code",
   "execution_count": 178,
   "id": "4d3e8286",
   "metadata": {},
   "outputs": [
    {
     "name": "stdout",
     "output_type": "stream",
     "text": [
      "[1, 2, 3, 4]\n"
     ]
    }
   ],
   "source": [
    "my_list = [[1,2,3],[1,2,3,],[1,2,3,4,]]\n",
    "li = []\n",
    "for i in my_list:\n",
    "    for j in i:\n",
    "        # print(j)\n",
    "        if j in li:\n",
    "            pass\n",
    "        else:\n",
    "            li.append(j)\n",
    "print(li)"
   ]
  },
  {
   "cell_type": "code",
   "execution_count": 149,
   "id": "940aa05a",
   "metadata": {},
   "outputs": [
    {
     "name": "stdout",
     "output_type": "stream",
     "text": [
      "1\n",
      "2\n",
      "3\n"
     ]
    }
   ],
   "source": [
    "n=int(input(\"enter a number : \"))\n",
    "for i in range(1,n+1):\n",
    "    for j in range(1,)"
   ]
  },
  {
   "cell_type": "code",
   "execution_count": 44,
   "id": "5272af9c",
   "metadata": {},
   "outputs": [
    {
     "name": "stdout",
     "output_type": "stream",
     "text": [
      "* * * * * \n",
      "* *   * * \n",
      "*   *   * \n",
      "* *   * * \n",
      "* * * * * \n"
     ]
    }
   ],
   "source": [
    "n = 5 \n",
    "for i in range(n):\n",
    "    for j in range(n):\n",
    "        if i == 0 or j == 0 or i == n-1 or j == n-1 or i == j or i + j == n-1:\n",
    "            print('*', end=' ')\n",
    "        else:\n",
    "            print(' ', end=' ')\n",
    "    print()"
   ]
  },
  {
   "cell_type": "code",
   "execution_count": 46,
   "id": "89b05ea2",
   "metadata": {},
   "outputs": [
    {
     "name": "stdout",
     "output_type": "stream",
     "text": [
      "Enter:3\n",
      "* * * * * * \n",
      "* *     * * \n",
      "*         * \n",
      "*         * \n",
      "* *     * * \n",
      "* * * * * * \n"
     ]
    }
   ],
   "source": [
    "n = int(input(\"Enter:\"))\n",
    "for i in range(n, 0, -1):\n",
    "    for j in range(i, 0, -1):\n",
    "        print(\"*\", end=\" \")\n",
    "    for j in range(2*(n-i)):\n",
    "        print(\" \", end=\" \")\n",
    "    for j in range(i, 0, -1):\n",
    "        print(\"*\", end=\" \")\n",
    "    print()\n",
    "for i in range(n):\n",
    "    for j in range(0, i+1):\n",
    "        print(\"*\", end=\" \")\n",
    "    for j in range(2*(n-i-1)):\n",
    "        print(\" \", end=\" \")\n",
    "    for j in range(i+1):\n",
    "        print(\"*\", end=\" \")\n",
    "    print()"
   ]
  },
  {
   "cell_type": "code",
   "execution_count": 113,
   "id": "069e4cf4",
   "metadata": {},
   "outputs": [
    {
     "name": "stdout",
     "output_type": "stream",
     "text": [
      "Enter a number : 5\n",
      "5 4 3 2 1 4 3 2 1 3 2 1 2 1 1 "
     ]
    }
   ],
   "source": [
    "n=int(input('Enter a number : '))\n",
    "for i in range(n,0,-1):\n",
    "    for j in range(i,0,-1):\n",
    "        print(j,end=' ')"
   ]
  },
  {
   "cell_type": "code",
   "execution_count": null,
   "id": "406701ac",
   "metadata": {},
   "outputs": [],
   "source": [
    " \n",
    "\n"
   ]
  },
  {
   "cell_type": "code",
   "execution_count": null,
   "id": "8a18589e",
   "metadata": {},
   "outputs": [],
   "source": []
  },
  {
   "cell_type": "code",
   "execution_count": null,
   "id": "6ab2b052",
   "metadata": {},
   "outputs": [],
   "source": []
  },
  {
   "cell_type": "code",
   "execution_count": null,
   "id": "4c722787",
   "metadata": {},
   "outputs": [],
   "source": []
  },
  {
   "cell_type": "code",
   "execution_count": null,
   "id": "802b4c6e",
   "metadata": {},
   "outputs": [],
   "source": []
  },
  {
   "cell_type": "code",
   "execution_count": null,
   "id": "46df1f94",
   "metadata": {},
   "outputs": [],
   "source": []
  },
  {
   "cell_type": "code",
   "execution_count": 7,
   "id": "3a7a7fca",
   "metadata": {},
   "outputs": [
    {
     "name": "stdout",
     "output_type": "stream",
     "text": [
      "17\n"
     ]
    }
   ],
   "source": [
    "x={\"name\": \"vasu\",\"id\": \"1234567\"}\n",
    "a=''\n",
    "b=''\n",
    "for i,j in x.items():\n",
    "        a=a+i\n",
    "        b=b+j\n",
    "z=len(a)+len(b)\n",
    "print(z)"
   ]
  },
  {
   "cell_type": "code",
   "execution_count": 56,
   "id": "22d4a96d",
   "metadata": {},
   "outputs": [
    {
     "name": "stdout",
     "output_type": "stream",
     "text": [
      "['abhi', 'vagrahb', 'vamsi', 'raknahs', 'sai', 'iver', 'shiva', 'inum']\n"
     ]
    }
   ],
   "source": [
    "a='abhi bhargav vamsi shankar sai revi shiva muni'\n",
    "b=a.replace(' ',',')\n",
    "c=b.split(',')\n",
    "d=[]\n",
    "for i in range(len(c)):\n",
    "    if i%2 != 0:\n",
    "        zz = c[i]\n",
    "        z = zz[::-1]\n",
    "        d.append(z)\n",
    "    else:\n",
    "        d.append(c[i])\n",
    "print(d)\n"
   ]
  },
  {
   "cell_type": "code",
   "execution_count": 66,
   "id": "058576eb",
   "metadata": {},
   "outputs": [
    {
     "name": "stdout",
     "output_type": "stream",
     "text": [
      "[1, 2, 3, 4, 5, 6, 7]\n"
     ]
    }
   ],
   "source": [
    "a=[2,3,5,7,1,6,4]\n",
    "y=[]\n",
    "for i in range(len(a)):\n",
    "    for j in range(i+1,len(a)):\n",
    "        if a[i]>a[j]:\n",
    "            a[i],a[j]=a[j],a[i]\n",
    "            \n",
    "print(a)"
   ]
  },
  {
   "cell_type": "code",
   "execution_count": 70,
   "id": "3a05239e",
   "metadata": {},
   "outputs": [
    {
     "name": "stdout",
     "output_type": "stream",
     "text": [
      "a\n",
      "b\n",
      "c\n",
      "d\n",
      "e\n"
     ]
    }
   ],
   "source": [
    " [{'name': 'AP', 'city': 5, 'citywitha': ['Amravathi', 'Anakala']}, {'name': 'MP', 'city': 5, 'citywitha': ['Abd', 'Ade']}]"
   ]
  },
  {
   "cell_type": "code",
   "execution_count": 14,
   "id": "4fdb99ef",
   "metadata": {},
   "outputs": [
    {
     "name": "stdout",
     "output_type": "stream",
     "text": [
      "['Amravathi', 'Anakala']\n",
      "5\n"
     ]
    }
   ],
   "source": [
    "dic=[{\"name\":\"AP\",\"city\":[\"vizag\",\"Amravathi\",\"Anakala\",\"kur\",\"nandyala\"]},{\"name\":\"MP\",\"city\":[\"Abd\",\"cda\",\"Ade\",\"kur\",\"d\"]}]\n",
    "withA=[]\n",
    "d=dic[0]\n",
    "ll=d['city']\n",
    "for i in ll:\n",
    "    if i[0]==\"A\" or i[0]=='a':\n",
    "        withA.append(i)\n",
    "\n",
    "print(withA)   \n",
    "print(len(ll))\n",
    "\n"
   ]
  },
  {
   "cell_type": "code",
   "execution_count": 116,
   "id": "acb020f1",
   "metadata": {},
   "outputs": [
    {
     "name": "stdout",
     "output_type": "stream",
     "text": [
      "{'age': 23, 'name': 'rajiv'}\n"
     ]
    }
   ],
   "source": [
    "a=\"fb.com?name-rajiv-23?age\"\n",
    "x={}\n",
    "b=a.split('?')[1]\n",
    "bB,cc,dd=b.split('-')[2],b.split('-')[1],b.split('-')[0]#23\n",
    "c=a.split('?')[-1]#age\n",
    "x[c]=int(bB)\n",
    "x[dd]=cc\n",
    "print(x)"
   ]
  },
  {
   "cell_type": "code",
   "execution_count": null,
   "id": "aa05e0da",
   "metadata": {},
   "outputs": [],
   "source": [
    "The longest palindromic substring: \n",
    "Example: Input: \"forgeeksskeegfor\", \n",
    "Output: \"geeksskeeg\"\n",
    "\n"
   ]
  },
  {
   "cell_type": "code",
   "execution_count": 4,
   "id": "a0343a92",
   "metadata": {},
   "outputs": [
    {
     "name": "stdout",
     "output_type": "stream",
     "text": [
      "[21, 23, 56, 78, 9, 0, 98, 89, 789, 87, 654, 57432345, 34, 343, 4, 5, 6, 7, 86, 55, 3, 2, 44, 65]\n",
      "65\n"
     ]
    }
   ],
   "source": [
    "x=[21,23,56,78,9,0,98,89,789,87,654,57432345,34,343,23,4,5,6,7,86,5,55,5,4,3,2,3,44,5,5,5,5,65]\n",
    "y=[]\n",
    "\n",
    "for i in x:\n",
    "    if i not in y:\n",
    "        y.append(i)\n",
    "print(y)\n",
    "print(c)"
   ]
  },
  {
   "cell_type": "code",
   "execution_count": 24,
   "id": "c6d90b1c",
   "metadata": {},
   "outputs": [
    {
     "name": "stdout",
     "output_type": "stream",
     "text": [
      "[(2, 1), (1, 2), (2, 3), (4, 4), (2, 5)]\n"
     ]
    }
   ],
   "source": [
    "l = [(2, 5), (1, 2), (4, 4), (2, 3), (2, 1)]\n",
    "a=[]\n",
    "for i in l:\n",
    "    a.append(i[1])\n",
    "b=sorted(a)\n",
    "d=[]\n",
    "for j in b:\n",
    "    for m in l:\n",
    "        if m[1]==j:\n",
    "            d.append(m)\n",
    "print(d)\n",
    "            "
   ]
  },
  {
   "cell_type": "code",
   "execution_count": 32,
   "id": "0f1ad3a6",
   "metadata": {},
   "outputs": [
    {
     "data": {
      "text/plain": [
       "[(2, 1), (1, 2), (2, 3), (4, 4), (2, 5)]"
      ]
     },
     "execution_count": 32,
     "metadata": {},
     "output_type": "execute_result"
    }
   ],
   "source": []
  },
  {
   "cell_type": "code",
   "execution_count": 27,
   "id": "d887adbe",
   "metadata": {},
   "outputs": [
    {
     "name": "stdout",
     "output_type": "stream",
     "text": [
      "['a', 'b', 'c', 'd', 'e', 'f']\n"
     ]
    }
   ],
   "source": [
    "a = 'abcfed'\n",
    "x=list(a)\n",
    "for i in range(len(x)):\n",
    "    for j in range(i+1,len(x)):\n",
    "        if x[i]>x[j]:\n",
    "            x[i],x[j]=x[j],x[i]\n",
    "print(x)\n"
   ]
  },
  {
   "cell_type": "code",
   "execution_count": 29,
   "id": "ddbe9e8e",
   "metadata": {},
   "outputs": [
    {
     "name": "stdout",
     "output_type": "stream",
     "text": [
      "20000\n",
      "21000\n"
     ]
    }
   ],
   "source": [
    "l=[{'name':'abhi','age':23,'sal':20000},{'name':'vamsi','age':26,'sal':21000}]\n",
    "for i in l:\n",
    "    print(i['sal'])"
   ]
  },
  {
   "cell_type": "code",
   "execution_count": 35,
   "id": "c379201e",
   "metadata": {},
   "outputs": [
    {
     "name": "stdout",
     "output_type": "stream",
     "text": [
      "5 3\n",
      "7 1\n",
      "1 7\n",
      "4 4\n",
      "2 6\n",
      "3 5\n",
      "3 5\n",
      "3 5\n",
      "5 3\n",
      "6 2\n",
      "5 3\n"
     ]
    }
   ],
   "source": [
    "l=[2,3,5,7,6,1,2,4,2]\n",
    "target=8\n",
    "for i in  l:\n",
    "    for j in l:\n",
    "        if l[i]+l[j]==target:\n",
    "            print(l[i],l[j])"
   ]
  },
  {
   "cell_type": "code",
   "execution_count": 39,
   "id": "2cd41a81",
   "metadata": {},
   "outputs": [
    {
     "name": "stdout",
     "output_type": "stream",
     "text": [
      "[1, 2, 4, 5, 6, 7]\n",
      "['abc', 'is', 'jsd']\n"
     ]
    }
   ],
   "source": [
    "l=[1,2,'abc',4,5,'is',6,7,'jsd']\n",
    "x=[]\n",
    "y=[]\n",
    "for i  in l:\n",
    "    if type(i)==int:\n",
    "        x.append(i)\n",
    "    else:\n",
    "        y.append(i)\n",
    "print(x)\n",
    "print(y)"
   ]
  },
  {
   "cell_type": "code",
   "execution_count": 42,
   "id": "eddd64f8",
   "metadata": {},
   "outputs": [
    {
     "name": "stdout",
     "output_type": "stream",
     "text": [
      "america\n",
      "australia\n"
     ]
    }
   ],
   "source": [
    "a=['america','australia','uk','us','england']\n",
    "for i in a:\n",
    "    if i[0]=='a':\n",
    "        print(i)"
   ]
  },
  {
   "cell_type": "code",
   "execution_count": 8,
   "id": "96214c96",
   "metadata": {},
   "outputs": [
    {
     "name": "stdout",
     "output_type": "stream",
     "text": [
      "['my', 'name', 'is', 'Narssimha']\n"
     ]
    }
   ],
   "source": [
    "x=['m','na','i','Nars']\n",
    "y=['y','me','s','simha']\n",
    "z=[]\n",
    "for i in x:\n",
    "    for j in y:\n",
    "        if x.index(i)==y.index(j):\n",
    "            z.append(i+j)\n",
    "print(z)"
   ]
  },
  {
   "cell_type": "code",
   "execution_count": 62,
   "id": "3efeb625",
   "metadata": {},
   "outputs": [
    {
     "name": "stdout",
     "output_type": "stream",
     "text": [
      "['my', 'name', 'is', 'Narsimha']\n"
     ]
    }
   ],
   "source": [
    "x=['m','na','i','Nar']\n",
    "y=['y','me','s','simha']\n",
    "d=[]\n",
    "for i in range(len(x)):\n",
    "    d.append(x[i]+y[i])\n",
    "print(d)"
   ]
  },
  {
   "cell_type": "code",
   "execution_count": 68,
   "id": "24919276",
   "metadata": {},
   "outputs": [
    {
     "name": "stdout",
     "output_type": "stream",
     "text": [
      "2\n"
     ]
    }
   ],
   "source": [
    "l=['aba','xyz','abc','1221']\n",
    "a=0\n",
    "for i in l:\n",
    "    if i[0]==i[-1]:\n",
    "        a=a+1\n",
    "print(a)"
   ]
  },
  {
   "cell_type": "code",
   "execution_count": 72,
   "id": "db7d8cb4",
   "metadata": {},
   "outputs": [
    {
     "data": {
      "text/plain": [
       "{'name': 'AP', 'city': ['vizag', 'Amravathi', 'Anakala', 'kur', 'nandyala']}"
      ]
     },
     "execution_count": 72,
     "metadata": {},
     "output_type": "execute_result"
    }
   ],
   "source": [
    "a=[{\"name\":\"AP\",\"city\":[\"vizag\",\"Amravathi\",\"Anakala\",\"kur\",\"nandyala\"]},{\"name\":\"MP\",\"city\":[\"Abd\",\"cda\",\"Ade\",\"kur\",\"d\"]}]\n",
    "d=a[0]\n",
    "x=d['city']\n"
   ]
  },
  {
   "cell_type": "code",
   "execution_count": 4,
   "id": "4c94d126",
   "metadata": {},
   "outputs": [
    {
     "name": "stdout",
     "output_type": "stream",
     "text": [
      "[{'name': 'vamsi', 'age': 26, 'sal': 21000}, {'name': 'shiva', 'age': 24, 'sal': 18000}, {'name': 'ravi', 'age': 23, 'sal': 19000}, {'name': 'abhi', 'age': 23, 'sal': 20000}]\n"
     ]
    }
   ],
   "source": [
    "l=[{'name':'abhi','age':23,'sal':20000},{'name':'vamsi','age':26,'sal':21000},{'name':'ravi','age':23,'sal':19000},{'name':'shiva','age':24,'sal':18000}]\n",
    "for i in range(len(l)):\n",
    "    for j in range(i+1,len(l)):\n",
    "        if l[i]['age']<l[j]['age']:\n",
    "            l[i],l[j]=l[j],l[i]\n",
    "print(l)"
   ]
  },
  {
   "cell_type": "code",
   "execution_count": 30,
   "id": "53af2780",
   "metadata": {},
   "outputs": [
    {
     "ename": "TypeError",
     "evalue": "string indices must be integers",
     "output_type": "error",
     "traceback": [
      "\u001b[1;31m---------------------------------------------------------------------------\u001b[0m",
      "\u001b[1;31mTypeError\u001b[0m                                 Traceback (most recent call last)",
      "\u001b[1;32m~\\AppData\\Local\\Temp\\ipykernel_2992\\118208351.py\u001b[0m in \u001b[0;36m<module>\u001b[1;34m\u001b[0m\n\u001b[0;32m      4\u001b[0m \u001b[0mx\u001b[0m\u001b[1;33m=\u001b[0m\u001b[1;33m[\u001b[0m\u001b[1;33m]\u001b[0m\u001b[1;33m\u001b[0m\u001b[1;33m\u001b[0m\u001b[0m\n\u001b[0;32m      5\u001b[0m \u001b[1;32mfor\u001b[0m \u001b[0mi\u001b[0m \u001b[1;32min\u001b[0m \u001b[0mb\u001b[0m\u001b[1;33m:\u001b[0m\u001b[1;33m\u001b[0m\u001b[1;33m\u001b[0m\u001b[0m\n\u001b[1;32m----> 6\u001b[1;33m     \u001b[1;32mif\u001b[0m \u001b[0mi\u001b[0m\u001b[1;33m[\u001b[0m\u001b[1;34m'city'\u001b[0m\u001b[1;33m]\u001b[0m\u001b[1;33m:\u001b[0m\u001b[1;33m\u001b[0m\u001b[1;33m\u001b[0m\u001b[0m\n\u001b[0m\u001b[0;32m      7\u001b[0m         \u001b[0mx\u001b[0m\u001b[1;33m.\u001b[0m\u001b[0mappend\u001b[0m\u001b[1;33m(\u001b[0m\u001b[0mi\u001b[0m\u001b[1;33m)\u001b[0m\u001b[1;33m\u001b[0m\u001b[1;33m\u001b[0m\u001b[0m\n\u001b[0;32m      8\u001b[0m \u001b[0mx\u001b[0m\u001b[1;33m\u001b[0m\u001b[1;33m\u001b[0m\u001b[0m\n",
      "\u001b[1;31mTypeError\u001b[0m: string indices must be integers"
     ]
    }
   ],
   "source": [
    "a=[{ 'name': 'andhra', 'city': ['nellore', 'guntur'] }, { 'name': 'telangana', 'city': ['Hyd', 'varangal'] }]\n",
    "b=a[0]\n",
    "for i in b:\n",
    "    c=[]\n",
    "    for j in i['city']:\n",
    "        if j=='city':\n",
    "            c.append(j)\n",
    "            \n",
    "        "
   ]
  },
  {
   "cell_type": "code",
   "execution_count": null,
   "id": "1821bc72",
   "metadata": {},
   "outputs": [],
   "source": [
    "output: {states:['andhra','telangana'],cities:[{name:'nellore',state:'andhra'},{name:'guntur',state:'andhra'}]}"
   ]
  },
  {
   "cell_type": "code",
   "execution_count": 12,
   "id": "f8fdc265",
   "metadata": {},
   "outputs": [
    {
     "name": "stdout",
     "output_type": "stream",
     "text": [
      "{'name': 'andhra', 'states': ['narsimha', '23']}\n"
     ]
    }
   ],
   "source": [
    "a={\"name\":'andhra'}\n",
    "b=['narsimha','23']\n",
    "a['states']=b\n",
    "print(a)"
   ]
  },
  {
   "cell_type": "code",
   "execution_count": 11,
   "id": "b8ffefdd",
   "metadata": {},
   "outputs": [
    {
     "name": "stdout",
     "output_type": "stream",
     "text": [
      "[{'name': 88, 'sates': ['narsimha', '23']}]\n"
     ]
    }
   ],
   "source": [
    "b=['narsimha','23']\n",
    "g={\"name\":88}\n",
    "g[\"sates\"]=b\n",
    "print([(g)])"
   ]
  },
  {
   "cell_type": "code",
   "execution_count": null,
   "id": "f0efd7fe",
   "metadata": {},
   "outputs": [],
   "source": [
    "A=[{\"name\":\"AP\",\"city\":[\"vizag\",\"Amravathi\",\"Anakala\",\"kur\",\"nandyala\"]},{\"name\":\"MP\",\"city\":[\"Abd\",\"cda\",\"Ade\",\"kur\",\"d\"]}]\n",
    "for i in A:\n",
    "    c=0\n",
    "    l=[]\n",
    "    for j in i['city']:\n",
    "        c+=1\n",
    "        if j[0]=='A':\n",
    "            l.append(j)\n",
    "            i['city']=c\n",
    "            i['citywitha']=l\n",
    "print(A)"
   ]
  },
  {
   "cell_type": "code",
   "execution_count": null,
   "id": "266bfe07",
   "metadata": {},
   "outputs": [],
   "source": [
    "a=[{ 'name': 'andhra', 'city': ['nellore', 'guntur'] }, { 'name': 'telangana', 'city': ['Hyd', 'varangal'] }]\n",
    "#  output: {states:['andhra','telangana'],cities:[{name:'nellore',state:'andhra'},{name:'guntur',state:'andhra'}]}\n",
    "\n"
   ]
  },
  {
   "cell_type": "code",
   "execution_count": 7,
   "id": "ab5d34a2",
   "metadata": {},
   "outputs": [
    {
     "name": "stdout",
     "output_type": "stream",
     "text": [
      "\\Hello narsimha today topics \n",
      "will               strings\n",
      "2nd                  list comprension\n",
      "3rd                 practice \n"
     ]
    }
   ],
   "source": [
    "a='narsimha \\'chellaboina'\n",
    "s=\"'yes',\\'they said'\"\n",
    "b='''\\Hello narsimha today topics \n",
    "will               strings\n",
    "2nd                  list comprension\n",
    "3rd                 practice '''\n",
    "print(b)"
   ]
  },
  {
   "cell_type": "code",
   "execution_count": 43,
   "id": "e40a1afe",
   "metadata": {},
   "outputs": [
    {
     "name": "stdout",
     "output_type": "stream",
     "text": [
      "1\n"
     ]
    }
   ],
   "source": [
    "name='narsimha'\n",
    "# print(name.capitalize())\n",
    "# print(name.casefold())\n",
    "# print(name.center(30,'$'))\n",
    "# print(name.count('a'))\n",
    "# print(\"U2FsdGVkX18CzbZGG1HcCDxKZ8b4nL+sNUClMWs+FDU=\".encode('utf-8'))\n",
    "# x=\"123Narsimha-¶\" \n",
    "# print(x.encode('ascii',errors='xmlcharrefreplace'))\n",
    "# y=\"¶\"\n",
    "# print(y.encode())\n",
    "# x='\\tNarsimha\\t\\t ch'\n",
    "# print(x.expandtabs(2))\n",
    "# x='random'\n",
    "# print(x.index('and',0,5))\n",
    "\n",
    "   "
   ]
  },
  {
   "cell_type": "code",
   "execution_count": 38,
   "id": "26c2e586",
   "metadata": {},
   "outputs": [
    {
     "data": {
      "text/plain": [
       "'   y  i '"
      ]
     },
     "execution_count": 38,
     "metadata": {},
     "output_type": "execute_result"
    }
   ],
   "source": [
    "s1=\"Kalyani \"\n",
    "s2=\"vicky \"\n",
    "s3=''\n",
    "for i in s1:\n",
    "    for j in s2:\n",
    "        if i==j:\n",
    "            break\n",
    "    s3=s3+j\n",
    "s3\n",
    "            "
   ]
  },
  {
   "cell_type": "code",
   "execution_count": 5,
   "id": "4a2b7485",
   "metadata": {},
   "outputs": [
    {
     "data": {
      "text/plain": [
       "8"
      ]
     },
     "execution_count": 5,
     "metadata": {},
     "output_type": "execute_result"
    }
   ],
   "source": [
    "a='narsimha'\n",
    "x=0\n",
    "for i in a:\n",
    "    x=x+1\n",
    "x"
   ]
  },
  {
   "cell_type": "code",
   "execution_count": 16,
   "id": "9765e49a",
   "metadata": {},
   "outputs": [
    {
     "data": {
      "text/plain": [
       "{'g': 2, 'o': 3, 'l': 1, 'e': 1, '.': 1, 'c': 1, 'm': 1}"
      ]
     },
     "execution_count": 16,
     "metadata": {},
     "output_type": "execute_result"
    }
   ],
   "source": [
    "s='google.com'\n",
    "d={}\n",
    "for i in s:\n",
    "    keys=d.keys()\n",
    "    if i in keys:\n",
    "        d[i] += 1\n",
    "    else:\n",
    "        d[i]=1\n",
    "d"
   ]
  },
  {
   "cell_type": "code",
   "execution_count": 44,
   "id": "3c437c75",
   "metadata": {},
   "outputs": [
    {
     "name": "stdout",
     "output_type": "stream",
     "text": [
      "jkio\n"
     ]
    }
   ],
   "source": [
    "a='jklerftuio'\n",
    "if len(a)<0:\n",
    "    print('')\n",
    "else:\n",
    "    print(a[0:2]+a[-2:])\n",
    "    \n",
    " "
   ]
  },
  {
   "cell_type": "code",
   "execution_count": 54,
   "id": "353064cb",
   "metadata": {},
   "outputs": [
    {
     "data": {
      "text/plain": [
       "'e$stakt'"
      ]
     },
     "execution_count": 54,
     "metadata": {},
     "output_type": "execute_result"
    }
   ],
   "source": [
    "s='eestakt'\n",
    "a=s[0]\n",
    "s=s.replace(a,'$')\n",
    "b=a+s[1:]\n",
    "b"
   ]
  },
  {
   "cell_type": "code",
   "execution_count": 65,
   "id": "8d6d7d7d",
   "metadata": {},
   "outputs": [
    {
     "data": {
      "text/plain": [
       "'xycabz'"
      ]
     },
     "execution_count": 65,
     "metadata": {},
     "output_type": "execute_result"
    }
   ],
   "source": [
    "x='abc'\n",
    "y='xyz'\n",
    "a=y[-3:-1]+x[-1]\n",
    "b=x[:2]+y[-1]\n",
    "z=a+b\n",
    "z"
   ]
  },
  {
   "cell_type": "code",
   "execution_count": 91,
   "id": "90940106",
   "metadata": {},
   "outputs": [
    {
     "name": "stdout",
     "output_type": "stream",
     "text": [
      "abcering\n"
     ]
    }
   ],
   "source": [
    "a='abcer'\n",
    "if len(a)>2:\n",
    "    if a[-3:]=='ing':\n",
    "        a+='ly'\n",
    "    else:\n",
    "        a+='ing'\n",
    "print(a) "
   ]
  },
  {
   "cell_type": "code",
   "execution_count": 125,
   "id": "bb26fb8a",
   "metadata": {},
   "outputs": [
    {
     "name": "stdout",
     "output_type": "stream",
     "text": [
      "The lyrics is good!\n"
     ]
    }
   ],
   "source": [
    "s='The lyrics is not that poor!'\n",
    "snot=s.find('not')\n",
    "spoor=s.find('poor')\n",
    "if spoor>snot and snot > 0 and spoor > 0:\n",
    "    s=s.replace(s[snot:spoor+4],'good')\n",
    "    print(s)\n",
    "else:\n",
    "    print(s)\n",
    "\n",
    "    "
   ]
  },
  {
   "cell_type": "code",
   "execution_count": 12,
   "id": "df9d2f75",
   "metadata": {},
   "outputs": [
    {
     "name": "stdout",
     "output_type": "stream",
     "text": [
      "chellaboina\n",
      "11\n"
     ]
    }
   ],
   "source": [
    "x=['narsimha','chellaboina','goud']\n",
    "max1=x[0]\n",
    "for i in x:\n",
    "    if len(i)>len(max1):\n",
    "        max1=i\n",
    "print(max1)\n",
    "print(len(max1))\n"
   ]
  },
  {
   "cell_type": "code",
   "execution_count": 13,
   "id": "478e98bf",
   "metadata": {},
   "outputs": [
    {
     "name": "stdout",
     "output_type": "stream",
     "text": [
      "Enter index numder : 2\n",
      "Enter a string : python\n",
      "pyhon\n"
     ]
    }
   ],
   "source": [
    "n=int(input(\"Enter index numder : \"))\n",
    "x=input(\"Enter a string : \")\n",
    "a=x[:n]\n",
    "b=x[n+1:]\n",
    "print(a+b)"
   ]
  },
  {
   "cell_type": "code",
   "execution_count": 21,
   "id": "6fc821da",
   "metadata": {},
   "outputs": [
    {
     "data": {
      "text/plain": [
       "'aarsimhN'"
      ]
     },
     "execution_count": 21,
     "metadata": {},
     "output_type": "execute_result"
    }
   ],
   "source": [
    "x='Narsimha'\n",
    "a=x[0]\n",
    "b=x[-1]\n",
    "c=x[1:-1]\n",
    "z=b+c+a\n",
    "z"
   ]
  },
  {
   "cell_type": "code",
   "execution_count": 27,
   "id": "fcad61dc",
   "metadata": {},
   "outputs": [
    {
     "data": {
      "text/plain": [
       "'asma'"
      ]
     },
     "execution_count": 27,
     "metadata": {},
     "output_type": "execute_result"
    }
   ],
   "source": [
    "x='narsimha'\n",
    "y=''\n",
    "for i in range(len(x)):\n",
    "    if i%2==1:\n",
    "        y=y+x[i]\n"
   ]
  },
  {
   "cell_type": "code",
   "execution_count": 37,
   "id": "34fd8ff3",
   "metadata": {},
   "outputs": [
    {
     "name": "stdout",
     "output_type": "stream",
     "text": [
      "{'Hi': 1, 'everyone': 1, 'today': 1, 'day': 3, 'is': 1, 'my': 1, 'the': 1, 'universe': 1, 'formation': 1}\n"
     ]
    }
   ],
   "source": [
    "x='Hi everyone today day is my day the universe formation day'\n",
    "y=x.split()\n",
    "d={}\n",
    "for i in y:\n",
    "    keys=d.keys()\n",
    "    if i in keys:\n",
    "        d[i]+=1\n",
    "    else:\n",
    "        d[i]=1\n",
    "print(d)"
   ]
  },
  {
   "cell_type": "code",
   "execution_count": 40,
   "id": "5bb6b9c5",
   "metadata": {},
   "outputs": [
    {
     "name": "stdout",
     "output_type": "stream",
     "text": [
      "Enter a sequence of strings : narsimha,amul,zibra\n"
     ]
    },
    {
     "data": {
      "text/plain": [
       "['amul', 'narsimha', 'zibra']"
      ]
     },
     "execution_count": 40,
     "metadata": {},
     "output_type": "execute_result"
    }
   ],
   "source": [
    "x=input(\"Enter a sequence of strings : \")\n",
    "y=x.split(',')\n",
    "for i in range(len(y)):\n",
    "    for j in range(i+1,len(y)):\n",
    "        if y[i]>y[j]:\n",
    "            y[i],y[j]=y[j],y[i]\n",
    "y"
   ]
  },
  {
   "cell_type": "code",
   "execution_count": 43,
   "id": "79e8c3a3",
   "metadata": {},
   "outputs": [
    {
     "data": {
      "text/plain": [
       "'onononon'"
      ]
     },
     "execution_count": 43,
     "metadata": {},
     "output_type": "execute_result"
    }
   ],
   "source": [
    "x='python'\n",
    "a=x[-2:]\n",
    "b=a*4\n",
    "b"
   ]
  },
  {
   "cell_type": "code",
   "execution_count": 47,
   "id": "20946860",
   "metadata": {},
   "outputs": [
    {
     "name": "stdout",
     "output_type": "stream",
     "text": [
      "PYTHON\n",
      "2\n"
     ]
    }
   ],
   "source": [
    "x='pyTHon'\n",
    "s=0\n",
    "for i in x[:4]:\n",
    "    if i.upper()==i:\n",
    "        s=s+1\n",
    "if s>=2:\n",
    "    print(x.upper())\n",
    "else:\n",
    "    print(x)\n",
    "print(s)\n"
   ]
  },
  {
   "cell_type": "code",
   "execution_count": 50,
   "id": "7fc93161",
   "metadata": {},
   "outputs": [
    {
     "name": "stdout",
     "output_type": "stream",
     "text": [
      "+3.142\n"
     ]
    }
   ],
   "source": [
    "x = 3.1415926\n",
    "y = -12.9999\n",
    "print(\"{:+.3f}\".format(x))"
   ]
  },
  {
   "cell_type": "code",
   "execution_count": 118,
   "id": "dd6e5a73",
   "metadata": {},
   "outputs": [
    {
     "name": "stdout",
     "output_type": "stream",
     "text": [
      "* * * * * * \n",
      "* *     * * \n",
      "*         * \n"
     ]
    }
   ],
   "source": [
    "n=3\n",
    "for i in range(n):\n",
    "    for j in range(i,n):\n",
    "        print('*',end=' ')\n",
    "    for j in range(i):\n",
    "        print(' ',end=' ')\n",
    "    for j in range(i):\n",
    "        print(' ',end=' ')\n",
    "    for j in range(i,n):\n",
    "#         if i== 0 or i==1:\n",
    "            \n",
    "        print('*',end=' ')\n",
    "    \n",
    "    print()"
   ]
  },
  {
   "cell_type": "code",
   "execution_count": 107,
   "id": "b8869d9a",
   "metadata": {},
   "outputs": [
    {
     "name": "stdout",
     "output_type": "stream",
     "text": [
      "* \n",
      "* * * *     * * * * \n",
      "* * *         * * * \n",
      "* *             * * \n",
      "*                 * \n"
     ]
    }
   ],
   "source": [
    "\n"
   ]
  },
  {
   "cell_type": "code",
   "execution_count": 120,
   "id": "d152becf",
   "metadata": {},
   "outputs": [
    {
     "name": "stdout",
     "output_type": "stream",
     "text": [
      "* * * * * \n",
      "* * * * * \n",
      "* * * * * \n",
      "* * * * * \n",
      "* * * * * \n"
     ]
    }
   ],
   "source": [
    "n=5\n",
    "for i in range(n):\n",
    "    for j in range(n):\n",
    "        print('*',end=' ')\n",
    "    print()\n",
    "        \n"
   ]
  },
  {
   "cell_type": "code",
   "execution_count": 125,
   "id": "bcf20369",
   "metadata": {},
   "outputs": [
    {
     "name": "stdout",
     "output_type": "stream",
     "text": [
      "*          * \n",
      "*          * \n",
      "*          * \n",
      "*          * \n",
      "*          * \n"
     ]
    }
   ],
   "source": [
    "n=5\n",
    "for i in range(n):\n",
    "    for j in range(n):\n",
    "        if (j==0 or j==n-1):\n",
    "            print('*',end=' ')\n",
    "        else:\n",
    "            print('  ',end=' ')\n",
    "    print()"
   ]
  },
  {
   "cell_type": "code",
   "execution_count": 127,
   "id": "f37f9e3b",
   "metadata": {},
   "outputs": [
    {
     "name": "stdout",
     "output_type": "stream",
     "text": [
      "    *     \n",
      "    *     \n",
      "* * * * * \n",
      "    *     \n",
      "    *     \n"
     ]
    }
   ],
   "source": [
    "n=5\n",
    "for i in range(n):\n",
    "    for j in range(n):\n",
    "        if (i==n//2 or j==n//2):\n",
    "            print('*',end=' ')\n",
    "        else:\n",
    "            print(' ',end=' ')\n",
    "    print()"
   ]
  },
  {
   "cell_type": "code",
   "execution_count": 137,
   "id": "aea822e2",
   "metadata": {},
   "outputs": [
    {
     "name": "stdout",
     "output_type": "stream",
     "text": [
      "*   *     \n",
      "  * *     \n",
      "    *     \n",
      "    * *   \n",
      "    *   * \n"
     ]
    }
   ],
   "source": [
    "n=5\n",
    "for i in range(n):\n",
    "    for j in range(n):\n",
    "        if (i==j or j+j==n-1):\n",
    "            print('*',end=' ')\n",
    "        else:\n",
    "            print(' ',end=' ')\n",
    "    print()"
   ]
  },
  {
   "cell_type": "code",
   "execution_count": 198,
   "id": "0b623a09",
   "metadata": {},
   "outputs": [
    {
     "name": "stdout",
     "output_type": "stream",
     "text": [
      "* * * * * \n",
      "*       * \n",
      "*       * \n",
      "*       * \n",
      "* * * * * \n"
     ]
    }
   ],
   "source": [
    "n=5\n",
    "for i in range(n):\n",
    "    for j in range(n):\n",
    "        if i==0 or j==0 or i==n-1 or j==n-1  :\n",
    "            print('*' ,end=' ')\n",
    "        elif i==1 and j==n-1:\n",
    "            print('*',end=' ')\n",
    "        else:\n",
    "            print(' ' ,end=' ')\n",
    "    print()"
   ]
  },
  {
   "cell_type": "code",
   "execution_count": 145,
   "id": "18861129",
   "metadata": {},
   "outputs": [
    {
     "name": "stdout",
     "output_type": "stream",
     "text": [
      "* \n",
      "* * \n",
      "*   * \n",
      "*     * \n",
      "* * * * * \n"
     ]
    }
   ],
   "source": [
    "n=5\n",
    "for i in range(n):\n",
    "    for j in range(i+1):\n",
    "        if i==n-1 or j==0 or i==j:\n",
    "            print('*',end=' ')\n",
    "        else:\n",
    "            print(' ',end=' ')\n",
    "    print()"
   ]
  },
  {
   "cell_type": "code",
   "execution_count": 188,
   "id": "c275f577",
   "metadata": {},
   "outputs": [
    {
     "name": "stdout",
     "output_type": "stream",
     "text": [
      "* * * * * \n",
      "*     * \n",
      "*   * \n",
      "* * \n",
      "* \n"
     ]
    }
   ],
   "source": [
    "n=5\n",
    "for i in range(n):\n",
    "    for j in range(i,n):\n",
    "        if i==0 or j==i or j==n-1:  \n",
    "            print('*',end=' ')\n",
    "        else:\n",
    "            print(' ',end=' ')\n",
    "    print()"
   ]
  },
  {
   "cell_type": "code",
   "execution_count": 161,
   "id": "8a5ce0fe",
   "metadata": {},
   "outputs": [
    {
     "name": "stdout",
     "output_type": "stream",
     "text": [
      "          * \n",
      "        *   * \n",
      "      *       * \n",
      "    *           * \n",
      "  * * * * * * * * * \n"
     ]
    }
   ],
   "source": [
    "n=5\n",
    "for i in range(n):\n",
    "    for j in range(i,n):\n",
    "        print(' ',end=' ')\n",
    "    for j in range(i):\n",
    "        if i==n-1 or  j==0:\n",
    "            print('*',end=' ')\n",
    "        else:\n",
    "            print(' ',end=' ')\n",
    "    for j in range(i+1):\n",
    "        if i==n-1 or j==i:\n",
    "            print('*',end=' ')\n",
    "        else:\n",
    "            print(' ',end=' ')\n",
    "        \n",
    "    print()"
   ]
  },
  {
   "cell_type": "code",
   "execution_count": 207,
   "id": "ce95817f",
   "metadata": {},
   "outputs": [
    {
     "name": "stdout",
     "output_type": "stream",
     "text": [
      "*   *\n",
      " * * \n",
      "  *  \n",
      " * * \n",
      "*   *\n"
     ]
    }
   ],
   "source": [
    "rows = 5\n",
    "columns = 5\n",
    "\n",
    "# Outer loop to iterate through each row\n",
    "for i in range(rows):\n",
    "    # Inner loop to iterate through each column\n",
    "    for j in range(columns):\n",
    "        # Check if we're in one of the outer edges or on the diagonal lines\n",
    "        if j == i or j == columns - 1 - i:\n",
    "            # Print an asterisk\n",
    "            print(\"*\", end=\"\")\n",
    "        else:\n",
    "            # Print a space\n",
    "            print(\" \", end=\"\")\n",
    "    # Move to the next line after each row is printed\n",
    "    print()\n"
   ]
  },
  {
   "cell_type": "code",
   "execution_count": 205,
   "id": "28d09b17",
   "metadata": {},
   "outputs": [
    {
     "name": "stdout",
     "output_type": "stream",
     "text": [
      "* * * * * \n",
      "*       * \n",
      "*   *   * \n",
      "*       * \n",
      "* * * * * \n"
     ]
    }
   ],
   "source": [
    "n=5\n",
    "for i in range(n):\n",
    "    for j in range(n):\n",
    "        if i==0 or j==0 or i==n-1 or j==n-1 or (i == 2 and j == 2) :\n",
    "            print('*' ,end=' ')\n",
    "        \n",
    "        else:\n",
    "            print(' ' ,end=' ')\n",
    "    print()"
   ]
  },
  {
   "cell_type": "code",
   "execution_count": null,
   "id": "00ec9e95",
   "metadata": {},
   "outputs": [],
   "source": [
    "#list problems\n"
   ]
  },
  {
   "cell_type": "code",
   "execution_count": 212,
   "id": "4c8f4be8",
   "metadata": {},
   "outputs": [
    {
     "name": "stdout",
     "output_type": "stream",
     "text": [
      "10\n"
     ]
    }
   ],
   "source": [
    "x=1234\n",
    "sum=0\n",
    "while (x>0):\n",
    "    rem=x%10\n",
    "    sum=sum+rem\n",
    "    x=x//10\n",
    "print(sum)\n",
    "    \n",
    "    \n",
    "    "
   ]
  },
  {
   "cell_type": "code",
   "execution_count": 2,
   "id": "3e153e1b",
   "metadata": {},
   "outputs": [
    {
     "data": {
      "text/plain": [
       "14"
      ]
     },
     "execution_count": 2,
     "metadata": {},
     "output_type": "execute_result"
    }
   ],
   "source": [
    "s=[2,3,4,5]\n",
    "x=0\n",
    "for i in s:\n",
    "    x=x+i\n",
    "x\n",
    "    "
   ]
  },
  {
   "cell_type": "code",
   "execution_count": 4,
   "id": "322088f1",
   "metadata": {},
   "outputs": [
    {
     "data": {
      "text/plain": [
       "24"
      ]
     },
     "execution_count": 4,
     "metadata": {},
     "output_type": "execute_result"
    }
   ],
   "source": [
    "s=[2,3,4]\n",
    "x=1\n",
    "for i in s:\n",
    "    x=x*i\n",
    "x\n"
   ]
  },
  {
   "cell_type": "code",
   "execution_count": 8,
   "id": "0d65b92c",
   "metadata": {},
   "outputs": [
    {
     "name": "stdout",
     "output_type": "stream",
     "text": [
      "87\n"
     ]
    }
   ],
   "source": [
    "x=[5,6,7,33,45,6,87]\n",
    "for i in range(len(x)):\n",
    "    for j in range(i+1,len(x)):\n",
    "        if x[i]<x[j]:\n",
    "            x[i],x[j]=x[j],x[i]\n",
    "print(x[0])"
   ]
  },
  {
   "cell_type": "code",
   "execution_count": 9,
   "id": "232f16ec",
   "metadata": {},
   "outputs": [
    {
     "name": "stdout",
     "output_type": "stream",
     "text": [
      "2\n"
     ]
    }
   ],
   "source": [
    "x=['abc', 'xyz', 'aba', '1221']\n",
    "count=0\n",
    "for i in x:\n",
    "    if i[0]==i[-1]:\n",
    "        count=count+1\n",
    "print(count)\n"
   ]
  },
  {
   "cell_type": "code",
   "execution_count": 15,
   "id": "c41a947a",
   "metadata": {},
   "outputs": [
    {
     "data": {
      "text/plain": [
       "[(2, 1), (1, 2), (2, 3), (4, 4), (2, 5)]"
      ]
     },
     "execution_count": 15,
     "metadata": {},
     "output_type": "execute_result"
    }
   ],
   "source": [
    "x=[(2, 5), (1, 2), (4, 4), (2, 3), (2, 1)]\n",
    "b=[]\n",
    "for i in x:\n",
    "    b.append(i[1])\n",
    "y=sorted(b)\n",
    "c=[]\n",
    "for k in y:\n",
    "    for l in x:\n",
    "        if l[1]==k:\n",
    "            c.append(l)\n",
    "c\n",
    "    \n",
    "    "
   ]
  },
  {
   "cell_type": "code",
   "execution_count": 21,
   "id": "7686158d",
   "metadata": {},
   "outputs": [
    {
     "name": "stdout",
     "output_type": "stream",
     "text": [
      "[10, 20, 30, 50, 60, 40, 80]\n",
      "[40]\n"
     ]
    }
   ],
   "source": [
    "a = [10,20,30,20,10,50,60,40,80,50,40]\n",
    "b=[]\n",
    "for i in a:\n",
    "    if i not in b:\n",
    "        b.append(i)\n",
    "k=[]\n",
    "for j in a:\n",
    "    if a.count(i)>1 and i not in k:\n",
    "        k.append(i)\n",
    "print(b)\n",
    "print(k)"
   ]
  },
  {
   "cell_type": "code",
   "execution_count": 26,
   "id": "afd50993",
   "metadata": {},
   "outputs": [
    {
     "name": "stdout",
     "output_type": "stream",
     "text": [
      "NONE\n"
     ]
    }
   ],
   "source": [
    "x=[]\n",
    "if not x:\n",
    "    print('NONE')\n",
    "else:\n",
    "    print(x)\n",
    "    "
   ]
  },
  {
   "cell_type": "code",
   "execution_count": 31,
   "id": "e3a97895",
   "metadata": {},
   "outputs": [
    {
     "data": {
      "text/plain": [
       "['Narsimha', 'chellaboina', 'employee', 'company']"
      ]
     },
     "execution_count": 31,
     "metadata": {},
     "output_type": "execute_result"
    }
   ],
   "source": [
    "x='Narsimha chellaboina is employee of mouri tech company'\n",
    "n=5\n",
    "d=[]\n",
    "y=x.split()\n",
    "for i in y:\n",
    "    if len(i)>n:\n",
    "        d.append(i)\n",
    "d\n",
    "        \n"
   ]
  },
  {
   "cell_type": "code",
   "execution_count": 7,
   "id": "79d3f669",
   "metadata": {},
   "outputs": [
    {
     "data": {
      "text/plain": [
       "['Green', 'White', 'Black']"
      ]
     },
     "execution_count": 7,
     "metadata": {},
     "output_type": "execute_result"
    }
   ],
   "source": [
    "x=['Red', 'Green', 'White', 'Black', 'Pink', 'Yellow']\n",
    "y=[]\n",
    "for i in range(len(x)):\n",
    "    if i not in (0,4,5):\n",
    "        y.append(x[i])\n",
    "y"
   ]
  },
  {
   "cell_type": "code",
   "execution_count": 9,
   "id": "c6f43333",
   "metadata": {},
   "outputs": [
    {
     "name": "stdout",
     "output_type": "stream",
     "text": [
      "[36, 49, 64, 81, 100, 121, 144, 169, 196, 225, 256, 289, 324, 361, 400, 441, 484, 529, 576, 625, 676, 729, 784, 841, 900]\n"
     ]
    }
   ],
   "source": [
    "l=[]\n",
    "for i in range(1,31):\n",
    "    x=i**2\n",
    "    l.append(x)\n",
    "print(l[5:])"
   ]
  },
  {
   "cell_type": "code",
   "execution_count": 11,
   "id": "63345b97",
   "metadata": {},
   "outputs": [
    {
     "data": {
      "text/plain": [
       "'abcd'"
      ]
     },
     "execution_count": 11,
     "metadata": {},
     "output_type": "execute_result"
    }
   ],
   "source": [
    "s = ['a', 'b', 'c', 'd']\n",
    "x=''.join(s)\n",
    "x\n"
   ]
  },
  {
   "cell_type": "code",
   "execution_count": 22,
   "id": "0f6ec82c",
   "metadata": {},
   "outputs": [
    {
     "data": {
      "text/plain": [
       "[9, 3, 5, 8, 2, 4, 6]"
      ]
     },
     "execution_count": 22,
     "metadata": {},
     "output_type": "execute_result"
    }
   ],
   "source": [
    "list1 = [1, 3, 5, 7, 9]\n",
    "list2=[1, 2, 4, 6, 7, 8]\n",
    "x=set(list1)\n",
    "y=set(list2)\n",
    "z=list(x-y)\n",
    "k=list(y-x)\n",
    "o=z+k\n",
    "o"
   ]
  },
  {
   "cell_type": "code",
   "execution_count": 25,
   "id": "ca0ca89a",
   "metadata": {},
   "outputs": [
    {
     "name": "stdout",
     "output_type": "stream",
     "text": [
      "0 5\n",
      "1 15\n",
      "2 35\n",
      "3 8\n",
      "4 98\n"
     ]
    }
   ],
   "source": [
    "nums = [5, 15, 35, 8, 98]\n",
    "for i , j in enumerate(nums):\n",
    "    print(i,j)"
   ]
  },
  {
   "cell_type": "code",
   "execution_count": 30,
   "id": "b7560760",
   "metadata": {},
   "outputs": [
    {
     "data": {
      "text/plain": [
       "['2', '4', '3', '1', '5', '6', '9', '7', '9', '0']"
      ]
     },
     "execution_count": 30,
     "metadata": {},
     "output_type": "execute_result"
    }
   ],
   "source": [
    "x=[[2,4,3],[1,5,6], [9], [7,9,0]]\n",
    "s=str(x)\n",
    "s=s.replace('[',' ')\n",
    "s=s.replace(']',' ')\n",
    "s=s.replace(',',' ')\n",
    "s=s.split()\n",
    "s"
   ]
  },
  {
   "cell_type": "code",
   "execution_count": 31,
   "id": "0c581ead",
   "metadata": {},
   "outputs": [
    {
     "data": {
      "text/plain": [
       "{10: 4, 20: 4, 40: 2, 50: 2, 30: 1}"
      ]
     },
     "execution_count": 31,
     "metadata": {},
     "output_type": "execute_result"
    }
   ],
   "source": [
    "my_list = [10,10,10,10,20,20,20,20,40,40,50,50,30]\n",
    "d={}\n",
    "for i in my_list:\n",
    "    keys=d.keys()\n",
    "    if i in keys:\n",
    "        d[i]+=1\n",
    "    else:\n",
    "        d[i]=1\n",
    "d"
   ]
  },
  {
   "cell_type": "code",
   "execution_count": null,
   "id": "3d78e01d",
   "metadata": {},
   "outputs": [],
   "source": []
  },
  {
   "cell_type": "code",
   "execution_count": null,
   "id": "0b6e5980",
   "metadata": {},
   "outputs": [],
   "source": []
  },
  {
   "cell_type": "code",
   "execution_count": null,
   "id": "b101627e",
   "metadata": {},
   "outputs": [],
   "source": []
  },
  {
   "cell_type": "code",
   "execution_count": null,
   "id": "0186ee7a",
   "metadata": {},
   "outputs": [],
   "source": []
  },
  {
   "cell_type": "code",
   "execution_count": null,
   "id": "6b9326e1",
   "metadata": {},
   "outputs": [],
   "source": []
  },
  {
   "cell_type": "code",
   "execution_count": null,
   "id": "84a3b0a3",
   "metadata": {},
   "outputs": [],
   "source": []
  },
  {
   "cell_type": "code",
   "execution_count": null,
   "id": "0bb173c9",
   "metadata": {},
   "outputs": [],
   "source": []
  },
  {
   "cell_type": "code",
   "execution_count": null,
   "id": "c283a269",
   "metadata": {},
   "outputs": [],
   "source": []
  },
  {
   "cell_type": "code",
   "execution_count": null,
   "id": "a7de99d1",
   "metadata": {},
   "outputs": [],
   "source": []
  },
  {
   "cell_type": "code",
   "execution_count": null,
   "id": "34ad2b4b",
   "metadata": {},
   "outputs": [],
   "source": []
  },
  {
   "cell_type": "code",
   "execution_count": null,
   "id": "62ea595f",
   "metadata": {},
   "outputs": [],
   "source": []
  },
  {
   "cell_type": "code",
   "execution_count": null,
   "id": "a565adc7",
   "metadata": {},
   "outputs": [],
   "source": []
  },
  {
   "cell_type": "code",
   "execution_count": null,
   "id": "697e78c7",
   "metadata": {},
   "outputs": [],
   "source": []
  }
 ],
 "metadata": {
  "kernelspec": {
   "display_name": "Python 3 (ipykernel)",
   "language": "python",
   "name": "python3"
  },
  "language_info": {
   "codemirror_mode": {
    "name": "ipython",
    "version": 3
   },
   "file_extension": ".py",
   "mimetype": "text/x-python",
   "name": "python",
   "nbconvert_exporter": "python",
   "pygments_lexer": "ipython3",
   "version": "3.9.13"
  }
 },
 "nbformat": 4,
 "nbformat_minor": 5
}
