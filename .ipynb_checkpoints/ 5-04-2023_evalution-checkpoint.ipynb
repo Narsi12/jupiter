{
 "cells": [
  {
   "cell_type": "code",
   "execution_count": 2,
   "id": "a0a58d94",
   "metadata": {},
   "outputs": [
    {
     "name": "stdout",
     "output_type": "stream",
     "text": [
      "enter your age : 12\n",
      "Your not eligible to vote\n"
     ]
    }
   ],
   "source": [
    "class ageinfo(Exception):\n",
    "    pass\n",
    "age=int(input(\"enter your age : \"))\n",
    "try:\n",
    "    if age<19:\n",
    "        raise ageinfo(\"Your not eligible to vote\")\n",
    "    else:\n",
    "        print(\"your eligible \")\n",
    "except ageinfo as e:\n",
    "    print(e)"
   ]
  },
  {
   "cell_type": "code",
   "execution_count": 2,
   "id": "baa5e83d",
   "metadata": {},
   "outputs": [
    {
     "name": "stdout",
     "output_type": "stream",
     "text": [
      "1\n",
      "4\n",
      "9\n",
      "16\n",
      "25\n",
      "36\n",
      "49\n",
      "64\n",
      "81\n",
      "100\n"
     ]
    }
   ],
   "source": [
    "def total():\n",
    "    n=1\n",
    "    while n<=10:\n",
    "        sd=n*n\n",
    "        yield sd\n",
    "        n=n+1\n",
    "    \n",
    "s=total()\n",
    "for i in s:\n",
    "    print(i)"
   ]
  },
  {
   "cell_type": "code",
   "execution_count": 4,
   "id": "ab4a49c0",
   "metadata": {},
   "outputs": [
    {
     "name": "stdout",
     "output_type": "stream",
     "text": [
      "Befor function\n",
      "1\n",
      "2\n",
      "3\n",
      "4\n",
      "5\n",
      "6\n",
      "7\n",
      "8\n",
      "9\n",
      "After function\n"
     ]
    }
   ],
   "source": [
    "def my_decorator(func):\n",
    "    def wrapper():\n",
    "         print(func.lower())\n",
    "    return wrapper\n",
    "@my_decorator\n",
    "def functiona():\n",
    "    for i in range(1,10):\n",
    "        print(i)\n",
    "functiona()\n",
    "    "
   ]
  },
  {
   "cell_type": "code",
   "execution_count": 9,
   "id": "356d6e7c",
   "metadata": {},
   "outputs": [
    {
     "name": "stdout",
     "output_type": "stream",
     "text": [
      "170\n"
     ]
    }
   ],
   "source": [
    "def aedd(func):\n",
    "    def wrapper(x,y):\n",
    "        return func(x,y)*10\n",
    "    return wrapper\n",
    "@aedd\n",
    "def summ(x,y):\n",
    "    return x+y\n",
    "y=summ(9,8)\n",
    "print(y)\n",
    "    "
   ]
  },
  {
   "cell_type": "code",
   "execution_count": 1,
   "id": "97d1caa0",
   "metadata": {},
   "outputs": [
    {
     "name": "stdout",
     "output_type": "stream",
     "text": [
      "the addition of two numbers 3,5 is 8\n",
      "8\n"
     ]
    }
   ],
   "source": [
    "def add_two(func):\n",
    "    def wrapper(x,y):\n",
    "        result=func(x,y)\n",
    "        print(f\"the addition of two numbers {x},{y} is {result}\")\n",
    "        return result\n",
    "    return wrapper\n",
    "@add_two\n",
    "def sol(a,b):\n",
    "    return a+b\n",
    "r=sol(3,5)\n",
    "print(r)"
   ]
  },
  {
   "cell_type": "code",
   "execution_count": 16,
   "id": "08e11760",
   "metadata": {},
   "outputs": [
    {
     "name": "stdout",
     "output_type": "stream",
     "text": [
      "narsimha\n",
      "23\n",
      "[1, 2, 3]\n",
      "9.87\n",
      "None\n"
     ]
    }
   ],
   "source": [
    "def sol(*args):\n",
    "    for i in args:\n",
    "        print(i)\n",
    "print(sol('narsimha',23,[1,2,3],9.87))\n"
   ]
  },
  {
   "cell_type": "code",
   "execution_count": 20,
   "id": "a4607a27",
   "metadata": {},
   "outputs": [
    {
     "name": "stdout",
     "output_type": "stream",
     "text": [
      "name:narsimha\n",
      "age:22\n"
     ]
    }
   ],
   "source": [
    "def iu(**kwargs):\n",
    "    for key,value in kwargs.items():\n",
    "        print(f\"{key}:{value}\")\n",
    "iu(name='narsimha',age=22)"
   ]
  },
  {
   "cell_type": "code",
   "execution_count": 1,
   "id": "177ad708",
   "metadata": {},
   "outputs": [
    {
     "name": "stdout",
     "output_type": "stream",
     "text": [
      "t\n"
     ]
    }
   ],
   "source": [
    "s=\"Venkatt\"\n",
    "y=''\n",
    "for i in s:\n",
    "    if s.count(i)>1 and i not in y:\n",
    "        y+=i\n",
    "print(y)"
   ]
  },
  {
   "cell_type": "code",
   "execution_count": 4,
   "id": "150a94b3",
   "metadata": {},
   "outputs": [
    {
     "data": {
      "text/plain": [
       "[2, 3, 4, 5, 6, 7, 8]"
      ]
     },
     "execution_count": 4,
     "metadata": {},
     "output_type": "execute_result"
    }
   ],
   "source": [
    "nums=[2,3,4,2,4,5,5,5,6,7,8,8]\n",
    "y=[]\n",
    "for i in nums:\n",
    "    if i not in y:\n",
    "        y.append(i)\n",
    "y"
   ]
  },
  {
   "cell_type": "code",
   "execution_count": 84,
   "id": "01bb5ee2",
   "metadata": {},
   "outputs": [
    {
     "data": {
      "text/plain": [
       "[(2, 1), (1, 2), (2, 3), (4, 4), (2, 5)]"
      ]
     },
     "execution_count": 84,
     "metadata": {},
     "output_type": "execute_result"
    }
   ],
   "source": [
    "l = [(2, 5), (1, 2), (4, 4), (2, 3), (2, 1)]\n",
    "b=[]\n",
    "for i in l:\n",
    "    b.append(i[1])\n",
    "c=sorted(b)\n",
    "r=[]\n",
    "for j in c:\n",
    "    for k in l:\n",
    "        if k[1]==j:\n",
    "            r.append(k)\n",
    "r"
   ]
  },
  {
   "cell_type": "code",
   "execution_count": 86,
   "id": "3f8509da",
   "metadata": {},
   "outputs": [
    {
     "data": {
      "text/plain": [
       "[(2, 1), (1, 2), (2, 3), (4, 4), (2, 5)]"
      ]
     },
     "execution_count": 86,
     "metadata": {},
     "output_type": "execute_result"
    }
   ],
   "source": [
    "l = [(2, 5), (1, 2), (4, 4), (2, 3), (2, 1)]\n",
    "a=[]\n",
    "for i in l:\n",
    "    a.append(i[1])\n",
    "d=sorted(a)\n",
    "f=[]\n",
    "for j in d:\n",
    "    for k in l:\n",
    "        if k[1]==j:\n",
    "            f.append(k)\n",
    "f"
   ]
  },
  {
   "cell_type": "code",
   "execution_count": 93,
   "id": "d9c0bb3d",
   "metadata": {},
   "outputs": [
    {
     "name": "stdout",
     "output_type": "stream",
     "text": [
      "['my', 'name', 'is', 'Narsimha']\n"
     ]
    }
   ],
   "source": [
    "x=['m','na','i','Nar']\n",
    "y=['y','me','s','simha']\n",
    "d=[]\n",
    "for i in range(len(x)):\n",
    "    d.append(x[i]+y[i])\n",
    "print(d)"
   ]
  },
  {
   "cell_type": "markdown",
   "id": "a2920afb",
   "metadata": {},
   "source": [
    "# 22-04-2023"
   ]
  },
  {
   "cell_type": "code",
   "execution_count": 15,
   "id": "5e80cfcc",
   "metadata": {},
   "outputs": [
    {
     "name": "stdout",
     "output_type": "stream",
     "text": [
      "['4*1=4', '4*2=8', '4*3=12', '4*4=16', '4*5=20', '4*6=24', '4*7=28', '4*8=32', '4*9=36', '4*10=40'] "
     ]
    }
   ],
   "source": [
    "def table(x):\n",
    "    y=[]\n",
    "    for i in range(1,11):\n",
    "        y.append(str(x)+'*'+str(i)+'='+str(x*i))  \n",
    "    return y\n",
    "x=4    \n",
    "print(table(x),end=' ')"
   ]
  },
  {
   "cell_type": "code",
   "execution_count": 30,
   "id": "c869af86",
   "metadata": {},
   "outputs": [
    {
     "name": "stdout",
     "output_type": "stream",
     "text": [
      "[1, 2, 3, 4, 5, 6, 7, 8, 9]\n"
     ]
    }
   ],
   "source": [
    "x=[1,2,3,4,5,6,5,4,3,7,8,9,9]\n",
    "c = [i for n, i in enumerate(x) if i not in x[:n]]\n",
    "print(c)\n"
   ]
  },
  {
   "cell_type": "code",
   "execution_count": 38,
   "id": "bce1013f",
   "metadata": {},
   "outputs": [
    {
     "name": "stdout",
     "output_type": "stream",
     "text": [
      "I EVOL NOHTYP "
     ]
    }
   ],
   "source": [
    "sen=\"I LOVE PYTHON\"\n",
    "x = sen.split()\n",
    "for i in x:\n",
    "    y=i[::-1]\n",
    "    print(y,end=' ')"
   ]
  },
  {
   "cell_type": "code",
   "execution_count": 51,
   "id": "aedccc36",
   "metadata": {},
   "outputs": [
    {
     "name": "stdout",
     "output_type": "stream",
     "text": [
      "1 4\n",
      "2 3\n"
     ]
    }
   ],
   "source": [
    "x=[4,2,3,5,6]\n",
    "target=8\n",
    "# for i in n:\n",
    "#     for j in n:\n",
    "#         if i+j == target:\n",
    "#             print(i,j)\n",
    "for i in range(len(x)):\n",
    "    for j in range(i+1,len(x)):\n",
    "        if x[i]+x[j]==target:\n",
    "            print(i,j)"
   ]
  },
  {
   "cell_type": "code",
   "execution_count": 59,
   "id": "280f08b4",
   "metadata": {},
   "outputs": [
    {
     "name": "stdout",
     "output_type": "stream",
     "text": [
      "[2, 3, 4, 5, 6, 7, 8]\n"
     ]
    }
   ],
   "source": [
    "x = [3, 6, 2, 4, 7, 5, 8] \n",
    "# new =[]\n",
    "# while x:\n",
    "#     min=x[0]\n",
    "#     for i in x:\n",
    "#         if i < min:\n",
    "#             min=i\n",
    "#     new.append(min)\n",
    "#     x.remove(min)\n",
    "# # print(new)\n",
    "for i in range(len(x)):\n",
    "    for j in range(i+1,len(x)):\n",
    "        if x[i]>x[j]:\n",
    "            x[i],x[j]=x[j],x[i]\n",
    "print(x)"
   ]
  },
  {
   "cell_type": "code",
   "execution_count": 61,
   "id": "0dbc5829",
   "metadata": {},
   "outputs": [
    {
     "name": "stdout",
     "output_type": "stream",
     "text": [
      "0\n",
      "1\n"
     ]
    }
   ],
   "source": [
    "a=0\n",
    "b=1\n",
    "print(a)\n",
    "print(b)\n",
    "for i in range(2,2):\n",
    "    c=a+b\n",
    "    a=b\n",
    "    b=c\n",
    "    print(c)\n",
    "    "
   ]
  },
  {
   "cell_type": "code",
   "execution_count": 64,
   "id": "50aa6d9a",
   "metadata": {},
   "outputs": [
    {
     "name": "stdout",
     "output_type": "stream",
     "text": [
      "120\n"
     ]
    }
   ],
   "source": [
    "fact=1\n",
    "for i in range(1,6):\n",
    "    fact = fact*i\n",
    "print(fact)"
   ]
  },
  {
   "cell_type": "code",
   "execution_count": 66,
   "id": "60c7cb25",
   "metadata": {},
   "outputs": [
    {
     "name": "stdout",
     "output_type": "stream",
     "text": [
      "10\n"
     ]
    }
   ],
   "source": [
    "x=1234\n",
    "sum=0\n",
    "while x>0:\n",
    "    rem = x%10\n",
    "    sum=sum+rem\n",
    "    x = x//10\n",
    "print(sum)"
   ]
  },
  {
   "cell_type": "code",
   "execution_count": 74,
   "id": "173e0e52",
   "metadata": {},
   "outputs": [
    {
     "name": "stdout",
     "output_type": "stream",
     "text": [
      "NO\n"
     ]
    }
   ],
   "source": [
    "def armstrong(x):\n",
    "    temp = x\n",
    "    rev = 0 \n",
    "    while x>0:\n",
    "        rem = x%10\n",
    "        rev = rev+(rem*rem*rem)\n",
    "        x = x//10\n",
    "    if temp == rev:\n",
    "        print('YES')\n",
    "    else:\n",
    "        print('NO')\n",
    "x=253\n",
    "armstrong(x)"
   ]
  },
  {
   "cell_type": "code",
   "execution_count": 84,
   "id": "a84e986e",
   "metadata": {},
   "outputs": [
    {
     "name": "stdout",
     "output_type": "stream",
     "text": [
      "NRSIMH\n"
     ]
    }
   ],
   "source": [
    "name = 'NARASIMHA'\n",
    "# y=''\n",
    "# for i in name:\n",
    "#     if name.count(i)>1 and i not in y:\n",
    "#         y+=i\n",
    "# print(y)\n",
    "z=''\n",
    "y=''\n",
    "for i in name:\n",
    "    if name.count(i)>1:\n",
    "        del i\n",
    "    else:\n",
    "        y+=i\n",
    "print(y)"
   ]
  },
  {
   "cell_type": "code",
   "execution_count": 104,
   "id": "613b0071",
   "metadata": {},
   "outputs": [
    {
     "name": "stdout",
     "output_type": "stream",
     "text": [
      "28\n"
     ]
    }
   ],
   "source": [
    "x=8\n",
    "sum=0\n",
    "for i in range(1,x+1):\n",
    "    sum+=i%x\n",
    "print(sum)"
   ]
  },
  {
   "cell_type": "code",
   "execution_count": 116,
   "id": "ffbe4d33",
   "metadata": {},
   "outputs": [
    {
     "name": "stdout",
     "output_type": "stream",
     "text": [
      "Exception x can not be zero\n"
     ]
    }
   ],
   "source": [
    "x=0\n",
    "y=10\n",
    "class valueEx(Exception):\n",
    "    pass\n",
    "try:\n",
    "    if x==0:\n",
    "        raise valueEx('x can not be zero')\n",
    "    elif x < 0:\n",
    "        raise valueEx('X can not be Negative')\n",
    "    else:\n",
    "        res = x/y\n",
    "        print(res)\n",
    "except valueEx as e:\n",
    "    print('Exception',e)\n",
    "    "
   ]
  },
  {
   "cell_type": "code",
   "execution_count": 133,
   "id": "48ff4e00",
   "metadata": {},
   "outputs": [
    {
     "data": {
      "text/plain": [
       "[2, 4, 2, 4, 5, 5, 5, 8, 8]"
      ]
     },
     "execution_count": 133,
     "metadata": {},
     "output_type": "execute_result"
    }
   ],
   "source": [
    "nums=[2,3,4,2,4,5,5,5,6,7,8,8]\n",
    "y=[i for i in nums if nums.count(i)>1]\n",
    "y"
   ]
  },
  {
   "cell_type": "code",
   "execution_count": 143,
   "id": "1622c32a",
   "metadata": {},
   "outputs": [
    {
     "name": "stdout",
     "output_type": "stream",
     "text": [
      " NRIH\n"
     ]
    }
   ],
   "source": [
    "n = 'NARSIMHA'\n",
    "z=' '\n",
    "for i in range(len(n)):\n",
    "    if i%2!=0:\n",
    "        continue\n",
    "    else:\n",
    "        z+=n[i]\n",
    "print(z)"
   ]
  },
  {
   "cell_type": "code",
   "execution_count": 152,
   "id": "2c627810",
   "metadata": {},
   "outputs": [
    {
     "data": {
      "text/plain": [
       "'N r s m'"
      ]
     },
     "execution_count": 152,
     "metadata": {},
     "output_type": "execute_result"
    }
   ],
   "source": [
    "s1=\"Narsimha\"\n",
    "s2=\"Chellaboina\"\n",
    "s3=\" \".join([i for i in s1 if i not in s2])\n",
    "s3\n"
   ]
  },
  {
   "cell_type": "code",
   "execution_count": 165,
   "id": "de10c386",
   "metadata": {},
   "outputs": [
    {
     "name": "stdout",
     "output_type": "stream",
     "text": [
      "most repeated value is : 6\n"
     ]
    }
   ],
   "source": [
    "x=[1,2,3,4,2,2,2,2,2,2,2,2,2,3,3,3,4,6,6,6,6,66,6,6,6,66,6,6,6,6,6,6,6,6,6,6,6,6] \n",
    "c={}\n",
    "for i in x:\n",
    "    if i not in c.keys():\n",
    "        c[i]=1\n",
    "    else:\n",
    "        c[i]+=1\n",
    "maxV=0\n",
    "common=None\n",
    "for i in c:\n",
    "    if c[i]>maxV:\n",
    "        maxV=c[i]\n",
    "        common=i\n",
    "print('most repeated value is :',common)"
   ]
  },
  {
   "cell_type": "code",
   "execution_count": 166,
   "id": "087153d2",
   "metadata": {},
   "outputs": [
    {
     "name": "stdout",
     "output_type": "stream",
     "text": [
      "4321\n"
     ]
    }
   ],
   "source": [
    "x=1234\n",
    "y=''\n",
    "while x>0:\n",
    "    rev = x%10\n",
    "    y=y+str(rev)\n",
    "    x=x//10\n",
    "print(y)"
   ]
  },
  {
   "cell_type": "code",
   "execution_count": 171,
   "id": "df4c1596",
   "metadata": {},
   "outputs": [
    {
     "name": "stdout",
     "output_type": "stream",
     "text": [
      "palindrome\n"
     ]
    }
   ],
   "source": [
    "x='fof'\n",
    "s=0\n",
    "e=len(x)-1\n",
    "while s<e:\n",
    "    if x[s]!=x[e]:\n",
    "        print('not palindrome')\n",
    "        break\n",
    "    s+=1\n",
    "    e-=1\n",
    "else:\n",
    "    print('palindrome')"
   ]
  },
  {
   "cell_type": "code",
   "execution_count": 180,
   "id": "98b4cbc0",
   "metadata": {},
   "outputs": [
    {
     "name": "stdout",
     "output_type": "stream",
     "text": [
      "2\n",
      "3\n",
      "5\n",
      "7\n"
     ]
    }
   ],
   "source": [
    "l=1\n",
    "u=10\n",
    "for num in range(l,u+1):\n",
    "    if num>1:\n",
    "        for i in range(2,num):\n",
    "            if num%i==0:\n",
    "                break\n",
    "        else:\n",
    "            print(num)"
   ]
  },
  {
   "cell_type": "code",
   "execution_count": 183,
   "id": "2129b463",
   "metadata": {},
   "outputs": [
    {
     "name": "stdout",
     "output_type": "stream",
     "text": [
      "['Camera', 'Camera Lens', 'Laptop', 'Laptop Case', 'Mobile', 'Speakers', 'Television']\n",
      "['Camera', 'Camera Lens', 'Laptop', 'Laptop Case', 'Mobile', 'Speakers', 'Television']\n"
     ]
    }
   ],
   "source": [
    "y=['Mobile', 'Laptop', 'Camera', 'Speakers', 'Television', 'Laptop Case', 'Camera Lens']\n",
    "for i in range(len(y)):\n",
    "    for j in range(i+1,len(y)):\n",
    "        if y[i]>y[j]:\n",
    "            y[i],y[j]=y[j],y[i]\n",
    "print(y)\n",
    "s=sorted(y)\n",
    "print(s)"
   ]
  },
  {
   "cell_type": "code",
   "execution_count": 186,
   "id": "7c150eae",
   "metadata": {},
   "outputs": [
    {
     "name": "stdout",
     "output_type": "stream",
     "text": [
      "five\n"
     ]
    }
   ],
   "source": [
    "user = 5\n",
    "num=[1,2,3,4,5,6,7,8,9,10]\n",
    "val=[\"one\",\"two\",\"three\",'Four',\"five\",\"six\",\"seven\",\"eight\",\"nine\",'ten']\n",
    "nums=dict(zip(num,val))\n",
    "print(nums[user])"
   ]
  },
  {
   "cell_type": "code",
   "execution_count": 200,
   "id": "02107015",
   "metadata": {},
   "outputs": [
    {
     "name": "stdout",
     "output_type": "stream",
     "text": [
      "['2', '6', '5'] 3\n",
      "Pynative 8\n",
      "@#^& 4\n"
     ]
    }
   ],
   "source": [
    "s = \"P@#yn26at^&i5ve\" \n",
    "nums=[]\n",
    "a=0\n",
    "word = ''\n",
    "b=0\n",
    "special = ''\n",
    "c=0\n",
    "for i in s:\n",
    "    if i.isnumeric():\n",
    "        nums.append(i)\n",
    "        a+=1\n",
    "    elif i.isalpha():\n",
    "        word+=i\n",
    "        b+=1\n",
    "    else:\n",
    "        special+=i\n",
    "        c+=1\n",
    "print(nums,a)\n",
    "print(word,b)\n",
    "print(special,c)"
   ]
  },
  {
   "cell_type": "code",
   "execution_count": 208,
   "id": "1c286a7d",
   "metadata": {},
   "outputs": [
    {
     "data": {
      "text/plain": [
       "{'name': 'narsimha', 'age': '23', 'deg': 'Software'}"
      ]
     },
     "execution_count": 208,
     "metadata": {},
     "output_type": "execute_result"
    }
   ],
   "source": [
    "x=\"name:narsimha,age;23,deg:Software\"\n",
    "a=x.replace(';',':')\n",
    "y=a.split(',')\n",
    "c={}\n",
    "for i in y:\n",
    "    key,val = i.split(':')\n",
    "    c[key]=val\n",
    "c"
   ]
  },
  {
   "cell_type": "code",
   "execution_count": 215,
   "id": "15948fce",
   "metadata": {},
   "outputs": [
    {
     "name": "stdout",
     "output_type": "stream",
     "text": [
      "[{'name': 'vasu', 'id': '1'}, {'name': 'raju', 'id': '2'}, {'name': 'vasu', 'id': '3'}]\n"
     ]
    }
   ],
   "source": [
    "a='vasu:1,raju:2,vasu:3'\n",
    "b=a.split(',')\n",
    "c=[]\n",
    "for i in b:\n",
    "    key,val=i.split(':')\n",
    "    c.append({'name':key,'id':val})\n",
    "print(c)"
   ]
  },
  {
   "cell_type": "code",
   "execution_count": 230,
   "id": "3a1ce314",
   "metadata": {},
   "outputs": [
    {
     "name": "stdout",
     "output_type": "stream",
     "text": [
      "{'amount': 25, 'deg': 15, 'id': 3, 'name': 'vasu'}\n",
      "{'amount': 25, 'deg': 15, 'id': 3, 'name': 'vasu'}\n"
     ]
    }
   ],
   "source": [
    "a={'name':'vasu','id':3,'deg':15,'amount':25}\n",
    "key=[]\n",
    "val=[]\n",
    "for i,j in a.items():\n",
    "    key.append(i)\n",
    "    val.append(j)\n",
    "key=key[::-1]\n",
    "val=val[::-1]\n",
    "z=dict(zip(key,val))\n",
    "print(z)\n",
    "\n",
    "e={k:v for k,v in reversed(a.items())}\n",
    "print(e)"
   ]
  },
  {
   "cell_type": "code",
   "execution_count": 225,
   "id": "0d249cf8",
   "metadata": {},
   "outputs": [
    {
     "name": "stdout",
     "output_type": "stream",
     "text": [
      "24\n"
     ]
    }
   ],
   "source": [
    "a={'name':'vasu','id':3,'deg':15,'amount':25} \n",
    "c=''\n",
    "d=''\n",
    "for i,j in a.items():\n",
    "    c+=i\n",
    "    d+=str(j)\n",
    "print(len(c)+len(d))"
   ]
  },
  {
   "cell_type": "code",
   "execution_count": 226,
   "id": "afce1ed7",
   "metadata": {},
   "outputs": [
    {
     "data": {
      "text/plain": [
       "{1: 10, 2: 20, 3: 30, 4: 40, 5: 50, 6: 60}"
      ]
     },
     "execution_count": 226,
     "metadata": {},
     "output_type": "execute_result"
    }
   ],
   "source": [
    "dic1={1:10, 2:20}\n",
    "dic2={3:30, 4:40}\n",
    "dic3={5:50,6:60}\n",
    "d={}\n",
    "for i in dic1,dic2,dic3:\n",
    "    d.update(i)\n",
    "d"
   ]
  },
  {
   "cell_type": "code",
   "execution_count": 235,
   "id": "357a75a1",
   "metadata": {},
   "outputs": [
    {
     "name": "stdout",
     "output_type": "stream",
     "text": [
      "[{'name': 'ganesh', 'id': 2}, {'name': 'hari', 'id': 1}, {'name': 'simha', 'id': 2}]\n"
     ]
    }
   ],
   "source": [
    "x=[{\"name\":\"hari\",\"id\":1},{\"name\":\"ganesh\",\"id\":2},{\"name\":\"simha\",\"id\":2},{\"name\":\"hari\",\"id\":1}]\n",
    "for i in range(len(x)):\n",
    "    for j in range(i+1,len(x)):\n",
    "        if x[i]['name']>x[j]['name']:\n",
    "            x[i],x[j]=x[j],x[i]\n",
    "y=[]\n",
    "for i in x:\n",
    "    if i not in y:\n",
    "        y.append(i)\n",
    "print(y)"
   ]
  },
  {
   "cell_type": "code",
   "execution_count": 238,
   "id": "260a0126",
   "metadata": {},
   "outputs": [
    {
     "name": "stdout",
     "output_type": "stream",
     "text": [
      "{'q': 1, 's': 9, 'd': 8, 'f': 7, 'g': 8, 'h': 7, 'j': 7, 'k': 2, 'v': 1, 'a': 1, 'r': 1, 't': 1, 'y': 1, 'u': 1, 'i': 1}\n"
     ]
    }
   ],
   "source": [
    "s='qsdfghjkjhgfdsssdfvghjhgfdssdfghjkjhgfdsasdrtgyujijhgfds'\n",
    "c={}\n",
    "for i in s:\n",
    "    if i not in c.keys():\n",
    "        c[i]=1\n",
    "    else:\n",
    "        c[i]+=1\n",
    "print(c)"
   ]
  },
  {
   "cell_type": "code",
   "execution_count": 255,
   "id": "ecd77f2c",
   "metadata": {},
   "outputs": [
    {
     "name": "stdout",
     "output_type": "stream",
     "text": [
      "{'e': -2, 'd': 1, 'c': 2, 'a': 3, 'b': 5}\n"
     ]
    }
   ],
   "source": [
    "d={'a':3,'b':5,'c':2,'d':1,'e':-2}\n",
    "c=list(d.items())\n",
    "for i in range(len(c)):\n",
    "    for j in range(i+1,len(c)):\n",
    "        if c[i]<c[j]:\n",
    "            c[i],c[j]=c[j],c[i]\n",
    "f={}\n",
    "for item in c:\n",
    "    f[item[0]]=item[1]\n",
    "f\n",
    "\n",
    "a=dict(sorted(d.items()))\n",
    "c=dict(sorted(d.items() , key=lambda x:x[1]))\n",
    "print(c)"
   ]
  },
  {
   "cell_type": "code",
   "execution_count": 280,
   "id": "1b808638",
   "metadata": {},
   "outputs": [
    {
     "name": "stdout",
     "output_type": "stream",
     "text": [
      "[{'name': 'AP', 'city': 2, 'city with a': ['Amravathi', 'Anakala']}, {'name': 'MP', 'city': 2, 'city with a': ['Abd', 'Ade']}]\n"
     ]
    }
   ],
   "source": [
    "a=[{\"name\":\"AP\",\"city\":[\"vizag\",\"Amravathi\",\"Anakala\",\"kur\",\"nandyala\"]},{\"name\":\"MP\",\"city\":[\"Abd\",\"cda\",\"Ade\",\"kur\",\"d\"]}]\n",
    "for i in a:\n",
    "    c=0\n",
    "    l=[]\n",
    "    for j in i['city']:\n",
    "         \n",
    "        if j[0]=='A':\n",
    "            c=c+1\n",
    "            l.append(j)\n",
    "            i['city']=c\n",
    "            i['city with a']=l\n",
    "print(a)\n",
    "            \n"
   ]
  },
  {
   "cell_type": "code",
   "execution_count": 259,
   "id": "1486e00d",
   "metadata": {},
   "outputs": [
    {
     "name": "stdout",
     "output_type": "stream",
     "text": [
      "2\n"
     ]
    }
   ],
   "source": [
    "x=[[1,2,3],[3,4,2],[4,2,6,1]]\n",
    "for i in x[0]:\n",
    "    for j in x[1]:\n",
    "        for k in x[2]:\n",
    "            if i==j and j==k:\n",
    "                print(i)"
   ]
  },
  {
   "cell_type": "code",
   "execution_count": 285,
   "id": "93a4e971",
   "metadata": {},
   "outputs": [
    {
     "data": {
      "text/plain": [
       "[1, 2, 3, 4]"
      ]
     },
     "execution_count": 285,
     "metadata": {},
     "output_type": "execute_result"
    }
   ],
   "source": [
    "m = [[1,2,3],[1,2,3],[1,2,3,4]]\n",
    "l=[]\n",
    "for i in m:\n",
    "    for j in i:\n",
    "        if j not in l:\n",
    "            l.append(j)\n",
    "l\n",
    "        "
   ]
  },
  {
   "cell_type": "code",
   "execution_count": 307,
   "id": "e8c848ad",
   "metadata": {},
   "outputs": [
    {
     "data": {
      "text/plain": [
       "['abhi', 'vagrahb', 'vamsi', 'raknahs', 'sai', 'iver', 'shiva', 'inum']"
      ]
     },
     "execution_count": 307,
     "metadata": {},
     "output_type": "execute_result"
    }
   ],
   "source": [
    "a='abhi bhargav vamsi shankar sai revi shiva muni'\n",
    "b=a.replace(' ',',')\n",
    "c=b.split(',')\n",
    "l=[]\n",
    "for i in range(len(c)):\n",
    "    if i%2!=0:\n",
    "        rr=c[i]\n",
    "        ed=rr[::-1]\n",
    "        l.append(ed)\n",
    "    else:\n",
    "        l.append(c[i])\n",
    "l\n",
    "        "
   ]
  },
  {
   "cell_type": "code",
   "execution_count": 309,
   "id": "41dd294d",
   "metadata": {},
   "outputs": [
    {
     "data": {
      "text/plain": [
       "[(2, 1), (1, 2), (2, 3), (4, 4), (2, 5)]"
      ]
     },
     "execution_count": 309,
     "metadata": {},
     "output_type": "execute_result"
    }
   ],
   "source": [
    "l = [(2, 5), (1, 2), (4, 4), (2, 3), (2, 1)]\n",
    "for i in range(len(l)):\n",
    "    for j in range(i+1,len(l)):\n",
    "        if l[i][1]>l[j][1]:\n",
    "            l[i],l[j]=l[j],l[i]\n",
    "l"
   ]
  },
  {
   "cell_type": "code",
   "execution_count": 314,
   "id": "95c1b749",
   "metadata": {},
   "outputs": [
    {
     "name": "stdout",
     "output_type": "stream",
     "text": [
      "['my', 'name', 'is', 'Narsimha']\n"
     ]
    }
   ],
   "source": [
    "x=['m','na','i','Nar']\n",
    "y=['y','me','s','simha']\n",
    "c=[]\n",
    "for i in x:\n",
    "    for j in y:\n",
    "        if x.index(i)==y.index(j):\n",
    "            c.append(i+j)\n",
    "c\n",
    "k=[]\n",
    "for i in range(len(x)):\n",
    "    k.append(x[i]+y[i])\n",
    "print(k)"
   ]
  },
  {
   "cell_type": "code",
   "execution_count": 318,
   "id": "5e2dfffc",
   "metadata": {},
   "outputs": [
    {
     "data": {
      "text/plain": [
       "2"
      ]
     },
     "execution_count": 318,
     "metadata": {},
     "output_type": "execute_result"
    }
   ],
   "source": [
    "l=['aba','xyz','abc','1221']\n",
    "a=0\n",
    "for i in l:\n",
    "    if i[0]==i[-1]:\n",
    "        a+=1\n",
    "a"
   ]
  },
  {
   "cell_type": "code",
   "execution_count": 321,
   "id": "f3f4c5a0",
   "metadata": {},
   "outputs": [
    {
     "name": "stdout",
     "output_type": "stream",
     "text": [
      "e$stakt\n"
     ]
    }
   ],
   "source": [
    "s='eestakt'\n",
    "a=s[0]\n",
    "y=s.replace('e','$')\n",
    "print(a+y[1:])"
   ]
  },
  {
   "cell_type": "code",
   "execution_count": 327,
   "id": "638650d2",
   "metadata": {},
   "outputs": [
    {
     "data": {
      "text/plain": [
       "'chellaboina'"
      ]
     },
     "execution_count": 327,
     "metadata": {},
     "output_type": "execute_result"
    }
   ],
   "source": [
    "x=['narsimha','chellaboina','goud']\n",
    "hg=x[0]\n",
    "for i in x:\n",
    "    if len(i)>len(hg):\n",
    "        hg=i\n",
    "hg"
   ]
  },
  {
   "cell_type": "code",
   "execution_count": 335,
   "id": "4fa2e234",
   "metadata": {},
   "outputs": [
    {
     "name": "stdout",
     "output_type": "stream",
     "text": [
      "Enter number : 1\n",
      "Enter your string : python\n"
     ]
    },
    {
     "data": {
      "text/plain": [
       "'pthon'"
      ]
     },
     "execution_count": 335,
     "metadata": {},
     "output_type": "execute_result"
    }
   ],
   "source": [
    "x=int(input('Enter number : '))\n",
    "sen=input('Enter your string : ')\n",
    "a=sen[:x]\n",
    "b=sen[x+1:]\n",
    "res=a+b\n",
    "res"
   ]
  },
  {
   "cell_type": "code",
   "execution_count": 348,
   "id": "83bc017a",
   "metadata": {},
   "outputs": [
    {
     "name": "stdout",
     "output_type": "stream",
     "text": [
      "john\n",
      "5\n"
     ]
    }
   ],
   "source": [
    "x =['john','john','johnny','jackie','johnny','john','jackie','jamie','jamie','john','johnny','jamie','johnny','john']\n",
    "d={}\n",
    "for i in x:\n",
    "    if i not in d.keys():\n",
    "        d[i]=1\n",
    "    else:\n",
    "        d[i]+=1\n",
    "maxV=0\n",
    "common=None\n",
    "for i,j in d.items():\n",
    "    if j>maxV:\n",
    "        maxV=j\n",
    "        common =i\n",
    "print(common)\n",
    "print(maxV)\n",
    "    \n"
   ]
  },
  {
   "cell_type": "code",
   "execution_count": 352,
   "id": "830874bd",
   "metadata": {},
   "outputs": [
    {
     "name": "stdout",
     "output_type": "stream",
     "text": [
      "{1: 1, 2: 1, 3: 1, 4: 1, 5: 3}\n",
      "3\n",
      "5\n"
     ]
    }
   ],
   "source": [
    "x=[1,2,3,4,5,5,5]\n",
    "s={}\n",
    "for i in x:\n",
    "    if i not in s.keys():\n",
    "        s[i]=1\n",
    "    else:\n",
    "        s[i]+=1\n",
    "hg=0\n",
    "coo=None\n",
    "for i,j in s.items():\n",
    "    if j>hg:\n",
    "        hg=j\n",
    "        coo=i\n",
    "print(s)\n",
    "print(hg)\n",
    "print(coo)"
   ]
  },
  {
   "cell_type": "code",
   "execution_count": 354,
   "id": "3a15ee43",
   "metadata": {},
   "outputs": [
    {
     "data": {
      "text/plain": [
       "'geks'"
      ]
     },
     "execution_count": 354,
     "metadata": {},
     "output_type": "execute_result"
    }
   ],
   "source": [
    "x='geeksforgeeks'\n",
    "c=''\n",
    "for i in x:\n",
    "    if x.count(i)>1 and i not in c: \n",
    "        c=c+i\n",
    "c"
   ]
  },
  {
   "cell_type": "code",
   "execution_count": 369,
   "id": "49118454",
   "metadata": {},
   "outputs": [
    {
     "name": "stdout",
     "output_type": "stream",
     "text": [
      "{'name': ['andhra', 'telangana'], 'cities': [{'name': 'nellore', 'state': 'andhra'}, {'name': 'guntur', 'state': 'andhra'}, {'name': 'Hyd', 'state': 'telangana'}, {'name': 'varangal', 'state': 'telangana'}]}\n"
     ]
    }
   ],
   "source": [
    "a=[{ 'name': 'andhra', 'city': ['nellore', 'guntur'] }, { 'name': 'telangana', 'city': ['Hyd', 'varangal'] }]\n",
    "staes=[]\n",
    "city_with_state=[]\n",
    "for i in a:\n",
    "    staes.append(i['name'])\n",
    "    for j in i['city']:\n",
    "        city_with_state.append({'name':j,'state':i['name']})\n",
    "y={'name':staes,'cities':city_with_state}\n",
    "print(y)"
   ]
  },
  {
   "cell_type": "code",
   "execution_count": 372,
   "id": "0073caf7",
   "metadata": {},
   "outputs": [
    {
     "name": "stdout",
     "output_type": "stream",
     "text": [
      "[0, 0]\n",
      "[1, 1]\n",
      "[2, 4]\n",
      "[3, 9]\n",
      "[4, 16]\n",
      "[5, 25]\n",
      "[6, 36]\n",
      "[7, 49]\n",
      "[8, 64]\n",
      "[9, 81]\n"
     ]
    }
   ],
   "source": [
    "c = [0, 1, 4, 9, 16, 25, 36, 49, 64, 81]\n",
    "for i in range(len(c)):\n",
    "    print([i,c[i]])"
   ]
  },
  {
   "cell_type": "code",
   "execution_count": 375,
   "id": "4e7e16b9",
   "metadata": {},
   "outputs": [
    {
     "name": "stdout",
     "output_type": "stream",
     "text": [
      "before function\n",
      "this is scret key 987yghjkmnbvty \n",
      "after function\n"
     ]
    }
   ],
   "source": [
    "def beforeafter(func):\n",
    "    def wrapper():\n",
    "        print('before function')\n",
    "        func()\n",
    "        print('after function')\n",
    "    return wrapper()\n",
    "@beforeafter\n",
    "def info():\n",
    "    print('this is scret key 987yghjkmnbvty ')\n"
   ]
  },
  {
   "cell_type": "code",
   "execution_count": 385,
   "id": "92b7b51c",
   "metadata": {},
   "outputs": [
    {
     "name": "stdout",
     "output_type": "stream",
     "text": [
      "HELLO NARSIMHA hello narsimha\n"
     ]
    }
   ],
   "source": [
    "def whispergreet(func):\n",
    "    def wrapper(text):\n",
    "        r = func(text)\n",
    "        u = r.upper()\n",
    "        l = r.lower()\n",
    "        s = u +' '+ l\n",
    "        return s\n",
    "    return wrapper\n",
    "\n",
    "@whispergreet\n",
    "def hello(name):\n",
    "    return 'Hello ' + name\n",
    "\n",
    "nn = hello('NarsIMha')\n",
    "print(nn)\n",
    "\n",
    "\n",
    "        "
   ]
  },
  {
   "cell_type": "code",
   "execution_count": 390,
   "id": "2cbfe0ac",
   "metadata": {},
   "outputs": [
    {
     "name": "stdout",
     "output_type": "stream",
     "text": [
      "2\n",
      "3\n",
      "5\n",
      "7\n",
      "11\n",
      "13\n",
      "17\n",
      "19\n",
      "prime numbers between  2 and 20\n"
     ]
    }
   ],
   "source": [
    "def primenum(func):\n",
    "    def wrapper(l,u):\n",
    "        for num in range(l,u):\n",
    "            if num>1:\n",
    "                for i in range(2,num):\n",
    "                    if num%i==0:\n",
    "                        break\n",
    "                else:\n",
    "                    print(num)\n",
    "        return func(l,u)\n",
    "    return wrapper\n",
    "@primenum\n",
    "def nums(l,u):\n",
    "    print('prime numbers between ',l,'and',u)\n",
    "nums(2,20)\n"
   ]
  },
  {
   "cell_type": "code",
   "execution_count": 395,
   "id": "4c3f28c7",
   "metadata": {},
   "outputs": [
    {
     "data": {
      "text/plain": [
       "72"
      ]
     },
     "execution_count": 395,
     "metadata": {},
     "output_type": "execute_result"
    }
   ],
   "source": [
    "from functools import reduce\n",
    "nums=[1,2,3,4,6,7,4,9]\n",
    "even = list(filter(lambda x : x%2==0,nums))\n",
    "double = list(map(lambda y : y**2, even))\n",
    "sum = reduce(lambda a,b : a+b , double)\n",
    "sum"
   ]
  },
  {
   "cell_type": "code",
   "execution_count": 396,
   "id": "4264920f",
   "metadata": {},
   "outputs": [
    {
     "data": {
      "text/plain": [
       "['ALFRED', 'TABITHA', 'WILLIAM', 'ARLA']"
      ]
     },
     "execution_count": 396,
     "metadata": {},
     "output_type": "execute_result"
    }
   ],
   "source": [
    "persons = ['alfred', 'tabitha', 'william', 'arla']\n",
    "x=list(map(lambda x : x.upper(), persons))\n",
    "x"
   ]
  },
  {
   "cell_type": "code",
   "execution_count": 406,
   "id": "c6312920",
   "metadata": {},
   "outputs": [
    {
     "data": {
      "text/plain": [
       "'geekskeeg'"
      ]
     },
     "execution_count": 406,
     "metadata": {},
     "output_type": "execute_result"
    }
   ],
   "source": [
    "x=\"forgeekskeegfor\"\n",
    "c=[]\n",
    "for i in range(len(x)):\n",
    "    for j in range(i+1,len(x)):\n",
    "        y=x[i:j+1]\n",
    "        if y==y[::-1]:\n",
    "            c.append(y)\n",
    "long=''\n",
    "for i in c:\n",
    "    if len(i)>len(long):\n",
    "        long = i\n",
    "long"
   ]
  }
 ],
 "metadata": {
  "kernelspec": {
   "display_name": "Python 3 (ipykernel)",
   "language": "python",
   "name": "python3"
  },
  "language_info": {
   "codemirror_mode": {
    "name": "ipython",
    "version": 3
   },
   "file_extension": ".py",
   "mimetype": "text/x-python",
   "name": "python",
   "nbconvert_exporter": "python",
   "pygments_lexer": "ipython3",
   "version": "3.9.13"
  }
 },
 "nbformat": 4,
 "nbformat_minor": 5
}
