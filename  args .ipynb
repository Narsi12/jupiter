{
 "cells": [
  {
   "cell_type": "code",
   "execution_count": 7,
   "id": "cf70bd17",
   "metadata": {},
   "outputs": [
    {
     "data": {
      "text/plain": [
       "{'name': 'narsimha', 'age': '23', 'deg': 'Software'}"
      ]
     },
     "execution_count": 7,
     "metadata": {},
     "output_type": "execute_result"
    }
   ],
   "source": [
    "x=\"name:narsimha,age;23,deg:Software\"\n",
    "y=x.replace(';',':')\n",
    "z=y.split(',')\n",
    "k=[]\n",
    "v=[]\n",
    "for i in z:\n",
    "    key,value=i.split(':')\n",
    "    k.append(key)\n",
    "    v.append(value)\n",
    "a=dict(zip(k,v))\n",
    "a"
   ]
  },
  {
   "cell_type": "code",
   "execution_count": 18,
   "id": "9cfd2ebc",
   "metadata": {},
   "outputs": [
    {
     "name": "stdout",
     "output_type": "stream",
     "text": [
      "[{'name': 'vasu', 'id': '1'}, {'name': 'raju', 'id': '2'}, {'name': 'vasu', 'id': '3'}]\n"
     ]
    }
   ],
   "source": [
    "a='vasu:1,raju:2,vasu:3'\n",
    "b=a.split(',')\n",
    "c=[]\n",
    "for i in b:\n",
    "    k,v=i.split(':')\n",
    "    c.append({'name':k,'id':v})\n",
    "print(c)\n",
    "    "
   ]
  },
  {
   "cell_type": "code",
   "execution_count": 25,
   "id": "fa3ad351",
   "metadata": {},
   "outputs": [
    {
     "data": {
      "text/plain": [
       "{'amount': 25, 'deg': 15, 'id': 3, 'name': 'vasu'}"
      ]
     },
     "execution_count": 25,
     "metadata": {},
     "output_type": "execute_result"
    }
   ],
   "source": [
    "a={'name':'vasu','id':3,'deg':15,'amount':25}\n",
    "x=[]\n",
    "y=[]\n",
    "for i,j in a.items():\n",
    "    x.append(i)\n",
    "    y.append(j)\n",
    "b=x[::-1]\n",
    "c=y[::-1]\n",
    "z=dict(zip(b,c))\n",
    "z"
   ]
  },
  {
   "cell_type": "code",
   "execution_count": 34,
   "id": "b0e596c6",
   "metadata": {},
   "outputs": [
    {
     "name": "stdout",
     "output_type": "stream",
     "text": [
      "24\n"
     ]
    }
   ],
   "source": [
    "a={'name':'vasu','id':3,'deg':15,'amount':25} \n",
    "x=''\n",
    "y=''\n",
    "for i,j in a.items():\n",
    "    x=x+i\n",
    "    y=y+str(j)\n",
    "print(len(x)+len(y))"
   ]
  },
  {
   "cell_type": "code",
   "execution_count": 47,
   "id": "66390979",
   "metadata": {},
   "outputs": [
    {
     "name": "stdout",
     "output_type": "stream",
     "text": [
      "[{'name': 'ganesh', 'id': 2}, {'name': 'hari', 'id': 1}, {'name': 'simha', 'id': 2}, {'name': 'zee', 'id': 1}, {'name': 'zee', 'id': 1}]\n",
      "[{'name': 'ganesh', 'id': 2}, {'name': 'hari', 'id': 1}, {'name': 'simha', 'id': 2}, {'name': 'zee', 'id': 1}]\n"
     ]
    }
   ],
   "source": [
    "x=[{\"name\":\"hari\",\"id\":1},{\"name\":\"ganesh\",\"id\":2},{\"name\":\"simha\",\"id\":2},{\"name\":\"zee\",\"id\":1},{\"name\":\"zee\",\"id\":1}]\n",
    "for i in range(len(x)):\n",
    "    for j in range(i+i,len(x)):\n",
    "        if x[i]['name']>x[j]['name']:\n",
    "            x[i],x[j]=x[j],x[i]\n",
    "y=[]\n",
    "for i in x:\n",
    "    if i not in y:\n",
    "        y.append(i)\n",
    "print(x)\n",
    "print(y)"
   ]
  },
  {
   "cell_type": "code",
   "execution_count": 58,
   "id": "2c6468e6",
   "metadata": {},
   "outputs": [
    {
     "name": "stdout",
     "output_type": "stream",
     "text": [
      "S001\n",
      "S002\n",
      "S001\n",
      "S005\n",
      "S005\n",
      "S009\n",
      "S007\n"
     ]
    }
   ],
   "source": [
    "l = [{\"V\": \"S001\"}, {\"V\": \"S002\"}, {\"VI\": \"S001\"}, {\"VI\": \"S005\"}, {\"VII\": \"S005\"}, {\"V\": \"S009\"}, {\"VIII\": \"S007\"}]\n",
    "for i in l:\n",
    "    for j in i.values():\n",
    "        print(str(j))\n",
    " "
   ]
  },
  {
   "cell_type": "code",
   "execution_count": 64,
   "id": "7435f4ce",
   "metadata": {},
   "outputs": [
    {
     "name": "stdout",
     "output_type": "stream",
     "text": [
      "16\n"
     ]
    }
   ],
   "source": [
    "a={'name':'vasu', 'amount':40}\n",
    "c=''\n",
    "for i,j in a.items():\n",
    "    c=c+i+str(j)\n",
    "print(len(c))"
   ]
  },
  {
   "cell_type": "code",
   "execution_count": 65,
   "id": "d0a723c2",
   "metadata": {},
   "outputs": [
    {
     "data": {
      "text/plain": [
       "{'e': -2, 'd': 1, 'c': 2, 'b': 5, 'a': 3}"
      ]
     },
     "execution_count": 65,
     "metadata": {},
     "output_type": "execute_result"
    }
   ],
   "source": [
    "d={'a':3,'b':5,'c':2,'d':1,'e':-2}\n",
    "x=[]\n",
    "y=[]\n",
    "for i,j in d.items():\n",
    "    x.append(i)\n",
    "    y.append(j)\n",
    "a=x[::-1]\n",
    "b=y[::-1]\n",
    "z=dict(zip(a,b))\n",
    "z"
   ]
  },
  {
   "cell_type": "code",
   "execution_count": 74,
   "id": "551310f0",
   "metadata": {},
   "outputs": [
    {
     "name": "stdout",
     "output_type": "stream",
     "text": [
      "[{'name': 'AP', 'city': 3, 'citywithA': ['Amravathi', 'Anakala']}, {'name': 'MP', 'city': 3, 'citywithA': ['Abd', 'Ade']}]\n"
     ]
    }
   ],
   "source": [
    "a=[{\"name\":\"AP\",\"city\":[\"vizag\",\"Amravathi\",\"Anakala\",\"kur\",\"nandyala\"]},{\"name\":\"MP\",\"city\":[\"Abd\",\"cda\",\"Ade\",\"kur\",\"d\"]}]\n",
    "for i in a:\n",
    "    c=0\n",
    "    l=[]\n",
    "    for j in i['city']:\n",
    "        c=c+1\n",
    "        if j[0]=='A' or j[0]=='a':\n",
    "            l.append(j)\n",
    "            i['city']=c\n",
    "            i['citywithA']=l\n",
    "print(a)"
   ]
  },
  {
   "cell_type": "code",
   "execution_count": 84,
   "id": "ea832c46",
   "metadata": {},
   "outputs": [
    {
     "data": {
      "text/plain": [
       "[2]"
      ]
     },
     "execution_count": 84,
     "metadata": {},
     "output_type": "execute_result"
    }
   ],
   "source": [
    "x=[[1,2,3],[3,4,2],[4,6,2]]\n",
    "y=[]\n",
    "for i in x[0]:\n",
    "    for j in x[1]:\n",
    "        for k in x[2]:\n",
    "            if i==j and j==k:\n",
    "                y.append(k)\n",
    "y"
   ]
  },
  {
   "cell_type": "code",
   "execution_count": 86,
   "id": "659f9065",
   "metadata": {},
   "outputs": [
    {
     "name": "stdout",
     "output_type": "stream",
     "text": [
      "[2]\n"
     ]
    }
   ],
   "source": [
    "x = [[1,2,3],[3,4,2],[4,6,2]]\n",
    "c = []\n",
    "\n",
    "for k in x[0]:\n",
    "    count = 0\n",
    "    for i in range(1, len(x)):\n",
    "        if k in x[i]:\n",
    "            count += 1\n",
    "    if count == len(x) - 1:\n",
    "        c.append(k)\n",
    "\n",
    "print(c)\n"
   ]
  },
  {
   "cell_type": "code",
   "execution_count": 93,
   "id": "2cf473fb",
   "metadata": {},
   "outputs": [
    {
     "data": {
      "text/plain": [
       "[1, 2, 3, 4]"
      ]
     },
     "execution_count": 93,
     "metadata": {},
     "output_type": "execute_result"
    }
   ],
   "source": [
    "my_list = [[1,2,3],[1,2,3,],[1,2,3,4,]]\n",
    "x=[]\n",
    "for i in my_list:\n",
    "    for j in i:\n",
    "        if j not in x:\n",
    "            x.append(j)\n",
    "x"
   ]
  },
  {
   "cell_type": "code",
   "execution_count": 104,
   "id": "012542d8",
   "metadata": {},
   "outputs": [
    {
     "data": {
      "text/plain": [
       "['abhi', 'vagrahb', 'vamsi', 'raknahs', 'sai', 'iver', 'shiva', 'inum']"
      ]
     },
     "execution_count": 104,
     "metadata": {},
     "output_type": "execute_result"
    }
   ],
   "source": [
    "a='abhi bhargav vamsi shankar sai revi shiva muni'\n",
    "b=a.replace(' ',',')\n",
    "c=b.split(',')\n",
    "d=[]\n",
    "for i in range(len(c)):\n",
    "    if i%2==1:\n",
    "        e=c[i]\n",
    "        z=e[::-1]\n",
    "        d.append(z)\n",
    "    else:\n",
    "        d.append(c[i])\n",
    "\n",
    "d\n",
    "    \n",
    "        \n",
    "    "
   ]
  },
  {
   "cell_type": "code",
   "execution_count": 115,
   "id": "1836eed8",
   "metadata": {},
   "outputs": [
    {
     "name": "stdout",
     "output_type": "stream",
     "text": [
      "{'name': 'rajiv', 'age': '23'}\n"
     ]
    }
   ],
   "source": [
    "a=\"fb.com?name-rajiv-23?age\"\n",
    "b=a.split('?')\n",
    "c=a.split('?')[-1]#age\n",
    "nn=b[1]\n",
    "name1=nn.split('-')\n",
    "name=name1[0]#name\n",
    "r=name1[1]#rajiv\n",
    "age=name1[2]\n",
    "c1={}\n",
    "c1[name]=r\n",
    "c1[c]=age\n",
    "print(c1)"
   ]
  },
  {
   "cell_type": "code",
   "execution_count": 124,
   "id": "629d65f3",
   "metadata": {},
   "outputs": [
    {
     "data": {
      "text/plain": [
       "[(2, 1), (1, 2), (2, 3), (4, 4), (2, 5)]"
      ]
     },
     "execution_count": 124,
     "metadata": {},
     "output_type": "execute_result"
    }
   ],
   "source": [
    "l = [(2, 5), (1, 2), (4, 4), (2, 3), (2, 1)]\n",
    "b=[]\n",
    "for i in l:\n",
    "    b.append(i[1])\n",
    "x=sorted(b)\n",
    "d=[]\n",
    "for j in x:\n",
    "    for m in l:\n",
    "        if m[1]==j:\n",
    "            d.append(m)\n",
    "d"
   ]
  },
  {
   "cell_type": "code",
   "execution_count": 126,
   "id": "698302a9",
   "metadata": {},
   "outputs": [
    {
     "data": {
      "text/plain": [
       "['my', 'name', 'is', 'Narssimha']"
      ]
     },
     "execution_count": 126,
     "metadata": {},
     "output_type": "execute_result"
    }
   ],
   "source": [
    "x=['m','na','i','Nars']\n",
    "y=['y','me','s','simha']\n",
    "c=[]\n",
    "for i in x:\n",
    "    for j in y:\n",
    "        if x.index(i)==y.index(j):\n",
    "            c.append(i+j)\n",
    "c"
   ]
  },
  {
   "cell_type": "code",
   "execution_count": 1,
   "id": "20d433d1",
   "metadata": {},
   "outputs": [
    {
     "data": {
      "text/plain": [
       "2"
      ]
     },
     "execution_count": 1,
     "metadata": {},
     "output_type": "execute_result"
    }
   ],
   "source": [
    "l=['aba','xyz','abc','1221']\n",
    "c=0\n",
    "for i in l:\n",
    "    if i[0]==i[-1]:\n",
    "        c=c+1\n",
    "c"
   ]
  },
  {
   "cell_type": "code",
   "execution_count": null,
   "id": "30a80799",
   "metadata": {},
   "outputs": [],
   "source": [
    "* * * * *\n",
    "* *   * *\n",
    "*       *\n",
    "* *   * *\n",
    "* * * * *"
   ]
  },
  {
   "cell_type": "code",
   "execution_count": 22,
   "id": "c24a67d2",
   "metadata": {},
   "outputs": [
    {
     "name": "stdout",
     "output_type": "stream",
     "text": [
      "* * * * * \n",
      "* * * * \n",
      "* * * \n",
      "* * \n",
      "* \n"
     ]
    }
   ],
   "source": [
    "for i in range(5):\n",
    "    for j in range(i,n+1):\n",
    "        print(\"*\",end=' ')\n",
    "    print()"
   ]
  },
  {
   "cell_type": "code",
   "execution_count": 25,
   "id": "c01346c1",
   "metadata": {},
   "outputs": [
    {
     "name": "stdout",
     "output_type": "stream",
     "text": [
      "            * \n",
      "          * * \n",
      "        * * * \n",
      "      * * * * \n",
      "    * * * * * \n",
      "  * * * * * * \n"
     ]
    }
   ],
   "source": [
    "n=6\n",
    "for i in range(n):\n",
    "    for j in range(i,n):\n",
    "        print(\" \",end=\" \")\n",
    "    for j in range(i+1):\n",
    "        print(\"*\",end=' ')\n",
    "        \n",
    "    print()"
   ]
  },
  {
   "cell_type": "code",
   "execution_count": 30,
   "id": "2a45adac",
   "metadata": {},
   "outputs": [
    {
     "name": "stdout",
     "output_type": "stream",
     "text": [
      "  * * * * * * \n",
      "    * * * * * \n",
      "      * * * * \n",
      "        * * * \n",
      "          * * \n",
      "            * \n"
     ]
    }
   ],
   "source": [
    "n=6\n",
    "for i in range(n):\n",
    "    for j in range(i+1):\n",
    "        print(\" \",end=' ')\n",
    "    for j in range(i,n):\n",
    "        print('*',end=' ')\n",
    "    print()"
   ]
  },
  {
   "cell_type": "code",
   "execution_count": 38,
   "id": "a973298b",
   "metadata": {},
   "outputs": [
    {
     "name": "stdout",
     "output_type": "stream",
     "text": [
      "            * \n",
      "          * * * \n",
      "        * * * * * \n",
      "      * * * * * * * \n",
      "    * * * * * * * * * \n",
      "  * * * * * * * * * * * \n"
     ]
    }
   ],
   "source": [
    "n=6\n",
    "for i in range(n):\n",
    "    for j in range(i,n):\n",
    "        print(' ',end=' ')\n",
    "    for j in range(i):\n",
    "        print('*',end=' ')\n",
    "    for j in range(i+1):\n",
    "        print('*',end=' ')\n",
    "    print()"
   ]
  },
  {
   "cell_type": "code",
   "execution_count": 51,
   "id": "48364088",
   "metadata": {},
   "outputs": [
    {
     "name": "stdout",
     "output_type": "stream",
     "text": [
      "  * * * * * * * * * * * \n",
      "    * * * * * * * * * \n",
      "      * * * * * * * \n",
      "        * * * * * \n",
      "          * * * \n",
      "            * \n"
     ]
    }
   ],
   "source": [
    "n=6\n",
    "for i in range(n):\n",
    "    for j in range(i+1):\n",
    "        print(\" \",end=' ')\n",
    "    for j in range(i,n-1):\n",
    "        print('*',end=' ')\n",
    "    for j in range(i,n):\n",
    "        print('*',end=' ')\n",
    "    print()"
   ]
  },
  {
   "cell_type": "code",
   "execution_count": 61,
   "id": "977b848d",
   "metadata": {},
   "outputs": [
    {
     "name": "stdout",
     "output_type": "stream",
     "text": [
      "            * \n",
      "          * * * \n",
      "        * * * * * \n",
      "      * * * * * * * \n",
      "    * * * * * * * * * \n",
      "  * * * * * * * * * * * \n",
      "    * * * * * * * * * \n",
      "      * * * * * * * \n",
      "        * * * * * \n",
      "          * * * \n",
      "            * \n"
     ]
    }
   ],
   "source": [
    "n=6\n",
    "for i in range(n-1):\n",
    "    for j in range(i,n):\n",
    "        print(' ',end=' ')\n",
    "    for j in range(i):\n",
    "        print('*',end=' ')\n",
    "    for j in range(i+1):\n",
    "        print('*',end=' ')\n",
    "    print()\n",
    "for i in range(n):\n",
    "    for j in range(i+1):\n",
    "        print(' ',end=' ')\n",
    "    for j in range(i,n-1):\n",
    "        print('*',end=' ')\n",
    "    for j in range(i,n):\n",
    "        print('*',end=' ')\n",
    "    print()"
   ]
  },
  {
   "cell_type": "code",
   "execution_count": null,
   "id": "87d7bba7",
   "metadata": {},
   "outputs": [],
   "source": [
    "* * * * *\n",
    "* *   * *\n",
    "*       *\n",
    "* *   * *\n",
    "* * * * *"
   ]
  },
  {
   "cell_type": "code",
   "execution_count": 98,
   "id": "5640db85",
   "metadata": {},
   "outputs": [
    {
     "name": "stdout",
     "output_type": "stream",
     "text": [
      "* * * * * * * * * * \n",
      "* * * *    * * * * \n",
      "* * *       * * * \n",
      "* *          * * \n",
      "*             * \n"
     ]
    }
   ],
   "source": [
    "n=5\n",
    "for i in range(n):\n",
    "    for j in range(i,n):\n",
    "        print(\"*\",end=' ')\n",
    "    for j in range(i):\n",
    "        print(' ',end='')\n",
    "    for j in range(i):\n",
    "        print(' ',end=' ')\n",
    "    for j in range(i,n):\n",
    "        print('*',end=' ')\n",
    "        \n",
    "    print()\n",
    "    "
   ]
  },
  {
   "cell_type": "code",
   "execution_count": 99,
   "id": "c079747e",
   "metadata": {},
   "outputs": [
    {
     "name": "stdout",
     "output_type": "stream",
     "text": [
      "* * * * * *   \n",
      "* * * * *       \n",
      "* * * *           \n",
      "* * *               \n",
      "* *                   \n"
     ]
    }
   ],
   "source": [
    "n = 6\n",
    "for i in range(n):\n",
    "    for j in range(i):\n",
    "        print(\"*\", end=\" \")\n",
    "    for j in range(2*(n-i)):\n",
    "        print(\" \", end=\" \")\n",
    "    for j in range(i, 0, -1):\n",
    "        print(\"*\", end=\" \")\n",
    "    print()\n",
    "for i in range(n):\n",
    "    for j in range(0, i+1):\n",
    "        print(\"*\", end=\" \")\n",
    "    for j in range(2*(n-i-1)):\n",
    "        print(\" \", end=\" \")\n",
    "    for j in range(i+1):\n",
    "        print(\"*\", end=\" \")\n",
    "    print()"
   ]
  },
  {
   "cell_type": "code",
   "execution_count": 4,
   "id": "6b9135b3",
   "metadata": {},
   "outputs": [
    {
     "name": "stdout",
     "output_type": "stream",
     "text": [
      "[{'name': 'abhi', 'age': 23, 'sal': 20000}, {'name': 'ravi', 'age': 23, 'sal': 19000}, {'name': 'shiva', 'age': 24, 'sal': 18000}, {'name': 'vamsi', 'age': 26, 'sal': 21000}]\n"
     ]
    }
   ],
   "source": [
    "l=[{'name':'abhi','age':23,'sal':20000},{'name':'vamsi','age':26,'sal':21000},{'name':'ravi','age':23,'sal':19000},{'name':'shiva','age':24,'sal':18000}]\n",
    "for i in range(len(l)):\n",
    "    for j in range(i+1,len(l)):\n",
    "        if l[i]['age']>l[j]['age']:\n",
    "            l[i],l[j]=l[j],l[i]\n",
    "print(l)"
   ]
  },
  {
   "cell_type": "code",
   "execution_count": 25,
   "id": "037690e8",
   "metadata": {},
   "outputs": [
    {
     "name": "stdout",
     "output_type": "stream",
     "text": [
      "{'states': ['andhra', 'telangana'], 'cities': ['nellore', 'guntur', 'Hyd', 'varangal']}\n"
     ]
    }
   ],
   "source": [
    "a=[{ 'name': 'andhra', 'city': ['nellore', 'guntur'] }, { 'name': 'telangana', 'city': ['Hyd', 'varangal'] }]\n",
    "#  output: {states:['andhra','telangana'],cities:[{name:'nellore',state:'andhra'},{name:'guntur',state:'andhra'}]}\n",
    "states=[]\n",
    "for i in a:\n",
    "    states.append(i['name'])\n",
    "cities=[]\n",
    "for i in a:   \n",
    "    for j in i['city']:\n",
    "        cities.append(j)\n",
    "s={}\n",
    "s['states']=states\n",
    "s['cities']=cities\n",
    "\n",
    "    \n",
    "    "
   ]
  },
  {
   "cell_type": "code",
   "execution_count": 29,
   "id": "405906cd",
   "metadata": {},
   "outputs": [
    {
     "ename": "TypeError",
     "evalue": "object of type 'int' has no len()",
     "output_type": "error",
     "traceback": [
      "\u001b[1;31m---------------------------------------------------------------------------\u001b[0m",
      "\u001b[1;31mTypeError\u001b[0m                                 Traceback (most recent call last)",
      "\u001b[1;32m~\\AppData\\Local\\Temp\\ipykernel_19532\\2387752390.py\u001b[0m in \u001b[0;36m<module>\u001b[1;34m\u001b[0m\n\u001b[0;32m      2\u001b[0m \u001b[1;31m# {'e': -2, 'd': 1, 'c': 2, 'a': 3, 'b': 5}\u001b[0m\u001b[1;33m\u001b[0m\u001b[1;33m\u001b[0m\u001b[0m\n\u001b[0;32m      3\u001b[0m \u001b[1;32mfor\u001b[0m \u001b[0mj\u001b[0m\u001b[1;33m,\u001b[0m\u001b[0mi\u001b[0m \u001b[1;32min\u001b[0m \u001b[0md\u001b[0m\u001b[1;33m.\u001b[0m\u001b[0mitems\u001b[0m\u001b[1;33m(\u001b[0m\u001b[1;33m)\u001b[0m\u001b[1;33m:\u001b[0m\u001b[1;33m\u001b[0m\u001b[1;33m\u001b[0m\u001b[0m\n\u001b[1;32m----> 4\u001b[1;33m     \u001b[1;32mfor\u001b[0m \u001b[0mj\u001b[0m \u001b[1;32min\u001b[0m \u001b[0mrange\u001b[0m\u001b[1;33m(\u001b[0m\u001b[0mi\u001b[0m\u001b[1;33m+\u001b[0m\u001b[1;36m1\u001b[0m\u001b[1;33m,\u001b[0m\u001b[0mlen\u001b[0m\u001b[1;33m(\u001b[0m\u001b[0mi\u001b[0m\u001b[1;33m)\u001b[0m\u001b[1;33m)\u001b[0m\u001b[1;33m:\u001b[0m\u001b[1;33m\u001b[0m\u001b[1;33m\u001b[0m\u001b[0m\n\u001b[0m\u001b[0;32m      5\u001b[0m         \u001b[0mprint\u001b[0m\u001b[1;33m(\u001b[0m\u001b[0mj\u001b[0m\u001b[1;33m)\u001b[0m\u001b[1;33m\u001b[0m\u001b[1;33m\u001b[0m\u001b[0m\n\u001b[0;32m      6\u001b[0m \u001b[1;33m\u001b[0m\u001b[0m\n",
      "\u001b[1;31mTypeError\u001b[0m: object of type 'int' has no len()"
     ]
    }
   ],
   "source": [
    "d={'a':3,'b':5,'c':2,'d':1,'e':-2}\n",
    "# {'e': -2, 'd': 1, 'c': 2, 'a': 3, 'b': 5}\n",
    "for j,i in d.items():\n",
    "    for j in range(i+1,len(i)):\n",
    "        \n",
    "    "
   ]
  },
  {
   "cell_type": "code",
   "execution_count": 48,
   "id": "ab72b73c",
   "metadata": {},
   "outputs": [
    {
     "name": "stdout",
     "output_type": "stream",
     "text": [
      "<class 'dict'>\n"
     ]
    }
   ],
   "source": [
    "x={'v1':200,'v2':800,'v3':500,'v4':9876543}\n",
    "d=max(x.values())\n",
    "for i,j in x.items():\n",
    "    if j==d:\n",
    "        a={i:j}\n",
    "        print(type(a))"
   ]
  },
  {
   "cell_type": "code",
   "execution_count": null,
   "id": "43ffefcb",
   "metadata": {},
   "outputs": [],
   "source": [
    "myList = [12, 23, 4, 5, 3, 2, 12, 81, 56, 95]\n",
    "Exchange last two indexs positions o/p: myList = [12, 23, 4, 5, 3, 2, 12, 81, 95, 56]"
   ]
  },
  {
   "cell_type": "code",
   "execution_count": 75,
   "id": "7a040f15",
   "metadata": {},
   "outputs": [
    {
     "name": "stdout",
     "output_type": "stream",
     "text": [
      "[12, 23, 4, 5, 3, 2, 12, 81, 95, 56]\n"
     ]
    }
   ],
   "source": [
    "x= [12, 23, 4, 5, 3, 2, 12, 81, 56, 95]\n",
    "x[-1],x[-2]=x[-2],x[-1]\n",
    "print(x)"
   ]
  },
  {
   "cell_type": "code",
   "execution_count": null,
   "id": "5b8cc52e",
   "metadata": {},
   "outputs": [],
   "source": [
    "c = [0, 1, 4, 9, 16, 25, 36, 49, 64, 81]\n",
    "using this list and print below format using list comprehensive\n",
    "[[0, 0], [1, 1], [2, 4], [3, 9], [4, 16], [5, 25], [6, 36], [7, 49], [8, 64], [9, 81]]"
   ]
  },
  {
   "cell_type": "code",
   "execution_count": 93,
   "id": "e121d13d",
   "metadata": {},
   "outputs": [
    {
     "name": "stdout",
     "output_type": "stream",
     "text": [
      "0 0\n",
      "1 1\n",
      "2 4\n",
      "3 9\n",
      "4 16\n",
      "5 25\n",
      "6 36\n",
      "7 49\n",
      "8 64\n",
      "9 81\n",
      "[(0, 0), (1, 1), (2, 4), (3, 9), (4, 16), (5, 25), (6, 36), (7, 49), (8, 64), (9, 81)]\n"
     ]
    }
   ],
   "source": [
    "c = [0, 1, 4, 9, 16, 25, 36, 49, 64, 81]\n",
    "for i in range(len(c)):\n",
    "    k=i**2\n",
    "    print(i,k)\n",
    "d=[(i, i**2) for i in range(len(c))]\n",
    "print(d)\n"
   ]
  },
  {
   "cell_type": "code",
   "execution_count": null,
   "id": "ee3eb398",
   "metadata": {},
   "outputs": [],
   "source": [
    "l1=[2,4,6,8,10,12,14,16,18,20]\n",
    "    l2=[3,6,9,12,15,18,21,24,27,30]\n",
    "    remove duplicates in above two list"
   ]
  },
  {
   "cell_type": "code",
   "execution_count": 96,
   "id": "ee1af142",
   "metadata": {},
   "outputs": [
    {
     "data": {
      "text/plain": [
       "[2, 4, 8, 10, 14, 16, 20]"
      ]
     },
     "execution_count": 96,
     "metadata": {},
     "output_type": "execute_result"
    }
   ],
   "source": [
    "l1=[2,4,6,8,10,12,14,16,18,20]\n",
    "l2=[3,6,9,12,15,18,21,24,27,30]\n",
    "l3=[]\n",
    "for i in l1:\n",
    "    for j in l2:\n",
    "        if i==j:\n",
    "            break\n",
    "    else:\n",
    "        l3.append(i)\n",
    "l3\n",
    "        "
   ]
  },
  {
   "cell_type": "code",
   "execution_count": 99,
   "id": "023371e8",
   "metadata": {},
   "outputs": [
    {
     "name": "stdout",
     "output_type": "stream",
     "text": [
      "[12, 23, 4, 5, 3, 12, 2, 81, 56, 95]\n"
     ]
    }
   ],
   "source": [
    "x= [12, 23, 4, 5, 3, 2, 12, 81, 56, 95]\n",
    "y=len(x)\n",
    "d=y//2\n",
    "x[5],x[6]=x[6],x[5]\n",
    "print(x)"
   ]
  },
  {
   "cell_type": "code",
   "execution_count": 101,
   "id": "51ce7018",
   "metadata": {},
   "outputs": [
    {
     "data": {
      "text/plain": [
       "[12, 23, 4, 5, 2, 3, 12, 81, 56, 95]"
      ]
     },
     "execution_count": 101,
     "metadata": {},
     "output_type": "execute_result"
    }
   ],
   "source": [
    "x= [12, 23, 4, 5, 3, 2, 12, 81, 56, 95]\n",
    "middle = (len(x))//2\n",
    "nextmiddle = middle-1\n",
    "x[middle],x[nextmiddle]=x[nextmiddle],x[middle]\n",
    "print(x)"
   ]
  },
  {
   "cell_type": "code",
   "execution_count": 110,
   "id": "f762a9b0",
   "metadata": {},
   "outputs": [
    {
     "name": "stdout",
     "output_type": "stream",
     "text": [
      "[12, 23, 4, 5, 2, 3, 12, 81, 56, 95]\n"
     ]
    }
   ],
   "source": [
    "x= [12, 23, 4, 5, 3, 2, 12, 81, 56, 95]\n",
    "c=len(x)//2\n",
    "for i in range(len(x)):\n",
    "    if i==c:\n",
    "        x[i],x[i-1]=x[i-1],x[i]\n",
    "        print(x)"
   ]
  },
  {
   "cell_type": "code",
   "execution_count": null,
   "id": "6c3d4238",
   "metadata": {},
   "outputs": [],
   "source": [
    " "
   ]
  },
  {
   "cell_type": "code",
   "execution_count": 12,
   "id": "9cd0e9f1",
   "metadata": {},
   "outputs": [
    {
     "name": "stdout",
     "output_type": "stream",
     "text": [
      "\n",
      "Student ID: SV12\n",
      "Student Name: $ Jean Garner\n",
      "\n",
      "Student Name: $ Jean Garner\n",
      "Student Class: $ V\n"
     ]
    }
   ],
   "source": [
    "def student_data(student_id, **kwargs):\n",
    "    print(f'\\nStudent ID: {student_id}')\n",
    "    if 'student_name' in kwargs:\n",
    "        print(f\"Student Name: $ {kwargs['student_name']}\")\n",
    "    \n",
    "    if 'student_name' and 'student_class' in kwargs:\n",
    "            print(f\"\\nStudent Name: $ {kwargs['student_name']}\")\n",
    "            print(f\"Student Class: $ {kwargs['student_class']}\")\n",
    "\n",
    " \n",
    "student_data(student_id='SV12', student_name='Jean Garner')\n",
    "\n",
    "student_data(student_id='SV12', student_name='Jean Garner', student_class ='V')"
   ]
  },
  {
   "cell_type": "code",
   "execution_count": 14,
   "id": "c1a79e3e",
   "metadata": {},
   "outputs": [
    {
     "name": "stdout",
     "output_type": "stream",
     "text": [
      "before function \n",
      "this is the 098765ty89 screat key\n",
      "after function information\n"
     ]
    }
   ],
   "source": [
    "def wordbeforeafter(func):\n",
    "    def wrapper():\n",
    "        print('before function ')\n",
    "        func()\n",
    "        print('after function information')\n",
    "    return wrapper\n",
    "@wordbeforeafter\n",
    "def myinfo():\n",
    "    print('this is the 098765ty89 screat key')\n",
    "myinfo()"
   ]
  },
  {
   "cell_type": "code",
   "execution_count": 27,
   "id": "664db4c1",
   "metadata": {},
   "outputs": [
    {
     "name": "stdout",
     "output_type": "stream",
     "text": [
      "hello namaste narsimha\n",
      "hello namaste narsimha\n"
     ]
    }
   ],
   "source": [
    "def wisper(func):\n",
    "    def wrapper(text):\n",
    "        res=func(text)\n",
    "        lower=res.lower()\n",
    "        upper=res.upper()\n",
    "        return lower \n",
    "    return wrapper\n",
    "@wisper\n",
    "def greet(name):\n",
    "    return f'hello namasTe {name}'\n",
    "r=greet('NarsImha')\n",
    "lower=r\n",
    "upper=r\n",
    "print(lower)\n",
    "print(upper)"
   ]
  },
  {
   "cell_type": "code",
   "execution_count": 28,
   "id": "f3848964",
   "metadata": {},
   "outputs": [
    {
     "name": "stdout",
     "output_type": "stream",
     "text": [
      "Prime numbers between 1 and 20:\n",
      "1 2 3 5 7 11 13 17 19 \n",
      "\n",
      "My function called with arguments: 1 and 20\n"
     ]
    }
   ],
   "source": [
    "def display_primes(func):\n",
    "    def wrapper(start, end):\n",
    "        print(f\"Prime numbers between {start} and {end}:\")\n",
    "        for num in range(start, end+1):\n",
    "            if all(num%i!=0 for i in range(2, int(num**0.5)+1)):\n",
    "                print(num, end=' ')\n",
    "        print(\"\\n\")\n",
    "        return func(start, end)\n",
    "    return wrapper\n",
    "@display_primes\n",
    "def my_function(start, end):\n",
    "    print(f\"My function called with arguments: {start} and {end}\")\n",
    "\n",
    "# Call the decorated function with an input\n",
    "my_function(1, 20)\n"
   ]
  },
  {
   "cell_type": "code",
   "execution_count": 2,
   "id": "a2395b9f",
   "metadata": {},
   "outputs": [
    {
     "name": "stdout",
     "output_type": "stream",
     "text": [
      "prime numbers between 1 and 10\n",
      "2\n",
      "3\n",
      "5\n",
      "7\n",
      "9\n",
      "my function is called with : 1 and 10\n"
     ]
    }
   ],
   "source": [
    "def primeinfo(func):\n",
    "    def wrapper(l,u):\n",
    "        print(f'prime numbers between {l} and {u}')\n",
    "        for num in range(l,u):\n",
    "            if num>1:\n",
    "                for i in range(2,num):\n",
    "                    if num%2==0:\n",
    "                        break\n",
    "                else:\n",
    "                    print(num)\n",
    "        return func(l,u)\n",
    "    return wrapper\n",
    "\n",
    "@primeinfo\n",
    "def betWeen(l,u):\n",
    "    print(f'my function is called with : {l} and {u}')\n",
    "betWeen(1,10)"
   ]
  },
  {
   "cell_type": "code",
   "execution_count": 41,
   "id": "16e38d75",
   "metadata": {},
   "outputs": [
    {
     "name": "stdout",
     "output_type": "stream",
     "text": [
      "enter : 2\n",
      "Thank you for entering your age.\n"
     ]
    }
   ],
   "source": [
    "def age_check(age):\n",
    "    while True:\n",
    "        ok=int(input('enter : '))\n",
    "        if age >= 18:\n",
    "            print(\"You must be at least 18 years old.\")\n",
    "        else:\n",
    "            print(\"Thank you for entering your age.\")\n",
    "            break\n",
    "ok=age\n",
    "age_check(ok)"
   ]
  },
  {
   "cell_type": "code",
   "execution_count": 49,
   "id": "b30490ac",
   "metadata": {},
   "outputs": [
    {
     "name": "stdout",
     "output_type": "stream",
     "text": [
      "enter age : 19\n",
      "YES\n"
     ]
    }
   ],
   "source": [
    "while True:\n",
    "    x=int(input('enter age : '))\n",
    "    if x < 18:\n",
    "        print('NO')\n",
    "    else:\n",
    "        print('YES')\n",
    "        break"
   ]
  },
  {
   "cell_type": "code",
   "execution_count": 67,
   "id": "fc5b8dd9",
   "metadata": {},
   "outputs": [
    {
     "name": "stdout",
     "output_type": "stream",
     "text": [
      "20\n",
      "90\n",
      "76\n"
     ]
    }
   ],
   "source": [
    "def name(**data):\n",
    "    ss=[]\n",
    "    for i,j in data.items():\n",
    "        print(j)\n",
    "\n",
    "name(v1=20,v2=90,v5=76)"
   ]
  },
  {
   "cell_type": "code",
   "execution_count": 75,
   "id": "128ec8c1",
   "metadata": {},
   "outputs": [
    {
     "ename": "AttributeError",
     "evalue": "module 'time' has no attribute 'now'",
     "output_type": "error",
     "traceback": [
      "\u001b[1;31m---------------------------------------------------------------------------\u001b[0m",
      "\u001b[1;31mAttributeError\u001b[0m                            Traceback (most recent call last)",
      "\u001b[1;32m~\\AppData\\Local\\Temp\\ipykernel_4020\\283446253.py\u001b[0m in \u001b[0;36m<module>\u001b[1;34m\u001b[0m\n\u001b[0;32m      2\u001b[0m \u001b[1;32mimport\u001b[0m \u001b[0mtime\u001b[0m\u001b[1;33m\u001b[0m\u001b[1;33m\u001b[0m\u001b[0m\n\u001b[0;32m      3\u001b[0m \u001b[0mtoday\u001b[0m \u001b[1;33m=\u001b[0m \u001b[0mdate\u001b[0m\u001b[1;33m.\u001b[0m\u001b[0mtoday\u001b[0m\u001b[1;33m(\u001b[0m\u001b[1;33m)\u001b[0m\u001b[1;33m\u001b[0m\u001b[1;33m\u001b[0m\u001b[0m\n\u001b[1;32m----> 4\u001b[1;33m \u001b[0mcurr\u001b[0m \u001b[1;33m=\u001b[0m \u001b[0mtime\u001b[0m\u001b[1;33m.\u001b[0m\u001b[0mnow\u001b[0m\u001b[1;33m(\u001b[0m\u001b[1;33m)\u001b[0m\u001b[1;33m\u001b[0m\u001b[1;33m\u001b[0m\u001b[0m\n\u001b[0m\u001b[0;32m      5\u001b[0m \u001b[0mprint\u001b[0m\u001b[1;33m(\u001b[0m\u001b[0mcurr\u001b[0m\u001b[1;33m)\u001b[0m\u001b[1;33m\u001b[0m\u001b[1;33m\u001b[0m\u001b[0m\n\u001b[0;32m      6\u001b[0m \u001b[0mprint\u001b[0m\u001b[1;33m(\u001b[0m\u001b[0mtoday\u001b[0m\u001b[1;33m)\u001b[0m\u001b[1;33m\u001b[0m\u001b[1;33m\u001b[0m\u001b[0m\n",
      "\u001b[1;31mAttributeError\u001b[0m: module 'time' has no attribute 'now'"
     ]
    }
   ],
   "source": [
    "from datetime import date\n",
    "import time\n",
    "today = date.today()\n",
    "curr = time.now()\n",
    "print(curr)\n",
    "print(today)"
   ]
  },
  {
   "cell_type": "code",
   "execution_count": 1,
   "id": "1b215e28",
   "metadata": {},
   "outputs": [
    {
     "name": "stdout",
     "output_type": "stream",
     "text": [
      "Collecting pyautogui\n",
      "  Downloading PyAutoGUI-0.9.54.tar.gz (61 kB)\n",
      "     ---------------------------------------- 61.2/61.2 kB 1.6 MB/s eta 0:00:00\n",
      "  Installing build dependencies: started\n",
      "  Installing build dependencies: finished with status 'done'\n",
      "  Getting requirements to build wheel: started\n",
      "  Getting requirements to build wheel: finished with status 'done'\n",
      "  Preparing metadata (pyproject.toml): started\n",
      "  Preparing metadata (pyproject.toml): finished with status 'done'\n",
      "Requirement already satisfied: pywin32 in c:\\users\\narsimhac\\anaconda3\\lib\\site-packages (302)\n",
      "Collecting pytweening>=1.0.4\n",
      "  Downloading pytweening-1.0.7.tar.gz (168 kB)\n",
      "     -------------------------------------- 168.2/168.2 kB 1.3 MB/s eta 0:00:00\n",
      "  Preparing metadata (setup.py): started\n",
      "  Preparing metadata (setup.py): finished with status 'done'\n",
      "Collecting mouseinfo\n",
      "  Using cached MouseInfo-0.1.3.tar.gz (10 kB)\n",
      "  Preparing metadata (setup.py): started\n",
      "  Preparing metadata (setup.py): finished with status 'done'\n",
      "Collecting pygetwindow>=0.0.5\n",
      "  Using cached PyGetWindow-0.0.9.tar.gz (9.7 kB)\n",
      "  Preparing metadata (setup.py): started\n",
      "  Preparing metadata (setup.py): finished with status 'done'\n",
      "Collecting pymsgbox\n",
      "  Using cached PyMsgBox-1.0.9.tar.gz (18 kB)\n",
      "  Installing build dependencies: started\n",
      "  Installing build dependencies: finished with status 'done'\n",
      "  Getting requirements to build wheel: started\n",
      "  Getting requirements to build wheel: finished with status 'done'\n",
      "  Preparing metadata (pyproject.toml): started\n",
      "  Preparing metadata (pyproject.toml): finished with status 'done'\n",
      "Collecting pyscreeze>=0.1.21\n",
      "  Downloading PyScreeze-0.1.29.tar.gz (25 kB)\n",
      "  Installing build dependencies: started\n",
      "  Installing build dependencies: finished with status 'done'\n",
      "  Getting requirements to build wheel: started\n",
      "  Getting requirements to build wheel: finished with status 'done'\n",
      "  Preparing metadata (pyproject.toml): started\n",
      "  Preparing metadata (pyproject.toml): finished with status 'done'\n",
      "Collecting pyrect\n",
      "  Using cached PyRect-0.2.0.tar.gz (17 kB)\n",
      "  Preparing metadata (setup.py): started\n",
      "  Preparing metadata (setup.py): finished with status 'done'\n",
      "Collecting pyscreenshot\n",
      "  Downloading pyscreenshot-3.1-py3-none-any.whl (28 kB)\n",
      "Requirement already satisfied: Pillow>=9.2.0 in c:\\users\\narsimhac\\anaconda3\\lib\\site-packages (from pyscreeze>=0.1.21->pyautogui) (9.2.0)\n",
      "Collecting pyperclip\n",
      "  Using cached pyperclip-1.8.2.tar.gz (20 kB)\n",
      "  Preparing metadata (setup.py): started\n",
      "  Preparing metadata (setup.py): finished with status 'done'\n",
      "Collecting mss\n",
      "  Downloading mss-9.0.1-py3-none-any.whl (22 kB)\n",
      "Collecting EasyProcess\n",
      "  Downloading EasyProcess-1.1-py3-none-any.whl (8.7 kB)\n",
      "Collecting entrypoint2\n",
      "  Downloading entrypoint2-1.1-py2.py3-none-any.whl (9.9 kB)\n",
      "Building wheels for collected packages: pyautogui, pygetwindow, pyscreeze, pytweening, mouseinfo, pymsgbox, pyperclip, pyrect\n",
      "  Building wheel for pyautogui (pyproject.toml): started\n",
      "  Building wheel for pyautogui (pyproject.toml): finished with status 'done'\n",
      "  Created wheel for pyautogui: filename=PyAutoGUI-0.9.54-py3-none-any.whl size=37600 sha256=6ae36a5deb3c631a00e3b3c4c96b98391c52646866647f295530eab64281df8f\n",
      "  Stored in directory: c:\\users\\narsimhac\\appdata\\local\\pip\\cache\\wheels\\29\\2b\\5f\\9df8525a15d14d1a3ba04fe66e5bd3d2dc8ca7f5fb2ab2ec50\n",
      "  Building wheel for pygetwindow (setup.py): started\n",
      "  Building wheel for pygetwindow (setup.py): finished with status 'done'\n",
      "  Created wheel for pygetwindow: filename=PyGetWindow-0.0.9-py3-none-any.whl size=11063 sha256=418e1123c72688776beb6f54944c15d532ce9ed373db0cecd8c32c727fedf71b\n",
      "  Stored in directory: c:\\users\\narsimhac\\appdata\\local\\pip\\cache\\wheels\\44\\ab\\20\\423c3a444793767e4e41f8377bc902f77bee212e68dcce85a5\n",
      "  Building wheel for pyscreeze (pyproject.toml): started\n",
      "  Building wheel for pyscreeze (pyproject.toml): finished with status 'done'\n",
      "  Created wheel for pyscreeze: filename=PyScreeze-0.1.29-py3-none-any.whl size=13483 sha256=7e57fcc73338297427f5d38a925c903de1feba2af3161cefcc1bdf2353a2d185\n",
      "  Stored in directory: c:\\users\\narsimhac\\appdata\\local\\pip\\cache\\wheels\\ed\\f7\\a9\\cbb6e0cc3bcec306b5778375f69ccd0ac53f4061f28a487e3b\n",
      "  Building wheel for pytweening (setup.py): started\n",
      "  Building wheel for pytweening (setup.py): finished with status 'done'\n",
      "  Created wheel for pytweening: filename=pytweening-1.0.7-py3-none-any.whl size=6198 sha256=da166a412ea2e6de50693fe055e5ea4c7729c5e3d0ec306c0ef1797c72c73a54\n",
      "  Stored in directory: c:\\users\\narsimhac\\appdata\\local\\pip\\cache\\wheels\\d1\\d6\\29\\c2adb2c73f3e9ac2486786fe1f16e8036bd062205303e1ed6a\n",
      "  Building wheel for mouseinfo (setup.py): started\n",
      "  Building wheel for mouseinfo (setup.py): finished with status 'done'\n",
      "  Created wheel for mouseinfo: filename=MouseInfo-0.1.3-py3-none-any.whl size=10891 sha256=69d03d354b6c2e8cf55fc44cfecdcb831d35f1fd89aa485cf2af67b129fa429d\n",
      "  Stored in directory: c:\\users\\narsimhac\\appdata\\local\\pip\\cache\\wheels\\61\\73\\b9\\6fb1131ab36e650206e3aa0ad7a68907b41b32ac2d4f75f543\n",
      "  Building wheel for pymsgbox (pyproject.toml): started\n",
      "  Building wheel for pymsgbox (pyproject.toml): finished with status 'done'\n",
      "  Created wheel for pymsgbox: filename=PyMsgBox-1.0.9-py3-none-any.whl size=7417 sha256=0182e7702ec597d8760a964d1336fa4d58f1ff6e941f238ef23a2bb8269aa84f\n",
      "  Stored in directory: c:\\users\\narsimhac\\appdata\\local\\pip\\cache\\wheels\\7f\\13\\8c\\584c519464297d9637f9cd29fd1dcdf55e2a2cab225c76a2db\n",
      "  Building wheel for pyperclip (setup.py): started\n",
      "  Building wheel for pyperclip (setup.py): finished with status 'done'\n",
      "  Created wheel for pyperclip: filename=pyperclip-1.8.2-py3-none-any.whl size=11123 sha256=793f38c0137a33ded3373eff52b26c2afe323c7cf4def58ca9c7c74fae653785\n",
      "  Stored in directory: c:\\users\\narsimhac\\appdata\\local\\pip\\cache\\wheels\\0c\\09\\9e\\49e21a6840ef7955b06d47394afef0058f0378c0914e48b8b8\n",
      "  Building wheel for pyrect (setup.py): started\n",
      "  Building wheel for pyrect (setup.py): finished with status 'done'\n",
      "  Created wheel for pyrect: filename=PyRect-0.2.0-py2.py3-none-any.whl size=11179 sha256=e258715fabe1a9e7738c1c15ec3a3efa7e937e71ae08c291d2607c2910e22328\n",
      "  Stored in directory: c:\\users\\narsimhac\\appdata\\local\\pip\\cache\\wheels\\25\\80\\fa\\27bb4a1c2e21f64ec71390489d52e57b7cc8afbe79bd595c5e\n",
      "Successfully built pyautogui pygetwindow pyscreeze pytweening mouseinfo pymsgbox pyperclip pyrect\n",
      "Installing collected packages: pytweening, pyrect, pyperclip, pymsgbox, entrypoint2, EasyProcess, pygetwindow, mss, mouseinfo, pyscreenshot, pyscreeze, pyautogui\n",
      "Successfully installed EasyProcess-1.1 entrypoint2-1.1 mouseinfo-0.1.3 mss-9.0.1 pyautogui-0.9.54 pygetwindow-0.0.9 pymsgbox-1.0.9 pyperclip-1.8.2 pyrect-0.2.0 pyscreenshot-3.1 pyscreeze-0.1.29 pytweening-1.0.7\n"
     ]
    }
   ],
   "source": [
    "! pip install pyautogui pywin32\n"
   ]
  },
  {
   "cell_type": "code",
   "execution_count": null,
   "id": "23133fac",
   "metadata": {},
   "outputs": [],
   "source": []
  },
  {
   "cell_type": "code",
   "execution_count": 5,
   "id": "5b78a158",
   "metadata": {},
   "outputs": [
    {
     "ename": "com_error",
     "evalue": "(-2147221005, 'Invalid class string', None, None)",
     "output_type": "error",
     "traceback": [
      "\u001b[1;31m---------------------------------------------------------------------------\u001b[0m",
      "\u001b[1;31mcom_error\u001b[0m                                 Traceback (most recent call last)",
      "\u001b[1;32m~\\Anaconda3\\lib\\site-packages\\win32com\\client\\dynamic.py\u001b[0m in \u001b[0;36m_GetGoodDispatch\u001b[1;34m(IDispatch, clsctx)\u001b[0m\n\u001b[0;32m     85\u001b[0m         \u001b[1;32mtry\u001b[0m\u001b[1;33m:\u001b[0m\u001b[1;33m\u001b[0m\u001b[1;33m\u001b[0m\u001b[0m\n\u001b[1;32m---> 86\u001b[1;33m             \u001b[0mIDispatch\u001b[0m \u001b[1;33m=\u001b[0m \u001b[0mpythoncom\u001b[0m\u001b[1;33m.\u001b[0m\u001b[0mconnect\u001b[0m\u001b[1;33m(\u001b[0m\u001b[0mIDispatch\u001b[0m\u001b[1;33m)\u001b[0m\u001b[1;33m\u001b[0m\u001b[1;33m\u001b[0m\u001b[0m\n\u001b[0m\u001b[0;32m     87\u001b[0m         \u001b[1;32mexcept\u001b[0m \u001b[0mpythoncom\u001b[0m\u001b[1;33m.\u001b[0m\u001b[0mole_error\u001b[0m\u001b[1;33m:\u001b[0m\u001b[1;33m\u001b[0m\u001b[1;33m\u001b[0m\u001b[0m\n",
      "\u001b[1;31mcom_error\u001b[0m: (-2147221005, 'Invalid class string', None, None)",
      "\nDuring handling of the above exception, another exception occurred:\n",
      "\u001b[1;31mcom_error\u001b[0m                                 Traceback (most recent call last)",
      "\u001b[1;32m~\\AppData\\Local\\Temp\\ipykernel_6756\\1490618506.py\u001b[0m in \u001b[0;36m<module>\u001b[1;34m\u001b[0m\n\u001b[0;32m      1\u001b[0m \u001b[1;32mimport\u001b[0m \u001b[0mwin32com\u001b[0m\u001b[1;33m.\u001b[0m\u001b[0mclient\u001b[0m \u001b[1;32mas\u001b[0m \u001b[0mwin32\u001b[0m\u001b[1;33m\u001b[0m\u001b[1;33m\u001b[0m\u001b[0m\n\u001b[1;32m----> 2\u001b[1;33m \u001b[0mapp\u001b[0m \u001b[1;33m=\u001b[0m \u001b[0mwin32\u001b[0m\u001b[1;33m.\u001b[0m\u001b[0mDispatch\u001b[0m\u001b[1;33m(\u001b[0m\u001b[1;34m\"Outlook.Application.19\"\u001b[0m\u001b[1;33m)\u001b[0m\u001b[1;33m\u001b[0m\u001b[1;33m\u001b[0m\u001b[0m\n\u001b[0m\u001b[0;32m      3\u001b[0m \u001b[0mnamespace\u001b[0m \u001b[1;33m=\u001b[0m \u001b[0mapp\u001b[0m\u001b[1;33m.\u001b[0m\u001b[0mGetNamespace\u001b[0m\u001b[1;33m(\u001b[0m\u001b[1;34m\"MAPI\"\u001b[0m\u001b[1;33m)\u001b[0m\u001b[1;33m\u001b[0m\u001b[1;33m\u001b[0m\u001b[0m\n\u001b[0;32m      4\u001b[0m \u001b[0mprint\u001b[0m\u001b[1;33m(\u001b[0m\u001b[0mnamespace\u001b[0m\u001b[1;33m)\u001b[0m\u001b[1;33m\u001b[0m\u001b[1;33m\u001b[0m\u001b[0m\n",
      "\u001b[1;32m~\\Anaconda3\\lib\\site-packages\\win32com\\client\\__init__.py\u001b[0m in \u001b[0;36mDispatch\u001b[1;34m(dispatch, userName, resultCLSID, typeinfo, UnicodeToString, clsctx)\u001b[0m\n\u001b[0;32m    115\u001b[0m     \u001b[1;34m\"\"\"Creates a Dispatch based COM object.\"\"\"\u001b[0m\u001b[1;33m\u001b[0m\u001b[1;33m\u001b[0m\u001b[0m\n\u001b[0;32m    116\u001b[0m     \u001b[1;32massert\u001b[0m \u001b[0mUnicodeToString\u001b[0m \u001b[1;32mis\u001b[0m \u001b[1;32mNone\u001b[0m\u001b[1;33m,\u001b[0m \u001b[1;34m\"this is deprecated and will go away\"\u001b[0m\u001b[1;33m\u001b[0m\u001b[1;33m\u001b[0m\u001b[0m\n\u001b[1;32m--> 117\u001b[1;33m     \u001b[0mdispatch\u001b[0m\u001b[1;33m,\u001b[0m \u001b[0muserName\u001b[0m \u001b[1;33m=\u001b[0m \u001b[0mdynamic\u001b[0m\u001b[1;33m.\u001b[0m\u001b[0m_GetGoodDispatchAndUserName\u001b[0m\u001b[1;33m(\u001b[0m\u001b[0mdispatch\u001b[0m\u001b[1;33m,\u001b[0m \u001b[0muserName\u001b[0m\u001b[1;33m,\u001b[0m \u001b[0mclsctx\u001b[0m\u001b[1;33m)\u001b[0m\u001b[1;33m\u001b[0m\u001b[1;33m\u001b[0m\u001b[0m\n\u001b[0m\u001b[0;32m    118\u001b[0m     \u001b[1;32mreturn\u001b[0m \u001b[0m__WrapDispatch\u001b[0m\u001b[1;33m(\u001b[0m\u001b[0mdispatch\u001b[0m\u001b[1;33m,\u001b[0m \u001b[0muserName\u001b[0m\u001b[1;33m,\u001b[0m \u001b[0mresultCLSID\u001b[0m\u001b[1;33m,\u001b[0m \u001b[0mtypeinfo\u001b[0m\u001b[1;33m,\u001b[0m \u001b[0mclsctx\u001b[0m\u001b[1;33m=\u001b[0m\u001b[0mclsctx\u001b[0m\u001b[1;33m)\u001b[0m\u001b[1;33m\u001b[0m\u001b[1;33m\u001b[0m\u001b[0m\n\u001b[0;32m    119\u001b[0m \u001b[1;33m\u001b[0m\u001b[0m\n",
      "\u001b[1;32m~\\Anaconda3\\lib\\site-packages\\win32com\\client\\dynamic.py\u001b[0m in \u001b[0;36m_GetGoodDispatchAndUserName\u001b[1;34m(IDispatch, userName, clsctx)\u001b[0m\n\u001b[0;32m    104\u001b[0m     \u001b[1;32melse\u001b[0m\u001b[1;33m:\u001b[0m\u001b[1;33m\u001b[0m\u001b[1;33m\u001b[0m\u001b[0m\n\u001b[0;32m    105\u001b[0m         \u001b[0muserName\u001b[0m \u001b[1;33m=\u001b[0m \u001b[0mstr\u001b[0m\u001b[1;33m(\u001b[0m\u001b[0muserName\u001b[0m\u001b[1;33m)\u001b[0m\u001b[1;33m\u001b[0m\u001b[1;33m\u001b[0m\u001b[0m\n\u001b[1;32m--> 106\u001b[1;33m     \u001b[1;32mreturn\u001b[0m \u001b[1;33m(\u001b[0m\u001b[0m_GetGoodDispatch\u001b[0m\u001b[1;33m(\u001b[0m\u001b[0mIDispatch\u001b[0m\u001b[1;33m,\u001b[0m \u001b[0mclsctx\u001b[0m\u001b[1;33m)\u001b[0m\u001b[1;33m,\u001b[0m \u001b[0muserName\u001b[0m\u001b[1;33m)\u001b[0m\u001b[1;33m\u001b[0m\u001b[1;33m\u001b[0m\u001b[0m\n\u001b[0m\u001b[0;32m    107\u001b[0m \u001b[1;33m\u001b[0m\u001b[0m\n\u001b[0;32m    108\u001b[0m \u001b[1;33m\u001b[0m\u001b[0m\n",
      "\u001b[1;32m~\\Anaconda3\\lib\\site-packages\\win32com\\client\\dynamic.py\u001b[0m in \u001b[0;36m_GetGoodDispatch\u001b[1;34m(IDispatch, clsctx)\u001b[0m\n\u001b[0;32m     86\u001b[0m             \u001b[0mIDispatch\u001b[0m \u001b[1;33m=\u001b[0m \u001b[0mpythoncom\u001b[0m\u001b[1;33m.\u001b[0m\u001b[0mconnect\u001b[0m\u001b[1;33m(\u001b[0m\u001b[0mIDispatch\u001b[0m\u001b[1;33m)\u001b[0m\u001b[1;33m\u001b[0m\u001b[1;33m\u001b[0m\u001b[0m\n\u001b[0;32m     87\u001b[0m         \u001b[1;32mexcept\u001b[0m \u001b[0mpythoncom\u001b[0m\u001b[1;33m.\u001b[0m\u001b[0mole_error\u001b[0m\u001b[1;33m:\u001b[0m\u001b[1;33m\u001b[0m\u001b[1;33m\u001b[0m\u001b[0m\n\u001b[1;32m---> 88\u001b[1;33m             IDispatch = pythoncom.CoCreateInstance(\n\u001b[0m\u001b[0;32m     89\u001b[0m                 \u001b[0mIDispatch\u001b[0m\u001b[1;33m,\u001b[0m \u001b[1;32mNone\u001b[0m\u001b[1;33m,\u001b[0m \u001b[0mclsctx\u001b[0m\u001b[1;33m,\u001b[0m \u001b[0mpythoncom\u001b[0m\u001b[1;33m.\u001b[0m\u001b[0mIID_IDispatch\u001b[0m\u001b[1;33m\u001b[0m\u001b[1;33m\u001b[0m\u001b[0m\n\u001b[0;32m     90\u001b[0m             )\n",
      "\u001b[1;31mcom_error\u001b[0m: (-2147221005, 'Invalid class string', None, None)"
     ]
    }
   ],
   "source": [
    "import win32com.client as win32\n",
    "app = win32.Dispatch(\"Outlook.Application.19\")\n",
    "namespace = app.GetNamespace(\"MAPI\")\n",
    "print(namespace)"
   ]
  },
  {
   "cell_type": "code",
   "execution_count": null,
   "id": "df8ba931",
   "metadata": {},
   "outputs": [],
   "source": [
    " "
   ]
  },
  {
   "cell_type": "code",
   "execution_count": null,
   "id": "43b21359",
   "metadata": {},
   "outputs": [],
   "source": []
  }
 ],
 "metadata": {
  "kernelspec": {
   "display_name": "Python 3 (ipykernel)",
   "language": "python",
   "name": "python3"
  },
  "language_info": {
   "codemirror_mode": {
    "name": "ipython",
    "version": 3
   },
   "file_extension": ".py",
   "mimetype": "text/x-python",
   "name": "python",
   "nbconvert_exporter": "python",
   "pygments_lexer": "ipython3",
   "version": "3.9.13"
  }
 },
 "nbformat": 4,
 "nbformat_minor": 5
}
