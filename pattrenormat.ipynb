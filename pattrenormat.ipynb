{
 "cells": [
  {
   "cell_type": "code",
   "execution_count": 9,
   "id": "b13591e4",
   "metadata": {},
   "outputs": [
    {
     "data": {
      "text/plain": [
       "{'name': 'narsimha', 'age': '23', 'deg': 'Software'}"
      ]
     },
     "execution_count": 9,
     "metadata": {},
     "output_type": "execute_result"
    }
   ],
   "source": [
    "x=\"name:narsimha,age;23,deg:Software\"\n",
    "s=x.replace(';',':')\n",
    "c=s.split(',')\n",
    "k=[]\n",
    "v=[]\n",
    "for i in c:\n",
    "    key,value=i.split(':')\n",
    "    k.append(key)\n",
    "    v.append(value)\n",
    "d=dict(zip(k,v))\n",
    "d"
   ]
  },
  {
   "cell_type": "code",
   "execution_count": 18,
   "id": "30188204",
   "metadata": {},
   "outputs": [
    {
     "name": "stdout",
     "output_type": "stream",
     "text": [
      "[{'name': 'vasu', 'id': '1'}, {'name': 'raju', 'id': '2'}, {'name': 'vasu', 'id': '3'}]\n"
     ]
    }
   ],
   "source": [
    "a='vasu:1,raju:2,vasu:3'\n",
    "s=a.split(',')\n",
    "c=[]\n",
    "for i in s:\n",
    "    key,value=i.split(':')\n",
    "    c.append({'name':key,'id':value})\n",
    "print(c)"
   ]
  },
  {
   "cell_type": "code",
   "execution_count": 20,
   "id": "f2c46704",
   "metadata": {},
   "outputs": [
    {
     "data": {
      "text/plain": [
       "{'amount': 25, 'deg': 15, 'id': 3, 'name': 'vasu'}"
      ]
     },
     "execution_count": 20,
     "metadata": {},
     "output_type": "execute_result"
    }
   ],
   "source": [
    "a={'name':'vasu','id':3,'deg':15,'amount':25}\n",
    "x=[]\n",
    "y=[]\n",
    "for i,j in a.items():\n",
    "    x.append(i)\n",
    "    y.append(j)\n",
    "s=x[::-1]\n",
    "d=y[::-1]\n",
    "z=dict(zip(s,d))\n",
    "z"
   ]
  },
  {
   "cell_type": "code",
   "execution_count": 20,
   "id": "9120cbba",
   "metadata": {},
   "outputs": [
    {
     "data": {
      "text/plain": [
       "{'amount': 25, 'deg': 15, 'id': 3, 'name': 'vasu'}"
      ]
     },
     "execution_count": 20,
     "metadata": {},
     "output_type": "execute_result"
    }
   ],
   "source": [
    "a={'name':'vasu','id':3,'deg':15,'amount':25}\n",
    "b=list(a.items())\n",
    "for i in range(len(b)):\n",
    "    for j in range(i+1,len(b)):\n",
    "        if b[i]>b[j]:\n",
    "            b[i],b[j]=b[j],b[i]\n",
    "c=dict(b)\n",
    "c"
   ]
  },
  {
   "cell_type": "code",
   "execution_count": 22,
   "id": "f5d463de",
   "metadata": {},
   "outputs": [
    {
     "data": {
      "text/plain": [
       "24"
      ]
     },
     "execution_count": 22,
     "metadata": {},
     "output_type": "execute_result"
    }
   ],
   "source": [
    "a={'name':'vasu','id':3,'deg':15,'amount':25} \n",
    "c=''\n",
    "b=''\n",
    "for i,j in a.items():\n",
    "    c=c+i\n",
    "    b=b+str(j)\n",
    "z=len(c+b)\n",
    "z"
   ]
  },
  {
   "cell_type": "code",
   "execution_count": 25,
   "id": "f96f867f",
   "metadata": {},
   "outputs": [
    {
     "name": "stdout",
     "output_type": "stream",
     "text": [
      "[{'name': 'hari', 'id': 1}, {'name': 'zee', 'id': 1}, {'name': 'zee', 'id': 1}, {'name': 'ganesh', 'id': 2}, {'name': 'simha', 'id': 2}]\n"
     ]
    }
   ],
   "source": [
    "x=[{\"name\":\"hari\",\"id\":1},{\"name\":\"ganesh\",\"id\":2},{\"name\":\"simha\",\"id\":2},{\"name\":\"zee\",\"id\":1},{\"name\":\"zee\",\"id\":1}]\n",
    "for i in range(len(x)):\n",
    "    for j in range(i+1,len(x)):\n",
    "        if x[i]['id']>x[j]['id']:\n",
    "            x[i],x[j]=x[j],x[i]\n",
    "print(x)"
   ]
  },
  {
   "cell_type": "code",
   "execution_count": 30,
   "id": "e3c679f3",
   "metadata": {},
   "outputs": [
    {
     "name": "stdout",
     "output_type": "stream",
     "text": [
      "S001\n",
      "S002\n",
      "S001\n",
      "S005\n",
      "S005\n",
      "S009\n",
      "S007\n"
     ]
    }
   ],
   "source": [
    "l = [{\"V\": \"S001\"}, {\"V\": \"S002\"}, {\"VI\": \"S001\"}, {\"VI\": \"S005\"}, {\"VII\": \"S005\"}, {\"V\": \"S009\"}, {\"VIII\": \"S007\"}]\n",
    "for i in l:\n",
    "    for j in i.values():\n",
    "        print(j)"
   ]
  },
  {
   "cell_type": "code",
   "execution_count": 32,
   "id": "2ebe30b4",
   "metadata": {},
   "outputs": [
    {
     "name": "stdout",
     "output_type": "stream",
     "text": [
      "16\n"
     ]
    }
   ],
   "source": [
    "a={'name':'vasu', 'amount':40}\n",
    "c=''\n",
    "for i,j in a.items():\n",
    "    c=c+i+str(j)\n",
    "print(len(c))\n"
   ]
  },
  {
   "cell_type": "code",
   "execution_count": 7,
   "id": "24c28e72",
   "metadata": {},
   "outputs": [
    {
     "name": "stdout",
     "output_type": "stream",
     "text": [
      "a 3\n",
      "b 5\n",
      "c 2\n",
      "d 1\n",
      "e -2\n"
     ]
    }
   ],
   "source": [
    "d={'a':3,'b':5,'c':2,'d':1,'e':-2}\n",
    "a=sorted(d)\n",
    "for key in a:\n",
    "    print(key,d[key])"
   ]
  },
  {
   "cell_type": "code",
   "execution_count": 13,
   "id": "e0165f5f",
   "metadata": {},
   "outputs": [
    {
     "ename": "SyntaxError",
     "evalue": "invalid syntax (2363813653.py, line 4)",
     "output_type": "error",
     "traceback": [
      "\u001b[1;36m  File \u001b[1;32m\"C:\\Users\\narsimhac\\AppData\\Local\\Temp\\ipykernel_16684\\2363813653.py\"\u001b[1;36m, line \u001b[1;32m4\u001b[0m\n\u001b[1;33m    print(b.items(*))\u001b[0m\n\u001b[1;37m                   ^\u001b[0m\n\u001b[1;31mSyntaxError\u001b[0m\u001b[1;31m:\u001b[0m invalid syntax\n"
     ]
    }
   ],
   "source": [
    "d={'a':3,'b':5,'c':2,'d':1,'e':-2}\n",
    "a=str(d.items())\n",
    "b=a.split(',')\n",
    "p"
   ]
  },
  {
   "cell_type": "code",
   "execution_count": 41,
   "id": "883e5d7a",
   "metadata": {},
   "outputs": [
    {
     "data": {
      "text/plain": [
       "[{'name': 'AP', 'city': 3, 'cityA': ['Amravathi', 'Anakala']},\n",
       " {'name': 'MP', 'city': 3, 'cityA': ['Abd', 'Ade']}]"
      ]
     },
     "execution_count": 41,
     "metadata": {},
     "output_type": "execute_result"
    }
   ],
   "source": [
    "a=[{\"name\":\"AP\",\"city\":[\"vizag\",\"Amravathi\",\"Anakala\",\"kur\",\"nandyala\"]},{\"name\":\"MP\",\"city\":[\"Abd\",\"cda\",\"Ade\",\"kur\",\"d\"]}]\n",
    "for i in a:\n",
    "    sum=0\n",
    "    c=[]\n",
    "    for j in i['city']:\n",
    "        sum=sum+1\n",
    "        if j[0]=='a' or j[0]=='A':\n",
    "            c.append(j)\n",
    "            i['city']=sum\n",
    "            i['cityA']=c\n",
    "a"
   ]
  },
  {
   "cell_type": "code",
   "execution_count": 46,
   "id": "9dae49b1",
   "metadata": {},
   "outputs": [
    {
     "data": {
      "text/plain": [
       "[2]"
      ]
     },
     "execution_count": 46,
     "metadata": {},
     "output_type": "execute_result"
    }
   ],
   "source": [
    "x=[[1,2,3],[3,4,2],[4,6,2]]\n",
    "U=[]\n",
    "for i in x[0]:\n",
    "    for j in x[1]:\n",
    "        for k in x[2]:\n",
    "            if i==j and j==k:\n",
    "                U.append(j)\n",
    "U"
   ]
  },
  {
   "cell_type": "code",
   "execution_count": 21,
   "id": "a06b381b",
   "metadata": {},
   "outputs": [
    {
     "data": {
      "text/plain": [
       "'narsimhach'"
      ]
     },
     "execution_count": 21,
     "metadata": {},
     "output_type": "execute_result"
    }
   ],
   "source": [
    "a='narsimha'\n",
    "b='ch'\n",
    "c=a+b\n",
    "c"
   ]
  },
  {
   "cell_type": "code",
   "execution_count": 57,
   "id": "24dc7548",
   "metadata": {},
   "outputs": [
    {
     "data": {
      "text/plain": [
       "[2, 3, 4, 7]"
      ]
     },
     "execution_count": 57,
     "metadata": {},
     "output_type": "execute_result"
    }
   ],
   "source": [
    "x=[1,2,3,2,4,5,6,7,7,9,3,4]\n",
    "y=[]\n",
    "for i in x:\n",
    "    if x.count(i)>1 and i not in y:\n",
    "        y.append(i)\n",
    "y"
   ]
  },
  {
   "cell_type": "code",
   "execution_count": 72,
   "id": "1d8f6c99",
   "metadata": {},
   "outputs": [
    {
     "data": {
      "text/plain": [
       "['abhi', 'vagrahb', 'vamsi', 'raknahs', 'sai', 'iver', 'shiva', 'inum']"
      ]
     },
     "execution_count": 72,
     "metadata": {},
     "output_type": "execute_result"
    }
   ],
   "source": [
    "a='abhi bhargav vamsi shankar sai revi shiva muni'\n",
    "x=a.replace(' ',',')\n",
    "s=x.split(',')\n",
    "d=[]\n",
    "for i in range(len(s)):\n",
    "    if i%2==1:\n",
    "        c=s[i]\n",
    "        e=c[::-1]\n",
    "        d.append(e)\n",
    "    else:\n",
    "        d.append(s[i])\n",
    "d"
   ]
  },
  {
   "cell_type": "code",
   "execution_count": 83,
   "id": "0d798a18",
   "metadata": {},
   "outputs": [
    {
     "data": {
      "text/plain": [
       "[(2, 1), (1, 2), (2, 3), (4, 4), (2, 5)]"
      ]
     },
     "execution_count": 83,
     "metadata": {},
     "output_type": "execute_result"
    }
   ],
   "source": [
    "l = [(2, 5), (1, 2), (4, 4), (2, 3), (2, 1)]\n",
    "x=[]\n",
    "for i in l:\n",
    "    x.append(i[1])\n",
    "s=sorted(x)\n",
    "d=[]\n",
    "for i in s:\n",
    "    for j in l:\n",
    "        if j[1]==i:\n",
    "            d.append(j)\n",
    "d"
   ]
  },
  {
   "cell_type": "code",
   "execution_count": 84,
   "id": "3bfe2a56",
   "metadata": {},
   "outputs": [
    {
     "data": {
      "text/plain": [
       "['my', 'name', 'is', 'Narssimha']"
      ]
     },
     "execution_count": 84,
     "metadata": {},
     "output_type": "execute_result"
    }
   ],
   "source": [
    "x=['m','na','i','Nars']\n",
    "y=['y','me','s','simha']\n",
    "c=[]\n",
    "for i in x:\n",
    "    for j in y:\n",
    "        if x.index(i)==y.index(j):\n",
    "            c.append(i+j)\n",
    "c"
   ]
  },
  {
   "cell_type": "code",
   "execution_count": null,
   "id": "a3fdaa74",
   "metadata": {},
   "outputs": [],
   "source": []
  },
  {
   "cell_type": "code",
   "execution_count": 22,
   "id": "42208c28",
   "metadata": {},
   "outputs": [
    {
     "data": {
      "text/plain": [
       "['MouriTECH']"
      ]
     },
     "execution_count": 22,
     "metadata": {},
     "output_type": "execute_result"
    }
   ],
   "source": [
    "a=['Mouri']\n",
    "b=['TECH']\n",
    "c=[]\n",
    "for i in a:\n",
    "    for j in b:\n",
    "        if a.index(i)==b.index(j):\n",
    "            c.append(i+j)\n",
    "c\n",
    "            "
   ]
  },
  {
   "cell_type": "code",
   "execution_count": 37,
   "id": "7b3aa555",
   "metadata": {},
   "outputs": [
    {
     "data": {
      "text/plain": [
       "['0', '9', '8', '7', '6', '5', '4', '3', '5', '6', '7', '8', '9', '0']"
      ]
     },
     "execution_count": 37,
     "metadata": {},
     "output_type": "execute_result"
    }
   ],
   "source": [
    "s='oiuytredsxdcfghjopp09876543567890'\n",
    "k=[]\n",
    "for i in s:\n",
    "    if i.isdigit():\n",
    "        k.append(i)\n",
    "k"
   ]
  },
  {
   "cell_type": "code",
   "execution_count": null,
   "id": "c130e309",
   "metadata": {},
   "outputs": [],
   "source": []
  },
  {
   "cell_type": "code",
   "execution_count": null,
   "id": "9f7bb9f5",
   "metadata": {},
   "outputs": [],
   "source": []
  },
  {
   "cell_type": "code",
   "execution_count": 30,
   "id": "78a258c6",
   "metadata": {},
   "outputs": [
    {
     "name": "stdout",
     "output_type": "stream",
     "text": [
      "NCHELLABOINA\n",
      "arsimha \n"
     ]
    }
   ],
   "source": [
    "x='Narsimha CHELLABOINA'\n",
    "u=''\n",
    "s=''\n",
    "for i in x:\n",
    "    if i.isupper():\n",
    "        u=u+i\n",
    "    else:\n",
    "        s=s+i\n",
    "print(u)\n",
    "print(s)\n",
    "        "
   ]
  },
  {
   "cell_type": "code",
   "execution_count": 86,
   "id": "62d742a2",
   "metadata": {},
   "outputs": [
    {
     "name": "stdout",
     "output_type": "stream",
     "text": [
      "2\n"
     ]
    }
   ],
   "source": [
    "l=['aba','xyz','abc','1221']\n",
    "c=0\n",
    "for i in l:\n",
    "    if i[0]==i[-1]:\n",
    "        c=c+1\n",
    "print(c)"
   ]
  },
  {
   "cell_type": "code",
   "execution_count": 87,
   "id": "abac926b",
   "metadata": {},
   "outputs": [
    {
     "name": "stdout",
     "output_type": "stream",
     "text": [
      "****\n",
      "***\n",
      "**\n",
      "*\n",
      "\n"
     ]
    }
   ],
   "source": [
    "n=5\n",
    "for i in range(n):\n",
    "    for j in range(i+1,n):\n",
    "        print('*',end='')\n",
    "    print()"
   ]
  },
  {
   "cell_type": "code",
   "execution_count": 88,
   "id": "6af5e979",
   "metadata": {},
   "outputs": [
    {
     "name": "stdout",
     "output_type": "stream",
     "text": [
      "        * \n",
      "      * * \n",
      "    * * * \n",
      "  * * * * \n",
      "* * * * * \n"
     ]
    }
   ],
   "source": [
    "n=5\n",
    "for i in range(n):\n",
    "    for j in range(i+1,n):\n",
    "        print(' ',end=' ')\n",
    "    for j in range(i+1):\n",
    "        print('*',end=' ')\n",
    "    print()"
   ]
  },
  {
   "cell_type": "code",
   "execution_count": 92,
   "id": "6d8b54c3",
   "metadata": {},
   "outputs": [
    {
     "name": "stdout",
     "output_type": "stream",
     "text": [
      "  * * * * * * \n",
      "    * * * * * \n",
      "      * * * * \n",
      "        * * * \n",
      "          * * \n",
      "            * \n"
     ]
    }
   ],
   "source": [
    "n=6\n",
    "for i in range(n):\n",
    "    for j in range(i+1):\n",
    "        print(' ',end=' ')\n",
    "    for j in range(i,n):\n",
    "        print('*',end=' ')\n",
    "    print()"
   ]
  },
  {
   "cell_type": "code",
   "execution_count": 96,
   "id": "1616caf8",
   "metadata": {},
   "outputs": [
    {
     "name": "stdout",
     "output_type": "stream",
     "text": [
      "            * \n",
      "          * * * \n",
      "        * * * * * \n",
      "      * * * * * * * \n",
      "    * * * * * * * * * \n",
      "  * * * * * * * * * * * \n"
     ]
    }
   ],
   "source": [
    "n=6\n",
    "for i in range(n):\n",
    "    for j in range(i,n):\n",
    "        print(' ',end=' ')\n",
    "    for j in range(i+1):\n",
    "        print('*',end=' ')\n",
    "    for j in range(i):\n",
    "        print('*',end=' ')\n",
    "    print()"
   ]
  },
  {
   "cell_type": "code",
   "execution_count": 105,
   "id": "92a83593",
   "metadata": {},
   "outputs": [
    {
     "name": "stdout",
     "output_type": "stream",
     "text": [
      "* * * * *   \n",
      "* * * *     \n",
      "* * *       \n",
      "* *         \n",
      "*           \n",
      "            \n"
     ]
    }
   ],
   "source": [
    "n=6\n",
    "for i in range(n):\n",
    "    for j in range(i,n-1):\n",
    "        print('*',end=' ')\n",
    "    for j in range(i+1):\n",
    "        print(' ',end=' ')\n",
    "     \n",
    "    print()"
   ]
  },
  {
   "cell_type": "code",
   "execution_count": 107,
   "id": "83ec3581",
   "metadata": {},
   "outputs": [
    {
     "data": {
      "text/plain": [
       "[{'name': 'abhi', 'age': 23, 'sal': 20000},\n",
       " {'name': 'ravi', 'age': 23, 'sal': 19000},\n",
       " {'name': 'shiva', 'age': 24, 'sal': 18000},\n",
       " {'name': 'vamsi', 'age': 26, 'sal': 21000}]"
      ]
     },
     "execution_count": 107,
     "metadata": {},
     "output_type": "execute_result"
    }
   ],
   "source": [
    "x=[{'name':'abhi','age':23,'sal':20000},{'name':'vamsi','age':26,'sal':21000},{'name':'ravi','age':23,'sal':19000},{'name':'shiva','age':24,'sal':18000}]\n",
    "for i in range(len(x)):\n",
    "    for j in range(i+1,len(x)):\n",
    "        if x[i]['age']>x[j]['age']:\n",
    "            x[i],x[j]=x[j],x[i]\n",
    "x"
   ]
  },
  {
   "cell_type": "code",
   "execution_count": 114,
   "id": "39c584c9",
   "metadata": {},
   "outputs": [
    {
     "name": "stdout",
     "output_type": "stream",
     "text": [
      "{'states': ['andhra', 'telangana'], 'cities': [{'name': 'nellore', 'states': 'andhra'}, {'name': 'guntur', 'states': 'andhra'}, {'name': 'Hyd', 'states': 'telangana'}, {'name': 'varangal', 'states': 'telangana'}]}\n"
     ]
    }
   ],
   "source": [
    "a=[{ 'name': 'andhra', 'city': ['nellore', 'guntur'] }, { 'name': 'telangana', 'city': ['Hyd', 'varangal'] }]\n",
    "#  output: {states:['andhra','telangana'],cities:[{name:'nellore',state:'andhra'},{name:'guntur',state:'andhra'}]}\n",
    "states=[]\n",
    "cities_with_state=[]\n",
    "for i in a:\n",
    "    states.append(i['name'])\n",
    "    for j in i['city']:\n",
    "        cities_with_state.append({'name':j,'states':i['name']})\n",
    "y={'states':states,'cities':cities_with_state}\n",
    "print(y)"
   ]
  },
  {
   "cell_type": "code",
   "execution_count": 117,
   "id": "4cc2a495",
   "metadata": {},
   "outputs": [
    {
     "name": "stdout",
     "output_type": "stream",
     "text": [
      "3 * 7 = 21\n",
      "3 * 8 = 24\n",
      "3 * 9 = 27\n",
      "3 * 10 = 30\n",
      "3 * 1 = 3\n",
      "3 * 2 = 6\n",
      "3 * 3 = 9\n",
      "3 * 4 = 12\n",
      "3 * 5 = 15\n",
      "3 * 6 = 18\n"
     ]
    }
   ],
   "source": [
    "for i in range(7,11):\n",
    "    print('3','*',i,'=',3*i)\n",
    "for i in range(1,7):\n",
    "    print('3','*',i,'=',3*i)"
   ]
  },
  {
   "cell_type": "code",
   "execution_count": 119,
   "id": "eeebbcf9",
   "metadata": {},
   "outputs": [
    {
     "data": {
      "text/plain": [
       "[3, 4, 5, 9]"
      ]
     },
     "execution_count": 119,
     "metadata": {},
     "output_type": "execute_result"
    }
   ],
   "source": [
    "x=[1,2,3,4,5,6,5,4,3,7,8,9,9]\n",
    "n=[]\n",
    "for i in x:\n",
    "    if x.count(i)>1 and i not in n:\n",
    "        n.append(i)\n",
    "n"
   ]
  },
  {
   "cell_type": "code",
   "execution_count": 129,
   "id": "164add4c",
   "metadata": {},
   "outputs": [
    {
     "data": {
      "text/plain": [
       "['I LOVE PYTHON']"
      ]
     },
     "execution_count": 129,
     "metadata": {},
     "output_type": "execute_result"
    }
   ],
   "source": [
    "sen=\"I LOVE PYTHON\"\n",
    "c=sen.split(',')\n",
    "z=c[::-1]\n",
    "z"
   ]
  },
  {
   "cell_type": "code",
   "execution_count": 130,
   "id": "5db4407c",
   "metadata": {},
   "outputs": [
    {
     "name": "stdout",
     "output_type": "stream",
     "text": [
      "4 4\n",
      "2 6\n",
      "3 5\n",
      "5 3\n",
      "6 2\n"
     ]
    }
   ],
   "source": [
    "nums=[4,2,3,5,6]\n",
    "t=8\n",
    "for i in nums:\n",
    "    for j in nums:\n",
    "        if i+j==t:\n",
    "            print(i,j)"
   ]
  },
  {
   "cell_type": "code",
   "execution_count": 131,
   "id": "2be520e4",
   "metadata": {},
   "outputs": [
    {
     "name": "stdout",
     "output_type": "stream",
     "text": [
      "0 0\n",
      "1 4\n",
      "2 3\n",
      "3 2\n",
      "4 1\n"
     ]
    }
   ],
   "source": [
    "nums=[4,2,3,5,6]\n",
    "t=8\n",
    "for i in range(len(nums)):\n",
    "    for j in range(len(nums)):\n",
    "        if nums[i]+nums[j]==t:\n",
    "            print(i,j)"
   ]
  },
  {
   "cell_type": "code",
   "execution_count": 132,
   "id": "716f65c7",
   "metadata": {},
   "outputs": [
    {
     "data": {
      "text/plain": [
       "[2, 3, 4, 5, 6, 7, 8]"
      ]
     },
     "execution_count": 132,
     "metadata": {},
     "output_type": "execute_result"
    }
   ],
   "source": [
    "x = [3, 6, 2, 4, 7, 5, 8] \n",
    "for i in range(len(x)):\n",
    "    for j in range(i+1,len(x)):\n",
    "        if x[i]>x[j]:\n",
    "            x[i],x[j]=x[j],x[i]\n",
    "x\n",
    "    "
   ]
  },
  {
   "cell_type": "code",
   "execution_count": 135,
   "id": "6e2faa49",
   "metadata": {},
   "outputs": [
    {
     "data": {
      "text/plain": [
       "[8, 8, 8, 8, 8, 8, 8]"
      ]
     },
     "execution_count": 135,
     "metadata": {},
     "output_type": "execute_result"
    }
   ],
   "source": [
    "x = [3, 6, 2, 4, 7, 5, 8]\n",
    "n=[]\n",
    "while x:\n",
    "    min=x[0]\n",
    "    for i in x:\n",
    "        if i<min:\n",
    "            min=i\n",
    "    n.append(i)\n",
    "    x.remove(min)\n",
    "n"
   ]
  },
  {
   "cell_type": "code",
   "execution_count": 136,
   "id": "ca4ff843",
   "metadata": {},
   "outputs": [
    {
     "name": "stdout",
     "output_type": "stream",
     "text": [
      "0\n",
      "1\n",
      "1\n",
      "2\n",
      "3\n",
      "5\n",
      "8\n",
      "13\n",
      "21\n",
      "34\n"
     ]
    }
   ],
   "source": [
    "a=0\n",
    "b=1\n",
    "print(a)\n",
    "print(b)\n",
    "for i in range(2,10):\n",
    "    c=a+b\n",
    "    a=b\n",
    "    b=c\n",
    "    print(c)\n",
    "    "
   ]
  },
  {
   "cell_type": "code",
   "execution_count": 137,
   "id": "ebf77b0e",
   "metadata": {},
   "outputs": [
    {
     "name": "stdout",
     "output_type": "stream",
     "text": [
      "14\n"
     ]
    }
   ],
   "source": [
    "x=2345\n",
    "sum=0\n",
    "while x>0:\n",
    "    rem=x%10\n",
    "    sum=sum+rem\n",
    "    x=x//10\n",
    "print(sum)"
   ]
  },
  {
   "cell_type": "code",
   "execution_count": 140,
   "id": "73120af7",
   "metadata": {},
   "outputs": [
    {
     "data": {
      "text/plain": [
       "'narsimh'"
      ]
     },
     "execution_count": 140,
     "metadata": {},
     "output_type": "execute_result"
    }
   ],
   "source": [
    "n='narsimha'\n",
    "x=''\n",
    "for i in n:\n",
    "    if i not in x:\n",
    "        x=x+i\n",
    "x\n",
    "        "
   ]
  },
  {
   "cell_type": "code",
   "execution_count": 143,
   "id": "b8754ee4",
   "metadata": {},
   "outputs": [
    {
     "name": "stdout",
     "output_type": "stream",
     "text": [
      "enter your age : 22\n",
      "your eligible to vote\n"
     ]
    }
   ],
   "source": [
    "age=int(input('enter your age : '))\n",
    "class agecheck(Exception):\n",
    "    pass\n",
    "try:\n",
    "    if age<18:\n",
    "        raise agecheck(\"Your not eligible to vote \")\n",
    "    else:\n",
    "        print(\"your eligible to vote\")\n",
    "except agecheck as e:\n",
    "    print(e)"
   ]
  },
  {
   "cell_type": "code",
   "execution_count": 144,
   "id": "137459b6",
   "metadata": {},
   "outputs": [
    {
     "name": "stdout",
     "output_type": "stream",
     "text": [
      "[1, 2, 3, 4, 5, 9, 8, 0, 0, 0, 0, 0, 0]\n"
     ]
    }
   ],
   "source": [
    "n=[1,0,2,0,3,0,4,0,5,0,9,0,8]\n",
    "a=[]\n",
    "b=[]\n",
    "for i in n:\n",
    "    if i==0:\n",
    "        a.append(i)\n",
    "    else:\n",
    "        b.append(i)\n",
    "print(b+a)"
   ]
  },
  {
   "cell_type": "code",
   "execution_count": 146,
   "id": "f342edd6",
   "metadata": {},
   "outputs": [
    {
     "name": "stdout",
     "output_type": "stream",
     "text": [
      "555\n"
     ]
    }
   ],
   "source": [
    "n=[2,3,4,6,8,9,23,54,765,21,654,555]\n",
    "for i in range(len(n)):\n",
    "    for j in range(i+1,len(n)):\n",
    "        if n[i]<n[j]:\n",
    "            n[i],n[j]=n[j],n[i]\n",
    "print(n[2])"
   ]
  },
  {
   "cell_type": "code",
   "execution_count": 154,
   "id": "e4e91f94",
   "metadata": {},
   "outputs": [
    {
     "name": "stdout",
     "output_type": "stream",
     "text": [
      "aarsimhN\n"
     ]
    }
   ],
   "source": [
    "s='Narsimha'\n",
    "f=s[0]\n",
    "l=s[-1]\n",
    "m=s[1:-1:]\n",
    "print(l+m+f)"
   ]
  },
  {
   "cell_type": "code",
   "execution_count": 157,
   "id": "61da6baa",
   "metadata": {},
   "outputs": [
    {
     "name": "stdout",
     "output_type": "stream",
     "text": [
      "e\n",
      "t\n",
      "r\n",
      "f\n",
      "y\n",
      "d\n",
      "n\n",
      "a\n",
      "n\n",
      "g\n"
     ]
    }
   ],
   "source": [
    "name=\"retreive last character of every word in a given string\"\n",
    "x=name.split()\n",
    "for i in x:\n",
    "    print(i[-1])"
   ]
  },
  {
   "cell_type": "code",
   "execution_count": 158,
   "id": "73cdd23a",
   "metadata": {},
   "outputs": [
    {
     "name": "stdout",
     "output_type": "stream",
     "text": [
      "1 3 5 7 9 \n",
      "\n",
      "3 5 7 9 11 \n",
      "\n",
      "5 7 9 11 13 \n",
      "\n",
      "7 9 11 13 15 \n",
      "\n",
      "9 11 13 15 17 \n",
      "\n"
     ]
    }
   ],
   "source": [
    "for i in range(10):\n",
    "    for j in range(10):\n",
    "        if i%2==0:\n",
    "            if j%2==1:\n",
    "                print(i+j,end=' ')\n",
    "    print()"
   ]
  },
  {
   "cell_type": "code",
   "execution_count": 160,
   "id": "09abb6e0",
   "metadata": {},
   "outputs": [
    {
     "name": "stdout",
     "output_type": "stream",
     "text": [
      "2\n"
     ]
    }
   ],
   "source": [
    "x=[1,2,3,4,2,2,2,2,2,2,2,2,2,3,3,3,4,6,6,6,6,6]\n",
    "common_ele=None\n",
    "common_count=0\n",
    "for i in x:\n",
    "    count=x.count(i)\n",
    "    if count>common_count:\n",
    "        common_ele=i\n",
    "        common_count=count\n",
    "print(common_ele)"
   ]
  },
  {
   "cell_type": "code",
   "execution_count": 163,
   "id": "9403d8f0",
   "metadata": {},
   "outputs": [
    {
     "data": {
      "text/plain": [
       "[4, 6, 6, 8, 8, 9]"
      ]
     },
     "execution_count": 163,
     "metadata": {},
     "output_type": "execute_result"
    }
   ],
   "source": [
    "x=[]\n",
    "for i in range(1,10):\n",
    "    for j in range(2,i):\n",
    "        if i%j==0:\n",
    "            x.append(i)\n",
    "x"
   ]
  },
  {
   "cell_type": "code",
   "execution_count": 164,
   "id": "ba0d4b55",
   "metadata": {},
   "outputs": [
    {
     "name": "stdout",
     "output_type": "stream",
     "text": [
      "2\n",
      "4\n",
      "6\n",
      "8\n",
      "10\n",
      "12\n",
      "14\n",
      "16\n",
      "18\n",
      "20\n"
     ]
    }
   ],
   "source": [
    "x=0\n",
    "while x<20:\n",
    "    x=x+1\n",
    "    if x%2==0:\n",
    "        print(x)\n",
    "        "
   ]
  },
  {
   "cell_type": "code",
   "execution_count": 166,
   "id": "1c8b61a3",
   "metadata": {},
   "outputs": [
    {
     "name": "stdout",
     "output_type": "stream",
     "text": [
      "enter a number : 212\n",
      "yes\n"
     ]
    }
   ],
   "source": [
    "n=int(input(\"enter a number : \"))\n",
    "temp=n\n",
    "rev=0\n",
    "while n>0:\n",
    "    rem=n%10\n",
    "    rev=rev*10+rem\n",
    "    n=n//10\n",
    "if temp==rev:\n",
    "    print(\"yes\")\n",
    "else:\n",
    "    print('NO')\n",
    "    "
   ]
  },
  {
   "cell_type": "code",
   "execution_count": 167,
   "id": "3c0102eb",
   "metadata": {},
   "outputs": [
    {
     "name": "stdout",
     "output_type": "stream",
     "text": [
      "enter a string or number : 212\n",
      "palindrome\n"
     ]
    }
   ],
   "source": [
    "n=input(\"enter a string or number : \")\n",
    "x=n[::-1]\n",
    "while len(n) >= len(x):\n",
    "    if n==x:\n",
    "        print('palindrome')\n",
    "        break\n",
    "    else:\n",
    "        print('NO')\n",
    "        break\n",
    "        "
   ]
  },
  {
   "cell_type": "code",
   "execution_count": 168,
   "id": "07ec4727",
   "metadata": {},
   "outputs": [
    {
     "name": "stdout",
     "output_type": "stream",
     "text": [
      "['Mobile', 'Laptop', 'Camera', 'Speakers', 'Television', 'Laptop Case', 'Camera Lens']\n",
      "[100, 1000]\n",
      "[310.28, 27.0]\n"
     ]
    }
   ],
   "source": [
    "s = [\"Mobile\", \"Laptop\", 100, \"Camera\", 310.28, \"Speakers\", 27.00,  \"Television\", 1000, \"Laptop Case\", \"Camera Lens\"]\n",
    "a=[]\n",
    "b=[]\n",
    "c=[]\n",
    "for i in s:\n",
    "    if type(i)==str:\n",
    "        a.append(i)\n",
    "    elif type(i)==int:\n",
    "        b.append(i)\n",
    "    else:\n",
    "        c.append(i)\n",
    "print(a)\n",
    "print(b)\n",
    "print(c)\n",
    "    "
   ]
  },
  {
   "cell_type": "code",
   "execution_count": 11,
   "id": "7be0c1da",
   "metadata": {},
   "outputs": [
    {
     "data": {
      "text/plain": [
       "['abhi', 'vagrahb', 'vamsi', 'raknahs', 'sai', 'iver', 'shiva', 'inum']"
      ]
     },
     "execution_count": 11,
     "metadata": {},
     "output_type": "execute_result"
    }
   ],
   "source": [
    "a='abhi bhargav vamsi shankar sai revi shiva muni'\n",
    "b=a.replace(' ',',')\n",
    "c=b.split(',')\n",
    "d=[]\n",
    "for i in range(len(c)):\n",
    "    if i%2!=0:\n",
    "        zz=c[i]\n",
    "        z=zz[::-1]\n",
    "        d.append(z)\n",
    "    else:\n",
    "        d.append(c[i])\n",
    "d"
   ]
  },
  {
   "cell_type": "code",
   "execution_count": 12,
   "id": "63ded7e4",
   "metadata": {},
   "outputs": [
    {
     "data": {
      "text/plain": [
       "[1, 2, 3, 4, 5, 6, 7]"
      ]
     },
     "execution_count": 12,
     "metadata": {},
     "output_type": "execute_result"
    }
   ],
   "source": [
    "a=[2,3,5,7,1,6,4]\n",
    "for i in range(len(a)):\n",
    "    for j in range(i+1,len(a)):\n",
    "        if a[i]>a[j]:\n",
    "            a[i],a[j]=a[j],a[i]\n",
    "a"
   ]
  },
  {
   "cell_type": "code",
   "execution_count": 13,
   "id": "655d510a",
   "metadata": {},
   "outputs": [
    {
     "data": {
      "text/plain": [
       "[{'name': 'AP', 'city': 3, 'cityA': ['Amravathi', 'Anakala']},\n",
       " {'name': 'MP', 'city': 3, 'cityA': ['Abd', 'Ade']}]"
      ]
     },
     "execution_count": 13,
     "metadata": {},
     "output_type": "execute_result"
    }
   ],
   "source": [
    "dic=[{\"name\":\"AP\",\"city\":[\"vizag\",\"Amravathi\",\"Anakala\",\"kur\",\"nandyala\"]},{\"name\":\"MP\",\"city\":[\"Abd\",\"cda\",\"Ade\",\"kur\",\"d\"]}]\n",
    "for i in dic:\n",
    "    c=0\n",
    "    d=[]\n",
    "    for j in i['city']:\n",
    "        c=c+1\n",
    "        if j[0]=='A' or j[0]=='a':\n",
    "            d.append(j)\n",
    "            i['city']=c\n",
    "            i['cityA']=d\n",
    "dic"
   ]
  },
  {
   "cell_type": "code",
   "execution_count": 14,
   "id": "209c88ec",
   "metadata": {},
   "outputs": [
    {
     "data": {
      "text/plain": [
       "17"
      ]
     },
     "execution_count": 14,
     "metadata": {},
     "output_type": "execute_result"
    }
   ],
   "source": [
    "x={\"name\": \"vasu\",\"id\": \"1234567\"}\n",
    "sum=0\n",
    "for i,j in x.items():\n",
    "    sum=sum+len(i)+len(j)\n",
    "sum"
   ]
  },
  {
   "cell_type": "code",
   "execution_count": 16,
   "id": "407d3ba9",
   "metadata": {},
   "outputs": [
    {
     "data": {
      "text/plain": [
       "[2]"
      ]
     },
     "execution_count": 16,
     "metadata": {},
     "output_type": "execute_result"
    }
   ],
   "source": [
    "x=[[1,2,3],[3,4,2],[4,2,6,1]]\n",
    "n=[]\n",
    "for i in x[0]:\n",
    "    for j in x[1]:\n",
    "        for k in x[2]:\n",
    "            if i==j and j==k:\n",
    "                n.append(i)\n",
    "n\n",
    "                "
   ]
  },
  {
   "cell_type": "code",
   "execution_count": 33,
   "id": "c1a067ec",
   "metadata": {},
   "outputs": [
    {
     "data": {
      "text/plain": [
       "[(2, 1), (1, 2), (2, 3), (4, 4), (2, 5)]"
      ]
     },
     "execution_count": 33,
     "metadata": {},
     "output_type": "execute_result"
    }
   ],
   "source": [
    "l = [(2, 5), (1, 2), (4, 4), (2, 3), (2, 1)]\n",
    "a=[]\n",
    "for i in l:\n",
    "    a.append(i[1])\n",
    "b=sorted(a)\n",
    "d=[]\n",
    "for j in b:\n",
    "    for k in l:\n",
    "        if k[1]==j:\n",
    "            d.append(k)\n",
    "d"
   ]
  },
  {
   "cell_type": "code",
   "execution_count": 35,
   "id": "ae262868",
   "metadata": {},
   "outputs": [
    {
     "data": {
      "text/plain": [
       "['my', 'name', 'is', 'Narssimha']"
      ]
     },
     "execution_count": 35,
     "metadata": {},
     "output_type": "execute_result"
    }
   ],
   "source": [
    "x=['m','na','i','Nars']\n",
    "y=['y','me','s','simha']\n",
    "d=[]\n",
    "for i in range(len(x)):\n",
    "    d.append(x[i]+y[i])\n",
    "d"
   ]
  },
  {
   "cell_type": "code",
   "execution_count": 36,
   "id": "cea27a3d",
   "metadata": {},
   "outputs": [
    {
     "data": {
      "text/plain": [
       "{'g': 2, 'o': 3, 'l': 1, 'e': 1, '.': 1, 'c': 1, 'm': 1}"
      ]
     },
     "execution_count": 36,
     "metadata": {},
     "output_type": "execute_result"
    }
   ],
   "source": [
    "s='google.com'\n",
    "d={}\n",
    "for i in s:\n",
    "    keys=d.keys()\n",
    "    if  i in keys:\n",
    "        d[i]=d[i]+1\n",
    "    else:\n",
    "        d[i]=1\n",
    "d\n",
    "    "
   ]
  },
  {
   "cell_type": "code",
   "execution_count": null,
   "id": "a3a7c1e2",
   "metadata": {},
   "outputs": [],
   "source": []
  },
  {
   "cell_type": "code",
   "execution_count": null,
   "id": "b8bc40f1",
   "metadata": {},
   "outputs": [],
   "source": []
  },
  {
   "cell_type": "code",
   "execution_count": null,
   "id": "f3ee0452",
   "metadata": {},
   "outputs": [],
   "source": []
  },
  {
   "cell_type": "code",
   "execution_count": null,
   "id": "d1d79645",
   "metadata": {},
   "outputs": [],
   "source": []
  },
  {
   "cell_type": "code",
   "execution_count": null,
   "id": "2895e6e5",
   "metadata": {},
   "outputs": [],
   "source": []
  },
  {
   "cell_type": "code",
   "execution_count": null,
   "id": "7f8274df",
   "metadata": {},
   "outputs": [],
   "source": []
  },
  {
   "cell_type": "code",
   "execution_count": null,
   "id": "79e2f5f7",
   "metadata": {},
   "outputs": [],
   "source": []
  }
 ],
 "metadata": {
  "kernelspec": {
   "display_name": "Python 3 (ipykernel)",
   "language": "python",
   "name": "python3"
  },
  "language_info": {
   "codemirror_mode": {
    "name": "ipython",
    "version": 3
   },
   "file_extension": ".py",
   "mimetype": "text/x-python",
   "name": "python",
   "nbconvert_exporter": "python",
   "pygments_lexer": "ipython3",
   "version": "3.9.13"
  }
 },
 "nbformat": 4,
 "nbformat_minor": 5
}
